{
 "cells": [
  {
   "cell_type": "markdown",
   "metadata": {},
   "source": [
    "1. YouTube offers different playback speed options for users. This allows users to increase or decrease the speed of the video content. Given the actual duration and playback speed of the video, calculate the playback duration of the video."
   ]
  },
  {
   "cell_type": "code",
   "execution_count": 32,
   "metadata": {},
   "outputs": [
    {
     "name": "stdout",
     "output_type": "stream",
     "text": [
      "102:40:18\n",
      "0:15:0\n",
      "0:53:20\n"
     ]
    }
   ],
   "source": [
    "import datetime\n",
    "import time\n",
    "def playback_duration(time1,duration):\n",
    "    \n",
    "    h,m,s =time1.split(':')    \n",
    "    time_in_seconds =int((int(h)*3600 + int(m)*60 +int(s))/duration)    \n",
    "    time_in_hour =time_in_seconds//3600   \n",
    "    time1=time_in_seconds%3600    \n",
    "    time_in_minutes =time1//60    \n",
    "    time_in_seconds =time1%60\n",
    "    \n",
    "    print(\"{}:{}:{}\".format(time_in_hour,time_in_minutes,time_in_seconds))\n",
    "    \n",
    "   \n",
    "playback_duration(\"51:20:09\", 0.5)\n",
    "playback_duration(\"00:30:00\", 2)\n",
    "playback_duration(\"01:20:00\", 1.5)\n"
   ]
  },
  {
   "cell_type": "raw",
   "metadata": {},
   "source": []
  },
  {
   "cell_type": "markdown",
   "metadata": {},
   "source": [
    "2. We needs your help to construct a building which will be a pile of n cubes. The cube at the bottom will have a volume of n^3, the cube above will have volume of (n-1)^3 and so on until the top which will have a volume of 1^3.\n",
    "\n",
    "Given the total volume m of the building, can you find the number of cubes n required for the building?\n",
    "\n",
    "In other words, you have to return an integer n such that:\n",
    "\n",
    "n^3 + (n-1)^3 + ... + 1^3 == m\n",
    "\n",
    "Return None if there is no such number."
   ]
  },
  {
   "cell_type": "code",
   "execution_count": 57,
   "metadata": {},
   "outputs": [
    {
     "name": "stdout",
     "output_type": "stream",
     "text": [
      "None\n",
      "45\n",
      "2022\n"
     ]
    }
   ],
   "source": [
    "def pile_of_cubes(m):\n",
    "    if 1 ** 3 == m:\n",
    "        return 1\n",
    "    else:\n",
    "        n = 2\n",
    "        volume = 1\n",
    "        while volume < m:\n",
    "            volume = volume + n ** 3\n",
    "            if volume == m:\n",
    "                return n\n",
    "            else:\n",
    "                n = n + 1\n",
    "                continue\n",
    "        return \"None\"\n",
    "    \n",
    "print(pile_of_cubes(16))\n",
    "print(pile_of_cubes(1071225))\n",
    "print(pile_of_cubes(4183059834009))\n",
    "              "
   ]
  },
  {
   "cell_type": "code",
   "execution_count": null,
   "metadata": {},
   "outputs": [],
   "source": []
  },
  {
   "cell_type": "markdown",
   "metadata": {},
   "source": [
    "3 .A fulcrum of a list is an integer such that all elements to the left of it and all elements to the right of it sum to the same value. Write a function that finds the fulcrum of a list."
   ]
  },
  {
   "cell_type": "code",
   "execution_count": 68,
   "metadata": {},
   "outputs": [
    {
     "name": "stdout",
     "output_type": "stream",
     "text": [
      "1\n",
      "2\n",
      "4\n",
      "5\n",
      "7\n",
      "11\n",
      "12\n",
      "14\n",
      "18\n",
      "27\n",
      "28\n",
      "30\n",
      "34\n",
      "43\n",
      "53\n",
      "54\n",
      "56\n",
      "60\n",
      "69\n",
      "79\n",
      "69\n",
      "70\n",
      "72\n",
      "76\n",
      "85\n",
      "95\n",
      "85\n",
      "76\n"
     ]
    }
   ],
   "source": [
    "def fulcrum(list):\n",
    "    \n",
    "    leftsum =0\n",
    "    rightsum=0\n",
    "    \n",
    "    n=len(list)\n",
    "    \n",
    "    for i in range(1,n):\n",
    "        \n",
    "        for j in range(i):\n",
    "            leftsum =leftsum+list[j]\n",
    "            print(leftsum)\n",
    "        for k in range(i+1,n):\n",
    "            rightsum=rightsum+list[k]\n",
    "        \n",
    "        \n",
    "        if leftsum ==rightsum:\n",
    "            print(i)\n",
    "        \n",
    "\n",
    "fulcrum([1, 2, 4, 9, 10, -10, -9, 3])\n"
   ]
  },
  {
   "cell_type": "markdown",
   "metadata": {},
   "source": []
  },
  {
   "cell_type": "markdown",
   "metadata": {},
   "source": [
    "4. Given a list of integers representing the color of each sock, determine how many pairs of socks with matching colors there are. For example, there are 7 socks with colors [1, 2, 1, 2, 1, 3, 2]. There is one pair of color 1 and one of color 2. There are three odd socks left, one of each color. The number of pairs is 2.\n",
    "\n",
    "Create a function that returns an integer representing the number of matching pairs of socks that are available."
   ]
  },
  {
   "cell_type": "code",
   "execution_count": 21,
   "metadata": {},
   "outputs": [
    {
     "name": "stdout",
     "output_type": "stream",
     "text": [
      "0\n"
     ]
    }
   ],
   "source": [
    "def sock_merchant(list):\n",
    "    freq ={}\n",
    "    if list==[]:\n",
    "        print(0)\n",
    "    else:\n",
    "        for x in list:\n",
    "            if x in freq:\n",
    "                freq[x]+=1\n",
    "            else:\n",
    "                freq[x]=1\n",
    "        sum=0\n",
    "        for items,values in freq.items():\n",
    "            if values>=2:\n",
    "                sum=sum+values\n",
    "            res=sum//2\n",
    "    \n",
    "sock_merchant([10, 20, 20, 10, 10, 30, 50, 10, 20])\n",
    "sock_merchant([50, 20, 30, 90, 30, 20, 50, 20, 90])\n",
    "sock_merchant([])"
   ]
  },
  {
   "cell_type": "markdown",
   "metadata": {},
   "source": []
  },
  {
   "cell_type": "markdown",
   "metadata": {},
   "source": [
    "5. Create a function that takes a string containing integers as well as other characters and return the sum of the negative integers only."
   ]
  },
  {
   "cell_type": "code",
   "execution_count": 40,
   "metadata": {},
   "outputs": [
    {
     "name": "stdout",
     "output_type": "stream",
     "text": [
      "-23\n",
      "-33\n"
     ]
    }
   ],
   "source": [
    "import re\n",
    "def negative_sum(expression):\n",
    "    result =[int(d) for d in re.findall(r'-?\\d+',expression)]\n",
    "    sum=0\n",
    "    for i in result:\n",
    "        if i<0:\n",
    "            sum=sum+i\n",
    "    print(sum)\n",
    "negative_sum(\"-12 13%14&-11\")\n",
    "negative_sum(\"22 13%14&-11-22 13 12\")"
   ]
  },
  {
   "cell_type": "code",
   "execution_count": null,
   "metadata": {},
   "outputs": [],
   "source": []
  },
  {
   "cell_type": "code",
   "execution_count": null,
   "metadata": {},
   "outputs": [],
   "source": []
  },
  {
   "cell_type": "code",
   "execution_count": null,
   "metadata": {},
   "outputs": [],
   "source": []
  }
 ],
 "metadata": {
  "kernelspec": {
   "display_name": "Python 3",
   "language": "python",
   "name": "python3"
  },
  "language_info": {
   "codemirror_mode": {
    "name": "ipython",
    "version": 3
   },
   "file_extension": ".py",
   "mimetype": "text/x-python",
   "name": "python",
   "nbconvert_exporter": "python",
   "pygments_lexer": "ipython3",
   "version": "3.8.3"
  }
 },
 "nbformat": 4,
 "nbformat_minor": 4
}
