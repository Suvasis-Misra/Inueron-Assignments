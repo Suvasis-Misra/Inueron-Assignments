{
 "cells": [
  {
   "cell_type": "markdown",
   "metadata": {},
   "source": [
    "1. Create a function that takes a list and returns a new list containing only prime numbers."
   ]
  },
  {
   "cell_type": "code",
   "execution_count": 6,
   "metadata": {},
   "outputs": [
    {
     "name": "stdout",
     "output_type": "stream",
     "text": [
      "[7, 3, 11]\n",
      "[10007, 1009]\n",
      "[1009, 3, 1, 61, 1087, 1091, 1093, 1097]\n"
     ]
    }
   ],
   "source": [
    "def filter_primes(list):\n",
    "    \n",
    "    list_primes=[]\n",
    "    for variable in list:\n",
    "        if variable >0:\n",
    "            for i in range(2,variable):\n",
    "                if variable %i ==0:\n",
    "                    break\n",
    "                \n",
    "            else:\n",
    "                list_primes.append(variable)\n",
    "    \n",
    "    print(list_primes)\n",
    "\n",
    "list_primes =[]\n",
    "filter_primes([7, 9, 3, 9, 10, 11, 27])\n",
    "filter_primes([10007, 1009, 1007, 27, 147, 77, 1001, 70])\n",
    "filter_primes([1009, 10, 10, 10, 3, 33, 9, 4, 1, 61, 63, 69, 1087, 1091, 1093, 1097])"
   ]
  },
  {
   "cell_type": "markdown",
   "metadata": {},
   "source": []
  },
  {
   "cell_type": "markdown",
   "metadata": {},
   "source": [
    "2. Once a water balloon pops, is soaks the area around it. The ground gets drier the further away you travel from the balloon.\n",
    "\n",
    "The effect of a water balloon popping can be modeled using a list. Create a function that takes a list which takes the pre-pop state and returns the state after the balloon is popped. The pre-pop state will contain at most a single balloon, whose size is represented by the only non-zero element."
   ]
  },
  {
   "cell_type": "code",
   "execution_count": 18,
   "metadata": {},
   "outputs": [
    {
     "name": "stdout",
     "output_type": "stream",
     "text": [
      "[0, 1, 2, 3, 2, 1, 0]\n",
      "[0, 1, 2, 3, 4, 3, 2, 1, 0]\n",
      "[0, 1, 2, 1, 0]\n",
      "[0]\n"
     ]
    }
   ],
   "source": [
    "def pop(list):\n",
    "    \n",
    "    length= len(list)    \n",
    "    mid_length =round(length//2)\n",
    "    \n",
    "    if length ==1:\n",
    "        for i in list:\n",
    "            if i==0:\n",
    "                print('[0]')\n",
    "    \n",
    "    else:\n",
    "                \n",
    "        for count,ele  in enumerate(list):\n",
    "            if ele !=0:\n",
    "                res =count\n",
    "        c=0\n",
    "        for i in range(0,res):\n",
    "            list[i]=i\n",
    "        c=mid_length-1\n",
    "        for j in range(res+1 ,length):\n",
    "            list[j]=c\n",
    "            c=c-1\n",
    "\n",
    "        print(list)\n",
    "        \n",
    "pop([0, 0, 0, 3, 0, 0, 0])\n",
    "pop([0, 0, 0, 0, 4, 0, 0, 0, 0])\n",
    "pop([0, 0, 2, 0, 0])\n",
    "pop([0])\n",
    "\n",
    "\n",
    "            "
   ]
  },
  {
   "cell_type": "code",
   "execution_count": null,
   "metadata": {},
   "outputs": [],
   "source": []
  },
  {
   "cell_type": "markdown",
   "metadata": {},
   "source": [
    "3. \"Loves me, loves me not\" is a traditional game in which a person plucks off all the petals of a flower one by one, saying the phrase \"Loves me\" and \"Loves me not\" when determining whether the one that they love, loves them back.\n",
    "\n",
    "Given a number of petals, return a string which repeats the phrases \"Loves me\" and \"Loves me not\" for every alternating petal, and return the last phrase in all caps. Remember to put a comma and space between phrases."
   ]
  },
  {
   "cell_type": "code",
   "execution_count": 66,
   "metadata": {},
   "outputs": [
    {
     "name": "stdout",
     "output_type": "stream",
     "text": [
      "Loves me , Loves me not ,LOVES ME\n",
      "Loves me , Loves me not ,Loves me , Loves me not ,Loves me , LOVES ME NOT\n",
      "LOVES ME\n"
     ]
    }
   ],
   "source": [
    "from itertools import cycle\n",
    "def loves_me(number):\n",
    "    \n",
    "    txt=\"Loves me, Loves me not\"\n",
    "    \n",
    "    list_txt =txt.split(',')\n",
    "    \n",
    "\n",
    "    pool =cycle(list_txt)\n",
    "    \n",
    "    for i in range(number):\n",
    "        if i ==number-1:\n",
    "            print(next(pool).upper())\n",
    "        else:\n",
    "            print(str(next(pool)),end=\" ,\")\n",
    "\n",
    "    \n",
    "    \n",
    "        \n",
    "loves_me(3)\n",
    "loves_me(6)\n",
    "loves_me(1) "
   ]
  },
  {
   "cell_type": "code",
   "execution_count": null,
   "metadata": {},
   "outputs": [],
   "source": []
  },
  {
   "cell_type": "markdown",
   "metadata": {},
   "source": [
    "4. Write a function that sorts each string in a list by the letter in alphabetic ascending order (a-z)."
   ]
  },
  {
   "cell_type": "code",
   "execution_count": 95,
   "metadata": {},
   "outputs": [
    {
     "name": "stdout",
     "output_type": "stream",
     "text": [
      "['2344b', '932c', '832u32']\n",
      "['99a', '78b', 'c2345', '11d']\n",
      "['304q2', '5y5', '572z']\n",
      "[]\n"
     ]
    }
   ],
   "source": [
    "def sort_by_letter(list):\n",
    "    if len(list) == 0:\n",
    "        print('[]')\n",
    "    else:\n",
    "        list_char=[]\n",
    "        dictionary ={}\n",
    "        for count,ele in enumerate(list):\n",
    "            for char in ele:\n",
    "                if char.isalpha()==True:\n",
    "                    dictionary[char]=ele\n",
    "                else:\n",
    "                    pass\n",
    "        dictionary_items =dictionary.items()    \n",
    "        sorted_items =sorted(dictionary_items)\n",
    "        list_sorted_items=[]\n",
    "        for item in sorted_items:\n",
    "            if len(item)!=0:\n",
    "                list_sorted_items.append(item[1])\n",
    "\n",
    "        print(list_sorted_items)\n",
    "sort_by_letter([\"932c\", \"832u32\", \"2344b\"])\n",
    "sort_by_letter([\"99a\", \"78b\", \"c2345\", \"11d\"])\n",
    "sort_by_letter([\"572z\", \"5y5\", \"304q2\"])\n",
    "sort_by_letter([])\n",
    "        "
   ]
  },
  {
   "cell_type": "code",
   "execution_count": null,
   "metadata": {},
   "outputs": [],
   "source": []
  },
  {
   "cell_type": "markdown",
   "metadata": {},
   "source": [
    "However, I perform several swaps on the cups, which is notated as two letters. For example, if I swap the cups at positions A and B, I could notate this as AB or BA.\n",
    "\n",
    "Create a function that returns the letter position that the ball is at, once I finish swapping the cups. The swaps will be given to you as a list."
   ]
  },
  {
   "cell_type": "code",
   "execution_count": 104,
   "metadata": {},
   "outputs": [
    {
     "name": "stdout",
     "output_type": "stream",
     "text": [
      "C\n"
     ]
    }
   ],
   "source": [
    "def cup_swapping(list):\n",
    "\n",
    "    ballpoint ='B'\n",
    "    \n",
    "    for index in range(0,len(list)):\n",
    "        if (ballpoint =='B' ) and list[index] =='AB':\n",
    "            ballpoint ='A'\n",
    "        \n",
    "        elif (ballpoint =='A') and list[index] =='CA':\n",
    "            ballpoint =\"C\"\n",
    "        elif (ballpoint =='A' and list[index] =='AB'):\n",
    "            ballpoint ='B'\n",
    "            \n",
    "        else:\n",
    "            pass\n",
    "    \n",
    "    print(ballpoint)\n",
    "    \n",
    "cup_swapping([\"AB\", \"CA\", \"AB\"])\n",
    "\n",
    "            \n",
    "    \n",
    "            \n",
    "    "
   ]
  },
  {
   "cell_type": "code",
   "execution_count": null,
   "metadata": {},
   "outputs": [],
   "source": []
  }
 ],
 "metadata": {
  "kernelspec": {
   "display_name": "Python 3",
   "language": "python",
   "name": "python3"
  },
  "language_info": {
   "codemirror_mode": {
    "name": "ipython",
    "version": 3
   },
   "file_extension": ".py",
   "mimetype": "text/x-python",
   "name": "python",
   "nbconvert_exporter": "python",
   "pygments_lexer": "ipython3",
   "version": "3.8.3"
  }
 },
 "nbformat": 4,
 "nbformat_minor": 4
}
