{
 "cells": [
  {
   "cell_type": "markdown",
   "metadata": {},
   "source": [
    "1. For this challenge, forget how to add two numbers together. The best explanation on what to do for this function is this meme:"
   ]
  },
  {
   "cell_type": "code",
   "execution_count": null,
   "metadata": {},
   "outputs": [],
   "source": []
  },
  {
   "cell_type": "markdown",
   "metadata": {},
   "source": [
    "2. Given an integer, create a function that returns the next prime. If the number is prime, return the number itself.a"
   ]
  },
  {
   "cell_type": "code",
   "execution_count": 4,
   "metadata": {},
   "outputs": [
    {
     "name": "stdout",
     "output_type": "stream",
     "text": [
      "13\n",
      "29\n",
      "11\n"
     ]
    }
   ],
   "source": [
    "def next_prime(n):\n",
    "    \n",
    "    for i in range(2,n):\n",
    "        if n %i ==0:\n",
    "            next_prime(n+1)\n",
    "            break\n",
    "    else:\n",
    "        print(n)\n",
    "\n",
    "next_prime(12)\n",
    "next_prime(24)\n",
    "next_prime(11)\n"
   ]
  },
  {
   "cell_type": "code",
   "execution_count": null,
   "metadata": {},
   "outputs": [],
   "source": []
  },
  {
   "cell_type": "markdown",
   "metadata": {},
   "source": [
    "3. If a person traveled up a hill for 18mins at 20mph and then traveled back down the same path at 60mph then their average speed traveled was 30mph.\n",
    "\n",
    "Write a function that returns the average speed traveled given an uphill time, uphill rate and a downhill rate. Uphill time is given in minutes. Return the rate as an integer (mph). No rounding is necessary."
   ]
  },
  {
   "cell_type": "code",
   "execution_count": 13,
   "metadata": {},
   "outputs": [
    {
     "name": "stdout",
     "output_type": "stream",
     "text": [
      "30.0\n",
      "15.0\n",
      "12.0\n"
     ]
    }
   ],
   "source": [
    "def ave_spd(time1,speed1,speed2):\n",
    "    \n",
    "    distance_in_miles =(time1/60)*speed1\n",
    "    time2 =(distance_in_miles/speed2)* 60    \n",
    "    total_distance =2*distance_in_miles    \n",
    "    total_time =time1+time2    \n",
    "    average_speed  =(total_distance*60)/total_time\n",
    "    \n",
    "    print(average_speed)\n",
    "\n",
    "ave_spd(18, 20, 60)\n",
    "ave_spd(30, 10, 30)\n",
    "ave_spd(30,8,24)"
   ]
  },
  {
   "cell_type": "code",
   "execution_count": null,
   "metadata": {},
   "outputs": [],
   "source": []
  },
  {
   "cell_type": "markdown",
   "metadata": {},
   "source": [
    "4. The Kempner Function, applied to a composite number, permits to find the smallest integer greater than zero whose factorial is exactly divided by the number.\n",
    "\n"
   ]
  },
  {
   "cell_type": "code",
   "execution_count": 26,
   "metadata": {},
   "outputs": [
    {
     "name": "stdout",
     "output_type": "stream",
     "text": [
      "2\n",
      "5\n",
      "5\n",
      "3\n"
     ]
    }
   ],
   "source": [
    "def kempner(number):\n",
    "    \n",
    "    res = 1\n",
    "    n=2  \n",
    "    result_type =prime_number_check(number)\n",
    "    if result_type ==False:        \n",
    "        for i in range(2, number):\n",
    "            res *= i\n",
    "            if res%number ==0 :\n",
    "                print(i)\n",
    "                break\n",
    "            else:\n",
    "                continue\n",
    "    else:\n",
    "        print(number)\n",
    "\n",
    "def prime_number_check(number):\n",
    "    \n",
    "    for i in range(2,number):\n",
    "        if number%i ==0:\n",
    "            return False\n",
    "            break \n",
    "            \n",
    "    else:\n",
    "        return True\n",
    "    \n",
    "\n",
    "kempner(2)\n",
    "kempner(5)\n",
    "kempner(10)\n",
    "kempner(6)\n",
    "\n"
   ]
  },
  {
   "cell_type": "markdown",
   "metadata": {},
   "source": []
  },
  {
   "cell_type": "markdown",
   "metadata": {},
   "source": [
    "5. You work in a factory, and your job is to take items from a conveyor belt and pack them into boxes. Each box can hold a maximum of 10 kgs. Given a list containing the weight (in kg) of each item, how many boxes would you need to pack all of the items?"
   ]
  },
  {
   "cell_type": "code",
   "execution_count": 10,
   "metadata": {},
   "outputs": [
    {
     "name": "stdout",
     "output_type": "stream",
     "text": [
      "[2, 1, 2, 5]\n"
     ]
    }
   ],
   "source": [
    "def boxes(list):\n",
    "    list_replica= []\n",
    "    list_additional =[]\n",
    "    sum =0\n",
    "    sum1=0\n",
    "    j=0\n",
    "    for i in range(0,len(list)):\n",
    "            sum =sum+list[i]\n",
    "            if sum <=10:\n",
    "                list_replica.append(list[i])\n",
    "                    \n",
    "    print(list_replica)\n",
    "boxes([2, 1, 2, 5, 4, 3, 6, 1, 1, 9, 3, 2])"
   ]
  },
  {
   "cell_type": "code",
   "execution_count": null,
   "metadata": {},
   "outputs": [],
   "source": []
  }
 ],
 "metadata": {
  "kernelspec": {
   "display_name": "Python 3",
   "language": "python",
   "name": "python3"
  },
  "language_info": {
   "codemirror_mode": {
    "name": "ipython",
    "version": 3
   },
   "file_extension": ".py",
   "mimetype": "text/x-python",
   "name": "python",
   "nbconvert_exporter": "python",
   "pygments_lexer": "ipython3",
   "version": "3.8.3"
  }
 },
 "nbformat": 4,
 "nbformat_minor": 4
}
