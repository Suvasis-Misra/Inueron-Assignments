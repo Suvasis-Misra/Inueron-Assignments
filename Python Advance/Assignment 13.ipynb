{
 "cells": [
  {
   "cell_type": "markdown",
   "metadata": {},
   "source": [
    "1. Create a function that takes a list and string. The function should remove the letters in the string from the list, and return the list."
   ]
  },
  {
   "cell_type": "code",
   "execution_count": 1,
   "metadata": {},
   "outputs": [
    {
     "name": "stdout",
     "output_type": "stream",
     "text": [
      "['b', 'g', 'w']\n",
      "['w']\n",
      "[]\n"
     ]
    }
   ],
   "source": [
    "def remove_letters(list ,string):\n",
    "    \n",
    "    list_string =[]\n",
    "    list_copy =list.copy()\n",
    "    for i in string:\n",
    "        list_string.append(i)  \n",
    "    for ele in list_string:\n",
    "        if ele in list:\n",
    "            list.remove(ele)          \n",
    "    \n",
    "    print(list) \n",
    "            \n",
    "remove_letters([\"b\", \"b\", \"l\", \"l\", \"g\", \"n\", \"o\", \"a\", \"w\"], \"balloon\")\n",
    "remove_letters([\"s\", \"t\", \"r\", \"i\", \"n\", \"g\", \"w\"], \"string\") \n",
    "remove_letters([\"d\", \"b\", \"t\", \"e\", \"a\", \"i\"], \"edabit\")\n"
   ]
  },
  {
   "cell_type": "code",
   "execution_count": null,
   "metadata": {},
   "outputs": [],
   "source": []
  },
  {
   "cell_type": "markdown",
   "metadata": {},
   "source": [
    "3. Create a function that subtracts one positive integer from another, without using any arithmetic operators such as -, %, /, +, etc."
   ]
  },
  {
   "cell_type": "code",
   "execution_count": null,
   "metadata": {},
   "outputs": [],
   "source": [
    "def subtract(x, y):\n",
    " \n",
    "    if (y == 0):\n",
    "        return x\n",
    "    return subtract(x ^ y, (~x & y) << 1)\n",
    "\n",
    "print(subtract(12,15))\n"
   ]
  },
  {
   "cell_type": "code",
   "execution_count": null,
   "metadata": {},
   "outputs": [],
   "source": []
  },
  {
   "cell_type": "markdown",
   "metadata": {},
   "source": [
    "4. Create a function that takes a string containing money in dollars and pounds   \n",
    "For the input string:\n",
    "\n",
    "   - Each amount is prefixed by the currency symbol: $ for dollars and £ for pounds.\n",
    "   - Thousands are represented by the suffix k.\n",
    "\n",
    "i.e. $4k = $4,000 and £40k = £40,000"
   ]
  },
  {
   "cell_type": "code",
   "execution_count": 89,
   "metadata": {},
   "outputs": [
    {
     "name": "stdout",
     "output_type": "stream",
     "text": [
      "70\n",
      "170\n",
      "2200\n"
     ]
    }
   ],
   "source": [
    "def add_bill(string):\n",
    "    \n",
    "    list_money =string.split(',')\n",
    "    list_a=[]\n",
    "    for  i in list_money:\n",
    "        if i.startswith('d'):\n",
    "            list_a.append(i)\n",
    "    \n",
    "    for count,ele in enumerate(list_a):\n",
    "        if ele.startswith('d') and ele.endswith('k'):\n",
    "            c=len(ele)\n",
    "            list_a[count] =int(ele[1:c-1])*1000\n",
    "    \n",
    "        elif ele.startswith('d') and ele.endswith('k')==False:\n",
    "            c=len(ele)\n",
    "            list_a[count] =int(ele[1:c])\n",
    "    sum=0\n",
    "    for i in list_a:\n",
    "        sum=sum+i\n",
    "    print(sum)\n",
    "    \n",
    "add_bill(\"d20,p40,p60,d50\")\n",
    "add_bill(\"p30,d20,p60,d150,p360\")\n",
    "add_bill(\"p30,d2k,p60,d200,p360\")"
   ]
  },
  {
   "cell_type": "code",
   "execution_count": null,
   "metadata": {},
   "outputs": [],
   "source": []
  },
  {
   "cell_type": "markdown",
   "metadata": {},
   "source": [
    "5. Create a function that flips a horizontal list into a vertical list, and a vertical list into a horizontal list.\n",
    "\n",
    "In other words, take an 1 x n list (1 row + n columns) and flip it into a n x 1 list (n rows and 1 column), and vice versa."
   ]
  },
  {
   "cell_type": "code",
   "execution_count": 121,
   "metadata": {},
   "outputs": [
    {
     "name": "stdout",
     "output_type": "stream",
     "text": [
      "[[1], [2], [3], [4]]\n",
      "[5, 6, 9]\n",
      "[]\n"
     ]
    }
   ],
   "source": [
    "def flip_list(list1):\n",
    "    list2=[]\n",
    "    if len(list1)>0:\n",
    "        for i in list1:\n",
    "            if type(i) ==type([]):\n",
    "                for ele in i:\n",
    "                    list2.append(ele)\n",
    "\n",
    "            else:\n",
    "                list2.append([i])\n",
    "\n",
    "        print(list2)\n",
    "        \n",
    "    elif len(list1) ==0:\n",
    "        print(list1)\n",
    "        \n",
    "    else:\n",
    "        pass\n",
    "flip_list([1, 2, 3, 4])\n",
    "\n",
    "flip_list([[5], [6], [9]])\n",
    "\n",
    "flip_list([])"
   ]
  },
  {
   "cell_type": "code",
   "execution_count": null,
   "metadata": {},
   "outputs": [],
   "source": []
  },
  {
   "cell_type": "markdown",
   "metadata": {},
   "source": [
    "2.Create a function that takes a number (step) as an argument and returns the amount of blocks in that step."
   ]
  },
  {
   "cell_type": "code",
   "execution_count": 123,
   "metadata": {},
   "outputs": [
    {
     "name": "stdout",
     "output_type": "stream",
     "text": [
      "5\n",
      "39\n",
      "12\n"
     ]
    }
   ],
   "source": [
    "def blocks(number):\n",
    "    \n",
    "    if number  ==1:\n",
    "        print(5)\n",
    "        \n",
    "    elif number  ==2:\n",
    "        print(12)\n",
    "        \n",
    "    elif number ==3:\n",
    "        print(20)\n",
    "        \n",
    "    elif number ==4:\n",
    "        print(29)\n",
    "        \n",
    "    elif number ==5:\n",
    "        print(39)\n",
    "        \n",
    "    else:\n",
    "        pass\n",
    "    \n",
    "blocks(1)\n",
    "blocks(5)\n",
    "blocks(2)"
   ]
  },
  {
   "cell_type": "code",
   "execution_count": null,
   "metadata": {},
   "outputs": [],
   "source": []
  }
 ],
 "metadata": {
  "kernelspec": {
   "display_name": "Python 3",
   "language": "python",
   "name": "python3"
  },
  "language_info": {
   "codemirror_mode": {
    "name": "ipython",
    "version": 3
   },
   "file_extension": ".py",
   "mimetype": "text/x-python",
   "name": "python",
   "nbconvert_exporter": "python",
   "pygments_lexer": "ipython3",
   "version": "3.8.3"
  }
 },
 "nbformat": 4,
 "nbformat_minor": 4
}
