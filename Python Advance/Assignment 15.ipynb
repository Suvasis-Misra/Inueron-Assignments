{
 "cells": [
  {
   "cell_type": "markdown",
   "metadata": {},
   "source": [
    "1. Write a function that returns True if a given name can generate an array of words."
   ]
  },
  {
   "cell_type": "code",
   "execution_count": 34,
   "metadata": {},
   "outputs": [
    {
     "name": "stdout",
     "output_type": "stream",
     "text": [
      "True\n",
      "True\n",
      "False\n",
      "False\n"
     ]
    }
   ],
   "source": [
    "def anagram(string_final ,list):\n",
    "    string1=\"\".join(list).lower()\n",
    "    string2 =string_final.replace(\" \",\"\").lower()\n",
    "    c=1\n",
    "    if len(string1)==len(string2):\n",
    "        for i in string1:\n",
    "            if i in string2:\n",
    "                pass\n",
    "                \n",
    "            else:\n",
    "                print(\"False\")\n",
    "                break\n",
    "        else:\n",
    "            print(\"True\")\n",
    "            \n",
    "    else:\n",
    "        print(\"False\")\n",
    "\n",
    "anagram(\"Justin Bieber\", [\"injures\", \"ebb\", \"it\"])\n",
    "anagram(\"Natalie Portman\", [\"ornamental\", \"pita\"]) \n",
    "anagram(\"Chris Pratt\", [\"chirps\", \"rat\"])\n",
    "anagram(\"Jeff Goldblum\", [\"jog\", \"meld\", \"bluffs\"])"
   ]
  },
  {
   "cell_type": "code",
   "execution_count": null,
   "metadata": {},
   "outputs": [],
   "source": []
  },
  {
   "cell_type": "markdown",
   "metadata": {},
   "source": [
    "2. Given an array of users, each defined by an object with the following properties: name, score, reputation create a function that sorts the array to form the correct leaderboard.\n",
    "\n",
    "The leaderboard takes into consideration the score of each user of course, but an emphasis is put on their reputation in the community, so to get the trueScore, you should add the reputation multiplied by 2 to the score.\n",
    "\n",
    "Once you know the trueScore of each user, sort the array according to it in descending order."
   ]
  },
  {
   "cell_type": "code",
   "execution_count": 78,
   "metadata": {},
   "outputs": [
    {
     "name": "stdout",
     "output_type": "stream",
     "text": [
      "[{'name': 'c', 'score': 115, 'reputation': 30}, {'name': 'b', 'score': 90, 'reputation': 40}, {'name': 'a', 'score': 100, 'reputation': 20}]\n"
     ]
    }
   ],
   "source": [
    "from operator import itemgetter\n",
    "def leaderboards(list1):\n",
    "    for i in list1:\n",
    "        i['Truescore'] =i['score']+2*i['reputation']\n",
    "    \n",
    "    list2=sorted(list1,key=itemgetter('Truescore'),reverse=True)\n",
    "    for i in list2:\n",
    "        i.pop('Truescore',None)\n",
    "        \n",
    "    print(list2)\n",
    "leaderboards([\n",
    "  { \"name\": \"a\", \"score\": 100, \"reputation\": 20 },\n",
    "  { \"name\": \"b\", \"score\": 90, \"reputation\": 40 },\n",
    "  { \"name\": \"c\", \"score\": 115, \"reputation\": 30 },\n",
    "])"
   ]
  },
  {
   "cell_type": "code",
   "execution_count": null,
   "metadata": {},
   "outputs": [],
   "source": []
  },
  {
   "cell_type": "markdown",
   "metadata": {},
   "source": [
    "Write a function that takes in an integer n and returns the highest integer in the corresponding Collatz sequence."
   ]
  },
  {
   "cell_type": "code",
   "execution_count": 8,
   "metadata": {},
   "outputs": [
    {
     "name": "stdout",
     "output_type": "stream",
     "text": [
      "16\n",
      "32\n",
      "256\n"
     ]
    }
   ],
   "source": [
    "\n",
    "def Colltaz(n):\n",
    "    list_sequence =[]\n",
    "    while n!=1:\n",
    "        list_sequence.append(n)\n",
    "        if n%2 ==0:\n",
    "            n=n//2            \n",
    "        else:\n",
    "            n=n*3 +1\n",
    "    \n",
    "    print(sorted(list_sequence,reverse=True)[0])\n",
    "    \n",
    "Colltaz(10)\n",
    "Colltaz(32) \n",
    "Colltaz(85)\n",
    "            "
   ]
  },
  {
   "cell_type": "code",
   "execution_count": null,
   "metadata": {},
   "outputs": [],
   "source": []
  },
  {
   "cell_type": "markdown",
   "metadata": {},
   "source": [
    "5. Write a function that sorts a list of integers by their digit length in descending order, then settles ties by sorting numbers with the same digit length in ascending order."
   ]
  },
  {
   "cell_type": "code",
   "execution_count": 54,
   "metadata": {},
   "outputs": [
    {
     "name": "stdout",
     "output_type": "stream",
     "text": [
      "[789, 563, 444, 9, 5, 2, 1]\n",
      "[53219, 3772, 564, 32, 1]\n",
      "[101, 77, 23, 7, 5]\n"
     ]
    }
   ],
   "source": [
    "from operator import itemgetter\n",
    "def digit_sort(list1):\n",
    "    dict1={}\n",
    "    for i in list1:\n",
    "        c=digit_count(i)\n",
    "        dict1[i] =c\n",
    "    \n",
    "    dict1 =sorted(dict1.items(), key =\n",
    "             lambda kv:(kv[1], kv[0]),reverse=True)\n",
    "    \n",
    "    list_sorted =[]\n",
    "    for count,items in enumerate(dict1):\n",
    "        if count <(len(dict1)-1):\n",
    "            if dict1[count][1] ==dict1[count+1][1] and dict1[count] >dict1[count+1]:\n",
    "                pass\n",
    "            elif dict1[count][1] ==dict1[count+1][1] and dict1[count] <dict1[count+1]:\n",
    "                c=count\n",
    "                dict1[count+1] =dict1[count]\n",
    "                dict1[count]=dict1[count+1]\n",
    "\n",
    "            else:\n",
    "                pass\n",
    "    listed_sorted=[]\n",
    "    for i in dict1:\n",
    "        listed_sorted.append(i[0])\n",
    "    \n",
    "    print(listed_sorted)\n",
    "def digit_count(number):\n",
    "    c=0\n",
    "    while number >0:\n",
    "        number =number//10\n",
    "        c+=1\n",
    "    \n",
    "    return c\n",
    "digit_sort([1, 5, 9, 2, 789, 563, 444])\n",
    "digit_sort([53219, 3772, 564, 32, 1])\n",
    "digit_sort([77, 23, 5, 7, 101])"
   ]
  },
  {
   "cell_type": "code",
   "execution_count": null,
   "metadata": {},
   "outputs": [],
   "source": []
  },
  {
   "cell_type": "code",
   "execution_count": null,
   "metadata": {},
   "outputs": [],
   "source": []
  }
 ],
 "metadata": {
  "kernelspec": {
   "display_name": "Python 3",
   "language": "python",
   "name": "python3"
  },
  "language_info": {
   "codemirror_mode": {
    "name": "ipython",
    "version": 3
   },
   "file_extension": ".py",
   "mimetype": "text/x-python",
   "name": "python",
   "nbconvert_exporter": "python",
   "pygments_lexer": "ipython3",
   "version": "3.8.3"
  }
 },
 "nbformat": 4,
 "nbformat_minor": 4
}
