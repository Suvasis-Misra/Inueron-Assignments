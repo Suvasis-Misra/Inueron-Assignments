{
 "cells": [
  {
   "cell_type": "markdown",
   "metadata": {},
   "source": [
    "1. Rondo Form is a type of musical structure, in which there is a recurring theme/refrain, notated as A. Here are the rules for valid rondo forms:"
   ]
  },
  {
   "cell_type": "code",
   "execution_count": 3,
   "metadata": {},
   "outputs": [
    {
     "name": "stdout",
     "output_type": "stream",
     "text": [
      "[0, 2, 4, 6, 8, 10, 12, 14, 16, 18]\n",
      "['A']\n"
     ]
    }
   ],
   "source": [
    "def valid_rondo(string1):\n",
    "    \n",
    "    if string1[0] ==string1[-1] =='A':\n",
    "        list_index_A =[]\n",
    "        for count,ele in enumerate(string1):\n",
    "            if string1[count] =='A':\n",
    "                list_index_A.append(count)\n",
    "        c=0\n",
    "        d=1\n",
    "        print(list_index_A)\n",
    "        list_2= []\n",
    "        for j in range(c,d):\n",
    "            if string1[j]!=string1[j+1]:\n",
    "                list_2.append(string1[j])\n",
    "                \n",
    "        c=d+1\n",
    "        d=c+1\n",
    "                \n",
    "        print(list_2)\n",
    "        \n",
    "valid_rondo((\"ABACADAEAFAGAHAIAJA\"))"
   ]
  },
  {
   "cell_type": "code",
   "execution_count": null,
   "metadata": {},
   "outputs": [],
   "source": []
  },
  {
   "cell_type": "markdown",
   "metadata": {},
   "source": [
    "\n",
    "2. Create a function that returns the whole of the first sentence which contains a specific word. Include the full stop at the end of the sentence."
   ]
  },
  {
   "cell_type": "code",
   "execution_count": 58,
   "metadata": {},
   "outputs": [
    {
     "name": "stdout",
     "output_type": "stream",
     "text": [
      " \n",
      "I have a cat.\n",
      " \n",
      " I have a mat.\n",
      " \n",
      " Things are going swell.\n",
      " \n"
     ]
    }
   ],
   "source": [
    "def sentence_searcher(string1,txt):\n",
    "    \n",
    "    list_strings =[]\n",
    "    \n",
    "    \n",
    "    list_strings =string1.split(\".\")\n",
    "    \n",
    "\n",
    "    for ele in list_strings:\n",
    "        ele=ele+\".\"\n",
    "        if txt.lower() in ele.lower():\n",
    "            print(ele)\n",
    "            break\n",
    "            \n",
    "    for ele in list_strings:\n",
    "        ele=ele+\"\"\n",
    "        if txt.lower() not  in ele.lower():\n",
    "            print(\" \")\n",
    "            break\n",
    "txt=\"I have a cat. I have a mat. Things are going swell.\"\n",
    "\n",
    "sentence_searcher(txt,\"flat\")\n",
    "sentence_searcher(txt, \"have\") \n",
    " \n",
    "sentence_searcher(txt, \"MAT\")\n",
    "sentence_searcher(txt, \"things\") "
   ]
  },
  {
   "cell_type": "code",
   "execution_count": null,
   "metadata": {},
   "outputs": [],
   "source": []
  },
  {
   "cell_type": "markdown",
   "metadata": {},
   "source": [
    "4. Your task, is to create N x N multiplication table, of size n provided in parameter.\n",
    "\n",
    "For example, when n is 5, the multiplication table is:\n",
    "\n",
    "   - 1, 2, 3, 4, 5\n",
    "   - 2, 4, 6, 8, 10\n",
    "   - 3, 6, 9, 12, 15\n",
    "   - 4, 8, 12, 16, 20\n",
    "   - 5, 10, 15, 20, 25\n",
    "\n",
    "This example will result in:\n",
    "\n",
    "[[1, 2, 3, 4, 5], [2, 4, 6, 8, 10], [3, 6, 9, 12, 15], [4, 8, 12, 16, 20], [5, 10, 15, 20, 25]]"
   ]
  },
  {
   "cell_type": "code",
   "execution_count": 122,
   "metadata": {},
   "outputs": [
    {
     "name": "stdout",
     "output_type": "stream",
     "text": [
      "[[1, 2, 3, 4, 5], [2, 4, 6, 8, 10], [3, 6, 9, 12, 15], [4, 8, 12, 16, 20], [5, 10, 15, 20, 25]]\n"
     ]
    }
   ],
   "source": [
    "def multiplcation_table(number):\n",
    "    list_prod=[]\n",
    "    list2=[]\n",
    "    for i in range(1,number+1):\n",
    "        for j in range(1,number+1):\n",
    "            list_prod.append(i*j)           \n",
    "        list2.append(list_prod)\n",
    "        list_prod=[]\n",
    "    print(list2)\n",
    "            \n",
    "multiplcation_table(5)\n",
    "            "
   ]
  },
  {
   "cell_type": "code",
   "execution_count": null,
   "metadata": {},
   "outputs": [],
   "source": []
  },
  {
   "cell_type": "markdown",
   "metadata": {},
   "source": [
    "5. Create a function that returns True if two lines rhyme and False otherwise. For the purposes of this exercise, two lines rhyme if the last word from each sentence contains the same vowels."
   ]
  },
  {
   "cell_type": "code",
   "execution_count": 168,
   "metadata": {},
   "outputs": [
    {
     "name": "stdout",
     "output_type": "stream",
     "text": [
      "False\n",
      "True\n",
      "True\n",
      "False\n"
     ]
    }
   ],
   "source": [
    "import re\n",
    "def does_rhyme(string1,string2):\n",
    "    \n",
    "    list_string1 =string1.split(\" \")\n",
    "    list_string2 =string2.split(\" \")\n",
    "    c =(len(list_string1) -1)\n",
    "    d =(len(list_string2)-1)\n",
    "    \n",
    "    list_string1[c].strip('!')\n",
    "    list_string1[c]= re.sub(r'[^\\w\\s]','',list_string1[c] ) \n",
    "    list_vowels_string1 =[]\n",
    "    list_vowels_string2=[]\n",
    "    for ele in list_string1[c]:\n",
    "        if ele.lower() in ['a','e' ,'i' ,'o' ,'u']:\n",
    "            list_vowels_string1.append(ele.lower())\n",
    "    \n",
    "    \n",
    "    list_string2[d] =list_string2[d].replace('.','')\n",
    "    \n",
    "    \n",
    "    for ele in list_string2[d]:\n",
    "        if ele.lower() in ['a','e' ,'i' ,'o' ,'u']:\n",
    "            list_vowels_string2.append(ele.lower())\n",
    "        \n",
    "    if list_vowels_string1[-1] ==list_vowels_string2[-1]:\n",
    "        print(\"True\")\n",
    "    else:\n",
    "        print(\"False\")\n",
    "\n",
    "does_rhyme(\"You are off to the races\", \"a splendid day.\") \n",
    "does_rhyme(\"Sam I am!\", \"Green eggs and ham.\")\n",
    "does_rhyme(\"Sam I am!\", \"Green eggs and HAM.\") \n",
    "does_rhyme(\"and frequently do?\", \"you gotta move.\")"
   ]
  },
  {
   "cell_type": "code",
   "execution_count": null,
   "metadata": {},
   "outputs": [],
   "source": []
  },
  {
   "cell_type": "code",
   "execution_count": null,
   "metadata": {},
   "outputs": [],
   "source": []
  }
 ],
 "metadata": {
  "kernelspec": {
   "display_name": "Python 3",
   "language": "python",
   "name": "python3"
  },
  "language_info": {
   "codemirror_mode": {
    "name": "ipython",
    "version": 3
   },
   "file_extension": ".py",
   "mimetype": "text/x-python",
   "name": "python",
   "nbconvert_exporter": "python",
   "pygments_lexer": "ipython3",
   "version": "3.8.3"
  }
 },
 "nbformat": 4,
 "nbformat_minor": 4
}
