{
 "cells": [
  {
   "cell_type": "markdown",
   "metadata": {},
   "source": [
    "1. A robot has been given a list of movement instructions. Each instruction is either left, right, up or down, followed by a distance to move. The robot starts at [0, 0]. You want to calculate where the robot will end up and return its final position as a list.\n",
    "\n",
    "To illustrate, if the robot is given the following instructions:\n",
    "\n",
    "[\"right 10\", \"up 50\", \"left 30\", \"down 10\"]\n",
    "\n",
    "It will end up 20 left and 40 up from where it started, so we return [-20, 40]."
   ]
  },
  {
   "cell_type": "code",
   "execution_count": null,
   "metadata": {},
   "outputs": [],
   "source": []
  },
  {
   "cell_type": "code",
   "execution_count": 22,
   "metadata": {},
   "outputs": [
    {
     "name": "stdout",
     "output_type": "stream",
     "text": [
      "[-20, 40]\n",
      "[200, 10500]\n",
      "[0, 0]\n"
     ]
    }
   ],
   "source": [
    "def track_robot(list1):\n",
    "    \n",
    "    list0=[0,0]\n",
    "    string1=[]\n",
    "    if len(list1)==0:\n",
    "        print(list0)\n",
    "    else:\n",
    "        for i in list1:\n",
    "            string1=i.split(\" \")\n",
    "            if string1[0] =='right':\n",
    "                list0[0] =list0[0]+int(string1[1])\n",
    "\n",
    "            elif string1[0] ==\"left\":\n",
    "                list0[0] =list0[0]-int(string1[1])\n",
    "\n",
    "            elif string1[0] ==\"up\":\n",
    "                list0[1] =list0[1]+int(string1[1])\n",
    "\n",
    "            elif string1[0] ==\"down\":\n",
    "                list0[1] =list0[1]-int(string1[1])\n",
    "\n",
    "        print(list0)\n",
    "    \n",
    "track_robot([\"right 10\", \"up 50\",\"left 30\", \"down 10\"]) \n",
    "track_robot([\"right 100\", \"right 100\", \"up 500\", \"up 10000\"])\n",
    "track_robot([]) "
   ]
  },
  {
   "cell_type": "code",
   "execution_count": null,
   "metadata": {},
   "outputs": [],
   "source": [
    "\n",
    "            "
   ]
  },
  {
   "cell_type": "markdown",
   "metadata": {},
   "source": [
    "2. Write a function that will return the longest word in a sentence. In cases where more than one word is found, return the first one."
   ]
  },
  {
   "cell_type": "code",
   "execution_count": 82,
   "metadata": {},
   "outputs": [
    {
     "name": "stdout",
     "output_type": "stream",
     "text": [
      "forever.\n",
      "Forgetfulness\n",
      "\"Strengths\"\n"
     ]
    }
   ],
   "source": [
    "from operator import itemgetter\n",
    "def find_longest(string1):\n",
    "    \n",
    "    list0= []\n",
    "    list0 =string1.split(\" \")    \n",
    "    list_length=[]\n",
    "    for i in list0:\n",
    "        list_length.append(len(i))\n",
    "        \n",
    "    list_zipped =[list(a) for a in zip(list0 ,list_length)]\n",
    "    \n",
    "    list_zipped=sorted(list_zipped ,key=itemgetter(1),reverse =True)\n",
    "    \n",
    "    print(list_zipped[0][0])\n",
    "            \n",
    "    \n",
    "find_longest(\"A thing of beauty is a joy forever.\")\n",
    "find_longest(\"Forgetfulness is by all means powerless!\")\n",
    "find_longest(\"\\\"Strengths\\\" is the longest and most commonly used word that contains only a single vowel.\")"
   ]
  },
  {
   "cell_type": "code",
   "execution_count": null,
   "metadata": {},
   "outputs": [],
   "source": []
  },
  {
   "cell_type": "markdown",
   "metadata": {},
   "source": [
    "3. Create a function to check if a candidate is qualified in an imaginary coding interview of an imaginary tech startup.\n",
    "\n",
    "The criteria for a candidate to be qualified in the coding interview is:"
   ]
  },
  {
   "cell_type": "code",
   "execution_count": 15,
   "metadata": {},
   "outputs": [
    {
     "name": "stdout",
     "output_type": "stream",
     "text": [
      "Qualified\n",
      "Qualified\n",
      "DIsqualified\n"
     ]
    }
   ],
   "source": [
    "def interview(list1,time):\n",
    "    \n",
    "    if len(list1)==8:\n",
    "        if time<=120:\n",
    "            if list1[0]<=5 and  list1[1] <=5:\n",
    "                if list1[2] <=10 and list1[3]<=10:\n",
    "                    if list1[4]<=15 and list1[5]<=15:\n",
    "                        if list1[6]<=20 and list1[7]<=20:\n",
    "                            print(\"Qualified\")\n",
    "                        else:\n",
    "                            print(\"Disqualified\")\n",
    "                    else:\n",
    "                        print(\"DIsqualified\")\n",
    "\n",
    "                else:\n",
    "                    print(\"Disqualified\")\n",
    "\n",
    "            else:\n",
    "                print(\"Disqualified\")\n",
    "    \n",
    "    else:\n",
    "        print(\" Disqualified\")\n",
    "        \n",
    "interview([5, 5, 10, 10, 15, 15, 20, 20], 120)\n",
    "interview([2, 3, 8, 6, 5, 12, 10, 18], 64)\n",
    "\n",
    "interview([5, 5, 10, 10, 25, 15, 20, 20], 120)\n",
    "\n",
    "            \n",
    "        "
   ]
  },
  {
   "cell_type": "code",
   "execution_count": null,
   "metadata": {},
   "outputs": [],
   "source": []
  },
  {
   "cell_type": "markdown",
   "metadata": {},
   "source": [
    "4. Write a function that divides a list into chunks of size n, where n is the length of each chunk."
   ]
  },
  {
   "cell_type": "code",
   "execution_count": 142,
   "metadata": {},
   "outputs": [
    {
     "name": "stdout",
     "output_type": "stream",
     "text": [
      "[[2, 3], [4, 5], [6]]\n",
      "[[2, 3], [4, 5]]\n",
      "[[2, 3, 4], [5, 6, 7]]\n",
      "[[2], [3], [4], [5], [6], [7]]\n",
      "[[2, 3, 4, 5, 6, 7]]\n"
     ]
    }
   ],
   "source": [
    "def chunkify(list1, number):\n",
    "      \n",
    "    for i in range(0, len(list1), number): \n",
    "        yield list1[i:i + number]\n",
    "\n",
    "print(list(chunkify([2, 3, 4, 5, 6], 2)))\n",
    "print(list(chunkify([2, 3, 4, 5], 2)))\n",
    "print(list(chunkify([2, 3, 4, 5, 6, 7], 3) ))\n",
    "print(list(chunkify([2, 3, 4, 5, 6, 7], 1)))\n",
    "print(list(chunkify([2, 3, 4, 5, 6, 7], 7) ))\n",
    "\n",
    "\n",
    "            "
   ]
  },
  {
   "cell_type": "code",
   "execution_count": null,
   "metadata": {},
   "outputs": [],
   "source": []
  },
  {
   "cell_type": "markdown",
   "metadata": {},
   "source": [
    "5. You are given a list of strings consisting of grocery items, with prices in parentheses. Return a list of prices in float format."
   ]
  },
  {
   "cell_type": "code",
   "execution_count": 76,
   "metadata": {},
   "outputs": [
    {
     "name": "stdout",
     "output_type": "stream",
     "text": [
      "[1.99, 5.99, 0.75]\n",
      "[5.99, 0.2, 8.5, 1.99]\n",
      "[4.99]\n"
     ]
    }
   ],
   "source": [
    "import re\n",
    "def get_prices(list1):\n",
    "    list_split =[]\n",
    "    list_split_2 =[]\n",
    "    for i in list1:\n",
    "        res=re.findall(r'\\(.*?\\)',i)\n",
    "        for i in res:\n",
    "            list_split.append(i)\n",
    "        \n",
    "    for  i in list_split:\n",
    "        c=i.replace(\"(\" ,\"\")\n",
    "        d=c.replace(\")\" ,\"\")\n",
    "        x=d.replace('$' ,\"\")\n",
    "        list_split_2.append(x)\n",
    "        \n",
    "    list_split=[]\n",
    "    \n",
    "    for i in list_split_2:\n",
    "        i.strip()\n",
    "        m=float(i)\n",
    "        list_split.append(m)\n",
    "        \n",
    "    print(list_split)\n",
    "        \n",
    "get_prices([\n",
    "  \"artichokes ($1.99)\",\n",
    "  \"rotiserrie chicken ($5.99)\",\n",
    "  \"gum ($0.75)\"\n",
    "])\n",
    "\n",
    "get_prices([\n",
    "  \"ice cream ($5.99)\",\n",
    "  \"banana ($0.20)\",\n",
    "  \"sandwich ($8.50)\",\n",
    "  \"soup ($1.99)\"\n",
    "])\n",
    "get_prices([\"salad ($4.99)\"]) "
   ]
  },
  {
   "cell_type": "code",
   "execution_count": 35,
   "metadata": {},
   "outputs": [
    {
     "name": "stdout",
     "output_type": "stream",
     "text": [
      "i_te\n"
     ]
    }
   ],
   "source": [
    "a_string = \"this is a (i_te) message\"\n",
    "result = re.search(r\"\\(([A-Za-z0-9_]+)\\)\", a_string)\n",
    "print(result.group(1))"
   ]
  },
  {
   "cell_type": "code",
   "execution_count": null,
   "metadata": {},
   "outputs": [],
   "source": []
  }
 ],
 "metadata": {
  "kernelspec": {
   "display_name": "Python 3",
   "language": "python",
   "name": "python3"
  },
  "language_info": {
   "codemirror_mode": {
    "name": "ipython",
    "version": 3
   },
   "file_extension": ".py",
   "mimetype": "text/x-python",
   "name": "python",
   "nbconvert_exporter": "python",
   "pygments_lexer": "ipython3",
   "version": "3.8.3"
  }
 },
 "nbformat": 4,
 "nbformat_minor": 4
}
