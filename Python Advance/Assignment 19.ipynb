{
 "cells": [
  {
   "cell_type": "markdown",
   "metadata": {},
   "source": [
    "2. A string is an almost-palindrome if, by changing only one character, you can make it a palindrome. Create a function that returns True if a string is an almost-palindrome and False otherwise."
   ]
  },
  {
   "cell_type": "code",
   "execution_count": 23,
   "metadata": {},
   "outputs": [
    {
     "name": "stdout",
     "output_type": "stream",
     "text": [
      "False\n",
      "True\n",
      "True\n",
      "False\n"
     ]
    }
   ],
   "source": [
    "def almost_pallindrome(string1):\n",
    "    list_string1 =[]\n",
    "    list_string2 =[]\n",
    "    for ele in string1:\n",
    "        list_string1.append(ele)\n",
    "        \n",
    "    for ele in string1[::-1]:\n",
    "        list_string2.append(ele)\n",
    "        \n",
    "    zipped =[list(a) for a in zip(list_string1,list_string2)]\n",
    "    list_reverse =[]\n",
    "    for ele in zipped:\n",
    "        if ele[0]!=ele[1]:\n",
    "            list_reverse.append(ele)\n",
    "    \n",
    "    if len(list_reverse)==2:\n",
    "        if (list_reverse[0][0]==list_reverse[1][1]) or (list_reverse[0][1] ==list_reverse[1][0]):\n",
    "            print(True)\n",
    "            \n",
    "        else:\n",
    "            print(False)\n",
    "            \n",
    "    else:\n",
    "        print(\"False\")\n",
    "    \n",
    "almost_pallindrome(\"1234312\")\n",
    "almost_pallindrome(\"abcdcbg\")\n",
    "almost_pallindrome(\"abccia\") \n",
    "almost_pallindrome(\"abcdaaa\")"
   ]
  },
  {
   "cell_type": "code",
   "execution_count": null,
   "metadata": {},
   "outputs": [],
   "source": []
  },
  {
   "cell_type": "markdown",
   "metadata": {},
   "source": [
    "3. Create a function that finds how many prime numbers there are, up to the given integer."
   ]
  },
  {
   "cell_type": "code",
   "execution_count": 30,
   "metadata": {},
   "outputs": [
    {
     "name": "stdout",
     "output_type": "stream",
     "text": [
      "4\n",
      "8\n",
      "10\n"
     ]
    }
   ],
   "source": [
    "def prime_numbers(number):\n",
    "    list_prime_number =[]\n",
    "    for i in range(2,number):\n",
    "        res=count_prime_number(i)\n",
    "        if res ==True:\n",
    "            list_prime_number.append(i)\n",
    "            \n",
    "        else:\n",
    "            pass\n",
    "\n",
    "    print(len(list_prime_number))            \n",
    "        \n",
    "\n",
    "def count_prime_number(number):\n",
    "    for ele in range(2,number):\n",
    "        if number%ele ==0:\n",
    "            return False\n",
    "            break\n",
    "    \n",
    "        else:\n",
    "            pass\n",
    "    else:\n",
    "        return True\n",
    "        \n",
    "prime_numbers(10)\n",
    "prime_numbers(20)\n",
    "prime_numbers(30)\n"
   ]
  },
  {
   "cell_type": "code",
   "execution_count": null,
   "metadata": {},
   "outputs": [],
   "source": []
  },
  {
   "cell_type": "markdown",
   "metadata": {},
   "source": [
    "4.Create a function that takes in a list of days as input and the number of days to increment by. Return a list of days after n number of days has passed"
   ]
  },
  {
   "cell_type": "code",
   "execution_count": 15,
   "metadata": {},
   "outputs": [
    {
     "name": "stdout",
     "output_type": "stream",
     "text": [
      "['Monday', 'Friday']\n",
      "['Monday', 'Monday', 'Monday']\n",
      "['Tuesday', 'Wednesday', 'Saturday']\n"
     ]
    }
   ],
   "source": [
    "from itertools import cycle\n",
    "def after_n_days(list_days,number):\n",
    "    dict1={'Monday':1 ,'Tuesday':2 ,'Wednesday':3 ,'Thursday':4 ,'Friday':5 ,'Saturday':6 ,'Sunday':7}\n",
    "    list_index =[]\n",
    "    for item in list_days:\n",
    "        c=(dict1[item]+number)%7\n",
    "        res =key(c)\n",
    "        list_index.append(res)\n",
    "        \n",
    "    print(list_index)\n",
    "\n",
    "def key(c):\n",
    "    dict1={'Monday':1 ,'Tuesday':2 ,'Wednesday':3 ,'Thursday':4 ,'Friday':5 ,'Saturday':6 ,'Sunday':7}\n",
    "    \n",
    "    for key,value in dict1.items():\n",
    "        if value ==c:\n",
    "            return key\n",
    "\n",
    "\n",
    "after_n_days([\"Thursday\", \"Monday\"], 4)\n",
    "after_n_days([\"Sunday\", \"Sunday\", \"Sunday\"], 1) \n",
    "after_n_days([\"Monday\", \"Tuesday\", \"Friday\"], 1)"
   ]
  },
  {
   "cell_type": "code",
   "execution_count": null,
   "metadata": {},
   "outputs": [],
   "source": []
  },
  {
   "cell_type": "markdown",
   "metadata": {},
   "source": [
    "5.Create a function that determines if the list of users is mapped to a list of anonymous names correctly."
   ]
  },
  {
   "cell_type": "code",
   "execution_count": 68,
   "metadata": {},
   "outputs": [
    {
     "name": "stdout",
     "output_type": "stream",
     "text": [
      "False\n",
      "True\n",
      "True\n"
     ]
    }
   ],
   "source": [
    "def is_correct_aliases(list1,list2):\n",
    "    list_strings1=[]\n",
    "    for item in list1:\n",
    "        list_strings1.append(item[0])\n",
    "    list_3=[]\n",
    "    list_2=[]\n",
    "    for item in list2:\n",
    "        list2=item.split(\" \")\n",
    "        list_2.append(list2[0][0])\n",
    "        list_3.append(list2[1][0])\n",
    "        \n",
    "    \n",
    "    zipped=[list(a) for a in zip(list_strings1 ,list_2,list_3)]\n",
    "    for item in zipped:\n",
    "        c=item[0]\n",
    "        d=False\n",
    "        for i in item:\n",
    "            if i==c:\n",
    "                d=True\n",
    "            else:\n",
    "                d=False\n",
    "    print(d)\n",
    "\n",
    "is_correct_aliases([\"Beth T.\"], [\"Brandishing Mimosa\"])\n",
    "is_correct_aliases([\"Adrian M.\", \"Harriet S.\", \"Mandy T.\"], [\"Amazing Artichoke\", \"Hopeful Hedgehog\", \"Marvelous Mouse\"])\n",
    "is_correct_aliases([\"Rachel F.\", \"Pam G.\", \"Fred Z.\", \"Nancy K.\"], [\"Reassuring Rat\", \"Peaceful Panda\", \"Fantastic Frog\", \"Notable Nickel\"])\n"
   ]
  },
  {
   "cell_type": "code",
   "execution_count": null,
   "metadata": {},
   "outputs": [],
   "source": []
  }
 ],
 "metadata": {
  "kernelspec": {
   "display_name": "Python 3",
   "language": "python",
   "name": "python3"
  },
  "language_info": {
   "codemirror_mode": {
    "name": "ipython",
    "version": 3
   },
   "file_extension": ".py",
   "mimetype": "text/x-python",
   "name": "python",
   "nbconvert_exporter": "python",
   "pygments_lexer": "ipython3",
   "version": "3.8.3"
  }
 },
 "nbformat": 4,
 "nbformat_minor": 4
}
