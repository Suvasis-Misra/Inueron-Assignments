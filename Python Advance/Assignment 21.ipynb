{
 "cells": [
  {
   "cell_type": "markdown",
   "metadata": {},
   "source": [
    "1. Given a sentence, return the number of words which have the same first and last letter."
   ]
  },
  {
   "cell_type": "code",
   "execution_count": 37,
   "metadata": {},
   "outputs": [
    {
     "name": "stdout",
     "output_type": "stream",
     "text": [
      "1\n",
      "1\n",
      "0\n"
     ]
    }
   ],
   "source": [
    "def count_same_ends(string1):\n",
    "    \n",
    "    list_string=string1.split(\" \")\n",
    "    new_list=[]\n",
    "    for ele in list_string:\n",
    "        ele2=\" \"\n",
    "        for i in ele:\n",
    "            if i.isalpha():\n",
    "                ele2=ele2+i\n",
    "        new_list.append(ele2)\n",
    "    d=0\n",
    "    for element in new_list:\n",
    "        result=check_reverse(element)\n",
    "        if result==True:\n",
    "            d+=1\n",
    "        else:\n",
    "            pass\n",
    "        \n",
    "    print(d)\n",
    "\n",
    "def check_reverse(element):\n",
    "    element_without_spaces =element.strip()\n",
    "    if len(element_without_spaces)!=1:\n",
    "        if element_without_spaces[0].lower() ==element_without_spaces[-1].lower():\n",
    "            return True\n",
    "        else:\n",
    "            return False\n",
    "    else:\n",
    "        return False\n",
    "    \n",
    "count_same_ends(\"No I am not in a gang.\")\n",
    "count_same_ends(\"Pop! goes the balloon\")\n",
    "count_same_ends(\"And the crowd goes wild!\")"
   ]
  },
  {
   "cell_type": "code",
   "execution_count": null,
   "metadata": {},
   "outputs": [],
   "source": []
  },
  {
   "cell_type": "markdown",
   "metadata": {},
   "source": [
    "2. The Atbash cipher is an encryption method in which each letter of a word is replaced with its \"mirror\" letter in the alphabet: A <=> Z; B <=> Y; C <=> X; etc.\n",
    "\n",
    "Create a function that takes a string and applies the Atbash cipher to it."
   ]
  },
  {
   "cell_type": "code",
   "execution_count": 10,
   "metadata": {},
   "outputs": [
    {
     "name": "stdout",
     "output_type": "stream",
     "text": [
      "zkkov\n",
      "Svool dliow!\n",
      "Xsirhgnzh rh gsv 25gs lu Wvxvnyvi\n"
     ]
    }
   ],
   "source": [
    "def atbash(string1):\n",
    "    \n",
    "    lookup_table = {'A' : 'Z', 'B' : 'Y', 'C' : 'X', 'D' : 'W', 'E' : 'V',\n",
    "        'F' : 'U', 'G' : 'T', 'H' : 'S', 'I' : 'R', 'J' : 'Q',\n",
    "        'K' : 'P', 'L' : 'O', 'M' : 'N', 'N' : 'M', 'O' : 'L',\n",
    "        'P' : 'K', 'Q' : 'J', 'R' : 'I', 'S' : 'H', 'T' : 'G',\n",
    "        'U' : 'F', 'V' : 'E', 'W' : 'D', 'X' : 'C', 'Y' : 'B', 'Z' :'A' ,'a' : 'z', 'b' : 'y', 'c' : 'x', 'd' : 'w', 'e' : 'v',\n",
    "        'f' : 'u', 'g' : 't', 'h' : 's', 'i' : 'r', 'j' : 'q',\n",
    "        'k' : 'p', 'l' : 'o', 'm' : 'n', 'n' : 'm', 'o' : 'l',\n",
    "        'p' : 'k', 'q' : 'j', 'r' : 'i', 's' : 'h', 't' : 'g',\n",
    "        'u' : 'f', 'v' : 'e', 'w' : 'd', 'x' : 'c', 'y' : 'b', 'z' :'a'}\n",
    "    \n",
    "    cipher=''\n",
    "    for i in string1:\n",
    "        if i.isalpha():\n",
    "            cipher =cipher+lookup_table[i]\n",
    "        else:\n",
    "            cipher =cipher+i\n",
    "    \n",
    "    print(cipher)\n",
    "atbash(\"apple\")\n",
    "atbash(\"Hello world!\")\n",
    "atbash(\"Christmas is the 25th of December\") "
   ]
  },
  {
   "cell_type": "code",
   "execution_count": null,
   "metadata": {},
   "outputs": [],
   "source": []
  },
  {
   "cell_type": "markdown",
   "metadata": {},
   "source": [
    "4. Create a function that determines whether each seat can \"see\" the front-stage. A number can \"see\" the front-stage if it is strictly greater than the number before it."
   ]
  },
  {
   "cell_type": "code",
   "execution_count": 51,
   "metadata": {},
   "outputs": [
    {
     "name": "stdout",
     "output_type": "stream",
     "text": [
      "True\n",
      "True\n",
      "False\n",
      "False\n"
     ]
    }
   ],
   "source": [
    "def can_see_stages(list1):\n",
    "    c=False\n",
    "    for i in range(0,len(list1)-1):\n",
    "        d=list1[i]\n",
    "        length =len(d)\n",
    "        for j in range(length):\n",
    "            if list1[i][j]<list1[i+1][j]:\n",
    "                c=True\n",
    "            else:\n",
    "                c=False\n",
    "                break\n",
    "        if c==False:\n",
    "            print(c)\n",
    "            break\n",
    "            \n",
    "        else:\n",
    "            pass\n",
    "    if c==True:\n",
    "        print(c)\n",
    "\n",
    "can_see_stages([\n",
    "  [0, 0, 0],\n",
    "  [1, 1, 1],\n",
    "  [2, 2, 2]\n",
    "])\n",
    "can_see_stages([\n",
    "  [1, 2, 3],\n",
    "  [4, 5, 6],\n",
    "  [7, 8, 9]\n",
    "]) \n",
    "\n",
    "can_see_stages([\n",
    "  [2, 0, 0], \n",
    "  [1, 1, 1], \n",
    "  [2, 2, 2]\n",
    "]) \n",
    "\n",
    "can_see_stages([\n",
    "  [1, 0, 0],\n",
    "  [1, 1, 1],\n",
    "  [2, 2, 2]\n",
    "])"
   ]
  },
  {
   "cell_type": "code",
   "execution_count": null,
   "metadata": {},
   "outputs": [],
   "source": []
  },
  {
   "cell_type": "markdown",
   "metadata": {},
   "source": []
  },
  {
   "cell_type": "markdown",
   "metadata": {},
   "source": []
  },
  {
   "cell_type": "code",
   "execution_count": null,
   "metadata": {},
   "outputs": [],
   "source": []
  },
  {
   "cell_type": "code",
   "execution_count": null,
   "metadata": {},
   "outputs": [],
   "source": []
  },
  {
   "cell_type": "code",
   "execution_count": null,
   "metadata": {},
   "outputs": [],
   "source": []
  },
  {
   "cell_type": "code",
   "execution_count": null,
   "metadata": {},
   "outputs": [],
   "source": []
  }
 ],
 "metadata": {
  "kernelspec": {
   "display_name": "Python 3",
   "language": "python",
   "name": "python3"
  },
  "language_info": {
   "codemirror_mode": {
    "name": "ipython",
    "version": 3
   },
   "file_extension": ".py",
   "mimetype": "text/x-python",
   "name": "python",
   "nbconvert_exporter": "python",
   "pygments_lexer": "ipython3",
   "version": "3.8.3"
  }
 },
 "nbformat": 4,
 "nbformat_minor": 4
}
