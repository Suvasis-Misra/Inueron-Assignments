{
 "cells": [
  {
   "cell_type": "markdown",
   "metadata": {},
   "source": [
    "1. Write four functions that directly mutate a list:\n",
    "\n",
    "    1. repeat(lst, n): Repeat lst n times.\n",
    "    2. add(lst, x): Adds x to the end of the lst.\n",
    "    3. remove(lst, m, n): Removes all elements between indices m and n inclusive in lst.\n",
    "    4. concat(lst, x): concatenates lst with x (another list)."
   ]
  },
  {
   "cell_type": "code",
   "execution_count": 46,
   "metadata": {},
   "outputs": [
    {
     "name": "stdout",
     "output_type": "stream",
     "text": [
      "[1, 2, 3, 4, 1, 2, 3, 4, 1, 2, 3, 4]\n",
      "[1, 2, 3, 4, 1, 2, 3, 4, 1, 2, 3, 4, 1]\n"
     ]
    },
    {
     "data": {
      "text/plain": [
       "[1, 3, 4]"
      ]
     },
     "execution_count": 46,
     "metadata": {},
     "output_type": "execute_result"
    }
   ],
   "source": [
    "from itertools import cycle\n",
    "class listutility:\n",
    "    \n",
    "    def __init__(self,list1):\n",
    "        self.list1 =list1\n",
    "        \n",
    "    def repeat(self,list1,n):\n",
    "\n",
    "        pool =cycle(self.list1)\n",
    "        c=0\n",
    "        self.list2=[]\n",
    "        for item in pool:\n",
    "            c+=1\n",
    "            g=n*len(self.list1)\n",
    "            if c==g+1:\n",
    "                break\n",
    "\n",
    "            else:\n",
    "                self.list2.append(item)\n",
    "\n",
    "        return self.list2\n",
    "    \n",
    "    def add_list(self,list1,n):\n",
    "        print(self.list2)\n",
    "        self.list2.append(n)\n",
    "        print(self.list2)\n",
    "        \n",
    "    \n",
    "    def remove(self,list1,m1,n1):\n",
    "        self.list3=[]\n",
    "        for i in range(m1,n1+1):\n",
    "            self.list3.append(self.list2[i])\n",
    "            \n",
    "        for item in self.list3:\n",
    "            self.list2.remove(item)\n",
    "            \n",
    "        return self.list2\n",
    "    \n",
    "    def concat(self,list1,number1):\n",
    "        for item in number1:\n",
    "            self.list2.append(item)\n",
    "            \n",
    "        return self.list2\n",
    "    \n",
    "obj =listutility([1, 2, 3, 4])\n",
    "obj.repeat([1, 2, 3, 4] ,3)\n",
    "obj.add_list( [1, 2, 3, 4] ,1)\n",
    "obj.remove([1, 2, 3, 4] ,1,12)\n",
    "obj.concat([1, 2, 3, 4], [3, 4])"
   ]
  },
  {
   "cell_type": "code",
   "execution_count": null,
   "metadata": {},
   "outputs": [],
   "source": []
  },
  {
   "cell_type": "markdown",
   "metadata": {},
   "source": [
    "3. Create a function that takes a list lst and a number N and returns a list of two integers from lst whose product equals N."
   ]
  },
  {
   "cell_type": "code",
   "execution_count": 91,
   "metadata": {},
   "outputs": [
    {
     "name": "stdout",
     "output_type": "stream",
     "text": [
      "[4, 5]\n",
      "[2, 5]\n",
      "None\n"
     ]
    }
   ],
   "source": [
    "def two_product(list1, n):\n",
    "    j=0\n",
    "    g=False\n",
    "    while j < len(list1):\n",
    "        c=list1[j]\n",
    "        list_2=[]\n",
    "        for i in list1:\n",
    "            if i!=c:\n",
    "                prod =i*c\n",
    "                if prod==n:\n",
    "                    list_2.append(c)\n",
    "                    list_2.append(i)\n",
    "                    g=True\n",
    "\n",
    "        if g==True:\n",
    "            print(list_2)\n",
    "            break\n",
    "\n",
    "        else:\n",
    "            j=j+1\n",
    "            if j==len(list1):\n",
    "                print(\"None\")\n",
    "\n",
    "two_product([1, 2, -1, 4, 5], 20)\n",
    "two_product([1, 2, 3, 4, 5], 10) \n",
    "\n",
    "two_product([100, 12, 4, 1, 2], 15)       \n",
    "        \n",
    "    "
   ]
  },
  {
   "cell_type": "code",
   "execution_count": null,
   "metadata": {},
   "outputs": [],
   "source": []
  },
  {
   "cell_type": "code",
   "execution_count": null,
   "metadata": {},
   "outputs": [],
   "source": []
  },
  {
   "cell_type": "code",
   "execution_count": null,
   "metadata": {},
   "outputs": [],
   "source": []
  }
 ],
 "metadata": {
  "kernelspec": {
   "display_name": "Python 3",
   "language": "python",
   "name": "python3"
  },
  "language_info": {
   "codemirror_mode": {
    "name": "ipython",
    "version": 3
   },
   "file_extension": ".py",
   "mimetype": "text/x-python",
   "name": "python",
   "nbconvert_exporter": "python",
   "pygments_lexer": "ipython3",
   "version": "3.8.3"
  }
 },
 "nbformat": 4,
 "nbformat_minor": 4
}
