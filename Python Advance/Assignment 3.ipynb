{
 "cells": [
  {
   "cell_type": "markdown",
   "metadata": {},
   "source": [
    "1. Create a function to perform basic arithmetic operations that includes addition, subtraction, multiplication and division on a string number (e.g. \"12 + 24\" or \"23 - 21\" or \"12 // 12\" or \"12 * 21\").\n",
    "\n",
    "Here, we have 1 followed by a space, operator followed by another space and 2. For the challenge, we are going to have only two numbers between 1 valid operator. The return value should be a number.\n",
    "\n",
    "eval() is not allowed. In case of division, whenever the second number equals \"0\" return -1.\n",
    "\n",
    "For example:\n",
    "\n",
    "\"15 // 0\"  ➞ -1\n",
    "\n",
    "Examples\n",
    "\n",
    "arithmetic_operation(\"12 + 12\") ➞ 24 // 12 + 12 = 24\n",
    "\n",
    "arithmetic_operation(\"12 - 12\") ➞ 24 // 12 - 12 = 0\n",
    "\n",
    "arithmetic_operation(\"12 * 12\") ➞ 144 // 12 * 12 = 144\n",
    "\n",
    "arithmetic_operation(\"12 // 0\") ➞ -1 // 12 / 0 = -1"
   ]
  },
  {
   "cell_type": "code",
   "execution_count": 47,
   "metadata": {},
   "outputs": [
    {
     "name": "stdout",
     "output_type": "stream",
     "text": [
      "4\n",
      "0\n",
      "0\n"
     ]
    }
   ],
   "source": [
    "from math import floor, trunc\n",
    "class Solution:\n",
    "   def solve(self, s):\n",
    "      s = list(s[::-1])\n",
    "\n",
    "      def get_value():\n",
    "         sign = 1\n",
    "         if s and s[-1] == \"-\":\n",
    "            s.pop()\n",
    "            sign = -1\n",
    "         value = 0\n",
    "         while s and s[-1].isdigit():\n",
    "            value *= 10\n",
    "            value += int(s.pop())\n",
    "         return sign * value\n",
    "\n",
    "      def get_term():\n",
    "         term = get_value()\n",
    "         while s and s[-1] in \"*/\":\n",
    "            op = s.pop()\n",
    "            value = get_value()\n",
    "            if op == \"*\":\n",
    "               term *= value\n",
    "            else:\n",
    "               term = floor(1.0 * term / value)\n",
    "         return term\n",
    "\n",
    "      ans = get_term()\n",
    "      while s:\n",
    "         op, term = s.pop(), get_term()\n",
    "         if op == \"+\":\n",
    "            ans += term\n",
    "         else:\n",
    "            ans -= term\n",
    "      return ans\n",
    "\n",
    "ob = Solution()\n",
    "s = \"2+3*5/7\"\n",
    "print(ob.solve(s))\n",
    "\n",
    "s=\"12 - 12\"\n",
    "print(ob.solve(s))\n",
    "\n"
   ]
  },
  {
   "cell_type": "code",
   "execution_count": null,
   "metadata": {},
   "outputs": [],
   "source": []
  },
  {
   "cell_type": "code",
   "execution_count": null,
   "metadata": {},
   "outputs": [],
   "source": []
  },
  {
   "cell_type": "markdown",
   "metadata": {},
   "source": [
    "2. Write a function that takes the coordinates of three points in the form of a 2d array and returns the perimeter of the triangle. The given points are the vertices of a triangle on a two-dimensional plane.\n",
    "\n",
    "Examples\n",
    "\n",
    "perimeter( [ [15, 7], [5, 22], [11, 1] ] ) ➞ 47.08\n",
    "\n",
    "perimeter( [ [0, 0], [0, 1], [1, 0] ] ) ➞ 3.42\n",
    "\n",
    "perimeter( [ [-10, -10], [10, 10 ], [-10, 10] ] ) ➞ 68.28"
   ]
  },
  {
   "cell_type": "code",
   "execution_count": 10,
   "metadata": {},
   "outputs": [
    {
     "name": "stdout",
     "output_type": "stream",
     "text": [
      "47.07918859608948\n",
      "3.414213562373095\n",
      "68.2842712474619\n"
     ]
    }
   ],
   "source": [
    "import math\n",
    "def perimeter(list):\n",
    "    list_x =[]\n",
    "    list_y =[]\n",
    "    \n",
    "    c=math.sqrt((abs(list[0][0]-list[1][0])**2) + (abs(list[0][1]-list[1][1])**2))\n",
    "    d= math.sqrt((abs(list[0][0]-list[2][0])**2) + (abs(list[0][1]-list[2][1])**2))\n",
    "    e=math.sqrt((abs(list[1][0]-list[2][0])**2) + (abs(list[1][1]-list[2][1])**2))\n",
    "    \n",
    "    perimeter =c+d+e\n",
    "    \n",
    "    return perimeter\n",
    "    \n",
    "print(perimeter( [[15, 7], [5, 22], [11, 1] ]  ))\n",
    "print(perimeter( [ [0, 0], [0, 1], [1, 0] ] ))\n",
    "print(perimeter( [ [-10, -10], [10, 10 ], [-10, 10] ] ))\n"
   ]
  },
  {
   "cell_type": "code",
   "execution_count": null,
   "metadata": {},
   "outputs": [],
   "source": []
  },
  {
   "cell_type": "markdown",
   "metadata": {},
   "source": [
    "3. A city skyline can be represented as a 2-D list with 1s representing buildings. In the example below, the height of the tallest building is 4 (second-most right column).\n",
    "\n",
    "[[0, 0, 0, 0, 0, 0],\n",
    "[0, 0, 0, 0, 1, 0],\n",
    "[0, 0, 1, 0, 1, 0],\n",
    "[0, 1, 1, 1, 1, 0],\n",
    "[1, 1, 1, 1, 1, 1]]\n",
    "\n",
    "Create a function that takes a skyline (2-D list of 0's and 1's) and returns the height of the tallest skyscraper.\n",
    "\n",
    "Examples\n",
    "\n",
    "tallest_skyscraper([\n",
    "  [0, 0, 0, 0],\n",
    "  [0, 1, 0, 0],\n",
    "  [0, 1, 1, 0],\n",
    "  [1, 1, 1, 1]\n",
    "]) ➞ 3\n",
    "\n",
    "tallest_skyscraper([\n",
    "  [0, 1, 0, 0],\n",
    "  [0, 1, 0, 0],\n",
    "  [0, 1, 1, 0],\n",
    "  [1, 1, 1, 1]\n",
    "]) ➞ 4\n",
    "\n",
    "tallest_skyscraper([\n",
    "  [0, 0, 0, 0],\n",
    "  [0, 0, 0, 0],\n",
    "  [1, 1, 1, 0],\n",
    "  [1, 1, 1, 1]\n",
    "]) ➞ 2\n"
   ]
  },
  {
   "cell_type": "code",
   "execution_count": 4,
   "metadata": {},
   "outputs": [
    {
     "name": "stdout",
     "output_type": "stream",
     "text": [
      "3\n",
      "4\n",
      "2\n"
     ]
    }
   ],
   "source": [
    "def tallest_skyscrapper(list):\n",
    "    list_a=[]\n",
    "    for i in list:\n",
    "        if sum(i)>0:\n",
    "          list_a.append(1)\n",
    "        \n",
    "    print(sum(list_a))\n",
    "\n",
    "\n",
    "res1 =tallest_skyscrapper([ [0, 0, 0, 0], [0, 1, 0, 0], [0, 1, 1, 0], [1, 1, 1, 1] ])\n",
    "\n",
    "res2 =tallest_skyscrapper([  [0, 1, 0, 0],  [0, 1, 0, 0],  [0, 1, 1, 0],  [1, 1, 1, 1]])\n",
    "\n",
    "res3 =tallest_skyscraper([  [0, 0, 0, 0],  [0, 0, 0, 0],  [1, 1, 1, 0],  [1, 1, 1, 1]])"
   ]
  },
  {
   "cell_type": "code",
   "execution_count": null,
   "metadata": {},
   "outputs": [],
   "source": []
  },
  {
   "cell_type": "markdown",
   "metadata": {},
   "source": [
    "4. A financial institution provides professional services to banks and claims charges from the customers based on the number of man-days provided. Internally, it has set a scheme to motivate and reward staff to meet and exceed targeted billable utilization and revenues by paying a bonus for each day claimed from customers in excess of a threshold target.\n",
    "\n",
    "This quarterly scheme is calculated with a threshold target of 32 days per quarter, and the incentive payment for each billable day in excess of such threshold target is shown as follows:\n",
    "\n",
    "Days\t                             Bonus\n",
    "0 to 32 days\t                   Zero\n",
    "33 to 40 days\t         SGD$325 per billable day\n",
    "41 to 48 days\t         SGD$550 per billable day\n",
    "Greater than 48 days      SGD$600 per billable day\n",
    "dd\n",
    "Please note that incentive payment is calculated progressively. As an example, if an employee reached total billable days of 45 in a quarter, his/her incentive payment is computed as follows:\n",
    "\n",
    "32*0 + 8*325 + 5*550 = 5350\n",
    "\n",
    "Write a function to read the billable days of an employee and return the bonus he/she has obtained in that quarter.\n",
    "\n",
    "Examples\n",
    "\n",
    "bonus(15) ➞ 0\n",
    "\n",
    "bonus(37) ➞ 1625\n",
    "\n",
    "bonus(50) ➞ 8200"
   ]
  },
  {
   "cell_type": "code",
   "execution_count": 8,
   "metadata": {},
   "outputs": [
    {
     "name": "stdout",
     "output_type": "stream",
     "text": [
      "0\n",
      "1625\n",
      "8200\n"
     ]
    }
   ],
   "source": [
    "def bonus(days):\n",
    "    \n",
    "    if days <33:\n",
    "        print(0)\n",
    "    \n",
    "    if days>32 and days <41:\n",
    "        c=(days-32)*325\n",
    "        print(c)\n",
    "    \n",
    "    if days >40 and days <49:\n",
    "        c =8*325 + (days-40)*550 \n",
    "        print(c)\n",
    "    if days >48:\n",
    "        c =(days-48)*600+ 8*325 +8*550\n",
    "        print(c)\n",
    "        \n",
    "\n",
    "res1 =bonus(15)\n",
    "res2 =bonus(37)\n",
    "res3 =bonus(50)"
   ]
  },
  {
   "cell_type": "code",
   "execution_count": null,
   "metadata": {},
   "outputs": [],
   "source": []
  },
  {
   "cell_type": "markdown",
   "metadata": {},
   "source": [
    "5. A number is said to be Disarium if the sum of its digits raised to their respective positions is the number itself.\n",
    "\n",
    "Create a function that determines whether a number is a Disarium or not.\n",
    "\n",
    "Examples\n",
    "\n",
    "is_disarium(75) ➞ False\n",
    "# 7^1 + 5^2 = 7 + 25 = 32\n",
    "\n",
    "is_disarium(135) ➞ True\n",
    "# 1^1 + 3^2 + 5^3 = 1 + 9 + 125 = 135\n",
    "\n",
    "is_disarium(544) ➞ False\n",
    "\n",
    "is_disarium(518) ➞ True\n",
    "\n",
    "is_disarium(466) ➞ False\n",
    "\n",
    "is_disarium(8) ➞ True"
   ]
  },
  {
   "cell_type": "code",
   "execution_count": 36,
   "metadata": {},
   "outputs": [
    {
     "name": "stdout",
     "output_type": "stream",
     "text": [
      "This number is not a dissarium number\n",
      " This is a disarium number\n",
      "This number is not a dissarium number\n",
      " This is a disarium number\n"
     ]
    }
   ],
   "source": [
    "def is_disarium(num):\n",
    "    length=0\n",
    "    n=num\n",
    "    while num !=0:\n",
    "        length =length+1\n",
    "        num=num//10\n",
    "        \n",
    "    sum=0\n",
    "    c=n\n",
    "    rem=0\n",
    "    while n >0:\n",
    "        rem=n % 10\n",
    "        sum =sum+int(rem**length)\n",
    "        n =n//10\n",
    "        length =length-1\n",
    "        \n",
    "    if sum ==c:\n",
    "        print(\" This is a disarium number\")\n",
    "    else:\n",
    "        print(\"This number is not a dissarium number\")\n",
    "\n",
    "res =is_disarium(75)\n",
    "is_disarium(135)\n",
    "is_disarium(544)\n",
    "is_disarium(518)"
   ]
  },
  {
   "cell_type": "code",
   "execution_count": null,
   "metadata": {},
   "outputs": [],
   "source": [
    "\n"
   ]
  },
  {
   "cell_type": "code",
   "execution_count": null,
   "metadata": {},
   "outputs": [],
   "source": []
  },
  {
   "cell_type": "code",
   "execution_count": null,
   "metadata": {},
   "outputs": [],
   "source": []
  }
 ],
 "metadata": {
  "kernelspec": {
   "display_name": "Python 3",
   "language": "python",
   "name": "python3"
  },
  "language_info": {
   "codemirror_mode": {
    "name": "ipython",
    "version": 3
   },
   "file_extension": ".py",
   "mimetype": "text/x-python",
   "name": "python",
   "nbconvert_exporter": "python",
   "pygments_lexer": "ipython3",
   "version": "3.8.3"
  }
 },
 "nbformat": 4,
 "nbformat_minor": 4
}
