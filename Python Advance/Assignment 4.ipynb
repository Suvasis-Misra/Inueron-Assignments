{
 "cells": [
  {
   "cell_type": "markdown",
   "metadata": {},
   "source": [
    "1. In mathematics, the Fibonacci numbers, commonly denoted Fn, form a sequence, called the Fibonacci sequence, such that each number is the sum of the two preceding ones, starting from 0 and 1:\n",
    "\n",
    "\n",
    "\n",
    "\n",
    "\n",
    "\n",
    "\n",
    "\n",
    "\n",
    "\n",
    "The beginning of the sequence is this:\n",
    "\n",
    "0, 1, 1, 2, 3, 5, 8, 13, 21, 34, 55, 89, 144, ...\n",
    "\n",
    "The function fastFib(num) returns the fibonacci number Fn, of the given num as an argument.\n"
   ]
  },
  {
   "cell_type": "code",
   "execution_count": 5,
   "metadata": {},
   "outputs": [
    {
     "name": "stdout",
     "output_type": "stream",
     "text": [
      "5\n",
      "55\n",
      "6765\n"
     ]
    }
   ],
   "source": [
    "def fastFib(n):\n",
    "    if n<0:\n",
    "        print(\"Incorrect input\")\n",
    "    elif n==0:\n",
    "        return 0\n",
    "    elif n==1:\n",
    "        return 1\n",
    "    else:\n",
    "        return fastFib(n-1)+fastFib(n-2)\n",
    "\n",
    " \n",
    "print(fastFib(5))\n",
    "print(fastFib(10))\n",
    "print(fastFib(20))\n"
   ]
  },
  {
   "cell_type": "markdown",
   "metadata": {},
   "source": [
    " 2.Create a function that takes a strings characters as ASCII and returns each characters hexadecimal value as a string."
   ]
  },
  {
   "cell_type": "code",
   "execution_count": 8,
   "metadata": {},
   "outputs": [
    {
     "name": "stdout",
     "output_type": "stream",
     "text": [
      "68656c6c6f20776f726c64\n",
      "42696720426f69\n",
      "4d6172747920506f7070696e736f6e\n"
     ]
    }
   ],
   "source": [
    "\n",
    "def convert_to_hex(ascii):\n",
    " \n",
    "    hexa = \"\"\n",
    "\n",
    "    for i in range(len(ascii)):\n",
    "\n",
    "        ch = ascii[i]\n",
    "        in1 = ord(ch)\n",
    "        part = hex(in1).lstrip(\"0x\").rstrip(\"L\")\n",
    "        hexa += part\n",
    "\n",
    "    return hexa\n",
    "    \n",
    "print(convert_to_hex(\"hello world\"))\n",
    "print(convert_to_hex(\"Big Boi\"))\n",
    "print(convert_to_hex(\"Marty Poppinson\")) "
   ]
  },
  {
   "cell_type": "code",
   "execution_count": null,
   "metadata": {},
   "outputs": [],
   "source": []
  },
  {
   "cell_type": "markdown",
   "metadata": {},
   "source": [
    "3. Someone has attempted to censor my strings by replacing every vowel with a *, l*k* th*s. Luckily, I've been able to find the vowels that were removed.\n",
    "\n",
    "Given a censored string and a string of the censored vowels, return the original uncensored string."
   ]
  },
  {
   "cell_type": "code",
   "execution_count": 2,
   "metadata": {},
   "outputs": [
    {
     "name": "stdout",
     "output_type": "stream",
     "text": [
      "Where did my vowels go?\n"
     ]
    }
   ],
   "source": [
    "def uncensor(censored_string,lost_vowels):\n",
    "    list_a=[]\n",
    "    list_b =[]\n",
    "    list_count =[]\n",
    "    \n",
    "    for char in censored_string:\n",
    "        list_a.append(char)\n",
    "        \n",
    "    for char in lost_vowels:\n",
    "        list_b.append(char)\n",
    "    \n",
    "        \n",
    "    for count,ele in enumerate(list_a):\n",
    "            if ele =='*':\n",
    "                list_count.append(count)\n",
    "            \n",
    "            else:\n",
    "                pass\n",
    "          \n",
    "    length=len(list_count)\n",
    "    \n",
    "    j=0\n",
    "    for i in list_count:        \n",
    "        list_a[i]=list_b[j]\n",
    "        j+=1\n",
    "        \n",
    "    print(\"\".join(list_a))\n",
    "    \n",
    "    \n",
    "\n",
    "uncensor(\"Wh*r* d*d my v*w*ls g*?\", \"eeioeo\")\n",
    "        \n",
    "        "
   ]
  },
  {
   "cell_type": "markdown",
   "metadata": {},
   "source": [
    "4. Write a function that takes an IP address and returns the domain name using PTR DNS records"
   ]
  },
  {
   "cell_type": "code",
   "execution_count": null,
   "metadata": {},
   "outputs": [],
   "source": []
  },
  {
   "cell_type": "markdown",
   "metadata": {},
   "source": [
    "5. Create a function that takes an integer n and returns the factorial of factorials. See below examples for a better understanding:"
   ]
  },
  {
   "cell_type": "code",
   "execution_count": 32,
   "metadata": {},
   "outputs": [
    {
     "data": {
      "text/plain": [
       "24"
      ]
     },
     "execution_count": 32,
     "metadata": {},
     "output_type": "execute_result"
    }
   ],
   "source": [
    "def fact_of_fact(number):\n",
    "        c=1\n",
    "        if number==0 or number ==1:\n",
    "            return 1        \n",
    "        else:\n",
    "            c=c*number*fact_of_fact(number-1)\n",
    "            return c\n",
    "            \n",
    "        for i in range(number,0,-1):\n",
    "            c=fact_of_fact(n)\n",
    "fact_of_fact(4)\n",
    "            \n",
    "        "
   ]
  },
  {
   "cell_type": "code",
   "execution_count": 11,
   "metadata": {},
   "outputs": [
    {
     "name": "stdout",
     "output_type": "stream",
     "text": [
      "5\n",
      "4\n",
      "3\n",
      "2\n",
      "1\n",
      "0\n"
     ]
    }
   ],
   "source": [
    "for i in range(5,-1 ,-1):\n",
    "    print(i)\n"
   ]
  },
  {
   "cell_type": "code",
   "execution_count": null,
   "metadata": {},
   "outputs": [],
   "source": []
  }
 ],
 "metadata": {
  "kernelspec": {
   "display_name": "Python 3",
   "language": "python",
   "name": "python3"
  },
  "language_info": {
   "codemirror_mode": {
    "name": "ipython",
    "version": 3
   },
   "file_extension": ".py",
   "mimetype": "text/x-python",
   "name": "python",
   "nbconvert_exporter": "python",
   "pygments_lexer": "ipython3",
   "version": "3.8.3"
  }
 },
 "nbformat": 4,
 "nbformat_minor": 4
}
