{
 "cells": [
  {
   "cell_type": "markdown",
   "metadata": {},
   "source": [
    "2. Create a function that returns the majority vote in a list. A majority vote is an element that occurs > N/2 times in a list (where N is the length of the list)"
   ]
  },
  {
   "cell_type": "code",
   "execution_count": 23,
   "metadata": {},
   "outputs": [
    {
     "name": "stdout",
     "output_type": "stream",
     "text": [
      "A\n",
      "A\n",
      "None\n"
     ]
    }
   ],
   "source": [
    "def majority_vote(list):\n",
    "    \n",
    "    dict={}\n",
    "    \n",
    "    for i in list:\n",
    "        if i in dict:\n",
    "            dict[i]+=1\n",
    "            \n",
    "        else:\n",
    "            dict[i]=1\n",
    "            \n",
    "    \n",
    "    max_values =max(dict.values())\n",
    "    \n",
    "    max_keys=[k for k,v in dict.items() if v ==max_values]\n",
    "    \n",
    "    length =len(max_keys)\n",
    "    \n",
    "    \n",
    "    if length >1:\n",
    "         print(\"None\")\n",
    "    \n",
    "    else:\n",
    "        print(\"\" .join(max_keys))\n",
    "        \n",
    "    \n",
    "majority_vote([\"A\", \"A\", \"B\"])\n",
    "\n",
    "majority_vote([\"A\", \"A\", \"A\", \"B\", \"C\", \"A\"])\n",
    "\n",
    "majority_vote([\"A\", \"B\", \"B\", \"A\", \"C\", \"C\"]) "
   ]
  },
  {
   "cell_type": "code",
   "execution_count": null,
   "metadata": {},
   "outputs": [],
   "source": []
  },
  {
   "cell_type": "markdown",
   "metadata": {},
   "source": [
    "5. Create a function that takes a list of numbers and returns the sum of all prime numbers in the list."
   ]
  },
  {
   "cell_type": "code",
   "execution_count": 33,
   "metadata": {},
   "outputs": [
    {
     "name": "stdout",
     "output_type": "stream",
     "text": [
      "17\n",
      "87\n",
      "None\n"
     ]
    }
   ],
   "source": [
    "def sum_primes(list):\n",
    "    list_prime=[]\n",
    "    if len(list)==0:\n",
    "        print(\"None\")\n",
    "    else:\n",
    "        for ele in list:\n",
    "            if ele==0 or ele==1 :\n",
    "                pass\n",
    "            else:\n",
    "                for i in range(2,int(ele/2)+1):\n",
    "                    if ele%i==0:\n",
    "                          break                \n",
    "                else:\n",
    "                    list_prime.append(ele)                \n",
    "    \n",
    "        Sum=sum(list_prime)\n",
    "        print(Sum)\n",
    "    \n",
    "sum_primes([1, 2, 3, 4, 5, 6, 7, 8, 9, 10])\n",
    "sum_primes([2, 3, 4, 11, 20, 50, 71])\n",
    "sum_primes([]) "
   ]
  },
  {
   "cell_type": "code",
   "execution_count": null,
   "metadata": {},
   "outputs": [],
   "source": []
  },
  {
   "cell_type": "markdown",
   "metadata": {},
   "source": [
    "3. Create a function that takes a string txt and censors any word from a given list lst. The text removed must be replaced by the given character char.\n",
    "\n",
    "Examples\n",
    "\n",
    "censor_string(\"Today is a Wednesday!\", [\"Today\", \"a\"], \"-\") ➞ \"----- is - Wednesday!\"\n",
    "\n",
    "censor_string(\"The cow jumped over the moon.\", [\"cow\", \"over\"], \"*\"), \"The *** jumped **** the moon.\")\n",
    "\n",
    "censor_string(\"Why did the chicken cross the road?\", [\"Did\", \"chicken\", \"road\"], \"*\") ➞ \"Why *** the ******* cross the ****?\""
   ]
  },
  {
   "cell_type": "code",
   "execution_count": 57,
   "metadata": {},
   "outputs": [
    {
     "name": "stdout",
     "output_type": "stream",
     "text": [
      "Why *** the ******* cross the road?\n",
      "----- is - Wednesday!\n",
      "Why did the ******* cross the road?\n"
     ]
    }
   ],
   "source": [
    "import re\n",
    "def censor_string(word, list,char):\n",
    "    word_without_spaces =word.split(\" \")\n",
    "    list_count=[]\n",
    "    \n",
    "    for count,word in enumerate(word_without_spaces):\n",
    "        if word in list:\n",
    "            length=len(word)\n",
    "            word_without_spaces[count]=re.sub(word,length*char,word) \n",
    "            \n",
    "        else:\n",
    "            pass\n",
    "        \n",
    "    print(\" \".join(word_without_spaces))\n",
    "    \n",
    "        \n",
    "censor_string(\"Why did the chicken cross the road?\", [\"did\", \"chicken\", \"road\"], \"*\") \n",
    "censor_string(\"Today is a Wednesday!\", [\"Today\", \"a\"], \"-\")\n",
    "censor_string(\"Why did the chicken cross the road?\", [\"Did\", \"chicken\", \"road\"], \"*\") \n"
   ]
  },
  {
   "cell_type": "code",
   "execution_count": 23,
   "metadata": {},
   "outputs": [],
   "source": []
  },
  {
   "cell_type": "markdown",
   "metadata": {},
   "source": [
    "4. In mathematics a Polydivisible Number (or magic number) is a number in a given number base with digits abcde... that has the following properties:\n",
    "\n",
    "-  Its first digit a is not 0.\n",
    "- The number formed by its first two digits ab is a multiple of 2.\n",
    "- The number formed by its first three digits abc is a multiple of 3.\n",
    "- The number formed by its first four digits abcd is a multiple of 4.\n",
    "\n",
    "Create a function which takes an integer n and returns True if the given number is a Polydivisible Number and False otherwise."
   ]
  },
  {
   "cell_type": "code",
   "execution_count": 64,
   "metadata": {},
   "outputs": [
    {
     "name": "stdout",
     "output_type": "stream",
     "text": [
      "1232 is Not Polydivisible number.\n"
     ]
    }
   ],
   "source": [
    "\n",
    "def polydivisible(n):\n",
    "    N = n\n",
    "    digit = []\n",
    "    while (n > 0):\n",
    "        digit.append(n % 10)\n",
    "        n /= 10 \n",
    "    digit.reverse() \n",
    "    flag = True\n",
    "    n = digit[0]\n",
    "    for i in range(1, len(digit), 1):\n",
    "        n = n * 10 + digit[i] \n",
    "        if (n % (i + 1) != 0):\n",
    "            flag = False\n",
    "            break\n",
    "     \n",
    "    if (flag):\n",
    "        print(N, \"is Polydivisible number.\");\n",
    "    else:\n",
    "        print(N, \"is Not Polydivisible number.\")\n",
    "\n",
    "polydivisible(1232)"
   ]
  },
  {
   "cell_type": "code",
   "execution_count": null,
   "metadata": {},
   "outputs": [],
   "source": []
  }
 ],
 "metadata": {
  "kernelspec": {
   "display_name": "Python 3",
   "language": "python",
   "name": "python3"
  },
  "language_info": {
   "codemirror_mode": {
    "name": "ipython",
    "version": 3
   },
   "file_extension": ".py",
   "mimetype": "text/x-python",
   "name": "python",
   "nbconvert_exporter": "python",
   "pygments_lexer": "ipython3",
   "version": "3.8.3"
  }
 },
 "nbformat": 4,
 "nbformat_minor": 4
}
