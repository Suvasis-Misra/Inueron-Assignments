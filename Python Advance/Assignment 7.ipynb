{
 "cells": [
  {
   "cell_type": "markdown",
   "metadata": {},
   "source": [
    "2. There are many different styles of music and many albums exhibit multiple styles. Create a function that takes a list of musical styles from albums and returns how many styles are unique"
   ]
  },
  {
   "cell_type": "code",
   "execution_count": 11,
   "metadata": {},
   "outputs": [
    {
     "name": "stdout",
     "output_type": "stream",
     "text": [
      "9\n",
      "7\n"
     ]
    }
   ],
   "source": [
    "def unique_styles(list):\n",
    "    \n",
    "    list_unique=[]\n",
    "    thisset =set()\n",
    "    \n",
    "    list_set=set(list)\n",
    "    for i in list_set:\n",
    "        list_unique.append(i)\n",
    "        \n",
    "    return (len(list_unique))\n",
    "\n",
    "\n",
    "print(unique_styles([\n",
    "  \"Dub\",\"Dancehall\",\n",
    "  \"Industrial\",\"Heavy Metal\",\n",
    "  \"Techno\",\"Dubstep\",\n",
    "  \"Synth-pop\",\"Euro-Disco\",\n",
    "  \"Industrial\",\"Techno,Minimal\"\t\n",
    "]))\n",
    "\n",
    "print(unique_styles([\n",
    "  \"Soul\",\n",
    "  \"House\",\"Folk\",\n",
    "  \"Trance\",\"Downtempo\",\"Big Beat\",\"House\",\n",
    "  \"Deep House\",\n",
    "  \"Soul\"\n",
    "]))\n"
   ]
  },
  {
   "cell_type": "markdown",
   "metadata": {},
   "source": [
    "3. Create a function that finds a target number in a list of prime numbers. Implement a binary search algorithm in your function. The target number will be from 2 through 97. If the target is prime then return \"yes\" else return \"no\"."
   ]
  },
  {
   "cell_type": "code",
   "execution_count": 46,
   "metadata": {},
   "outputs": [
    {
     "name": "stdout",
     "output_type": "stream",
     "text": [
      "Yes\n",
      "No\n",
      "Yes\n",
      "No\n"
     ]
    }
   ],
   "source": [
    "def is_prime(primes,x):\n",
    "    \n",
    "    low=0\n",
    "    high=len(primes)-1\n",
    "    mid =0\n",
    "    \n",
    "    \n",
    "    while low<=high:\n",
    "        mid =(high+low)//2\n",
    "        \n",
    "        if primes[mid] <x:\n",
    "            low =mid+1\n",
    "            \n",
    "        elif primes[mid] >x:\n",
    "            high=mid-1\n",
    "        \n",
    "        else:\n",
    "            return  \"Yes\"\n",
    "    \n",
    "    return \"No\"\n",
    "\n",
    "primes =[2, 3, 5, 7, 11, 13, 17, 19, 23, 29, 31, 37, 41, 43, 47, 53, 59, 61, 67, 71, 73, 79, 83, 89, 97]\n",
    "x=37\n",
    "\n",
    "print(is_prime(primes,3))\n",
    "\n",
    "print(is_prime(primes,4))\n",
    "\n",
    "print(is_prime(primes,67))\n",
    "    \n",
    "print(is_prime(primes,36)) \n",
    "\n"
   ]
  },
  {
   "cell_type": "markdown",
   "metadata": {},
   "source": [
    "5. Given a number, return the difference between the maximum and minimum numbers that can be formed when the digits are rearranged."
   ]
  },
  {
   "cell_type": "code",
   "execution_count": 71,
   "metadata": {},
   "outputs": [
    {
     "name": "stdout",
     "output_type": "stream",
     "text": [
      "760833\n",
      "7709823\n",
      "90981\n"
     ]
    }
   ],
   "source": [
    "def rearranged_difference(number):\n",
    "    \n",
    "    s =str(number)\n",
    "    list_number_max=[]\n",
    "    list_number_min=[]\n",
    "    list_string_max =[]\n",
    "    list_string_min =[]\n",
    "    \n",
    "    for i in s:\n",
    "        integer=int(i)\n",
    "        list_number_max.append(integer)\n",
    "        list_number_min.append(integer)\n",
    "    list_number_max.sort(reverse=True)\n",
    "    list_number_min.sort()\n",
    "    for i in list_number_max:\n",
    "        s =str(i)\n",
    "        list_string_max.append(s)\n",
    "    x=\"\".join(list_string_max)\n",
    "    \n",
    "    max =int(x)\n",
    "    \n",
    "    for i in list_number_min:\n",
    "        s =str(i)\n",
    "        list_string_min.append(s)\n",
    "    x=\"\".join(list_string_min)\n",
    "    \n",
    "    min = int(x)\n",
    "    c=max-min\n",
    "    \n",
    "    print(c)\n",
    "\n",
    "rearranged_difference(972882)\n",
    "rearranged_difference(3320707)\n",
    "rearranged_difference(90010)\n",
    "\n",
    "\n"
   ]
  },
  {
   "cell_type": "markdown",
   "metadata": {},
   "source": [
    "4. Create a function that takes in n, a, b and returns the number of positive values raised to the nth power that lie in the range [a, b], inclusive."
   ]
  },
  {
   "cell_type": "code",
   "execution_count": 75,
   "metadata": {},
   "outputs": [
    {
     "name": "stdout",
     "output_type": "stream",
     "text": [
      "1\n"
     ]
    }
   ],
   "source": [
    "import math\n",
    "def power_ranger(n,m,l):\n",
    "    c=0\n",
    "    for i in range(m ,l+1):\n",
    "        if round(i ** (1 / n)) ** n ==i:\n",
    "            c=c+1\n",
    "            \n",
    "    print(c)\n",
    "    \n",
    "power_ranger(2, 49, 65)\n",
    "power_ranger(3, 1, 27)\n",
    "power_ranger(10, 1, 65)"
   ]
  },
  {
   "cell_type": "code",
   "execution_count": null,
   "metadata": {},
   "outputs": [],
   "source": []
  }
 ],
 "metadata": {
  "kernelspec": {
   "display_name": "Python 3",
   "language": "python",
   "name": "python3"
  },
  "language_info": {
   "codemirror_mode": {
    "name": "ipython",
    "version": 3
   },
   "file_extension": ".py",
   "mimetype": "text/x-python",
   "name": "python",
   "nbconvert_exporter": "python",
   "pygments_lexer": "ipython3",
   "version": "3.8.3"
  }
 },
 "nbformat": 4,
 "nbformat_minor": 4
}
