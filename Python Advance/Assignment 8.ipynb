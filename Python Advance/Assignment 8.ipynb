{
 "cells": [
  {
   "cell_type": "markdown",
   "metadata": {},
   "source": [
    "1. Given a sentence as txt, return True if any two adjacent words have this property: One word ends with a vowel, while the word immediately after begins with a vowel (a e i o u)."
   ]
  },
  {
   "cell_type": "code",
   "execution_count": 49,
   "metadata": {},
   "outputs": [
    {
     "name": "stdout",
     "output_type": "stream",
     "text": [
      "True\n",
      "True\n",
      "False\n",
      "False\n"
     ]
    }
   ],
   "source": [
    "def vowel_links(word):\n",
    "    \n",
    "    list_strings =word.split()\n",
    "    list_words =[]\n",
    "    list_vowels =['a' ,'e' ,'i' ,'o' ,'u']\n",
    "    try:\n",
    "        for count,ele in enumerate(list_strings):\n",
    "                length =len(ele)\n",
    "                if ele[length-1] in list_vowels:\n",
    "                    count=count+1\n",
    "                    ele =list_strings[count]\n",
    "                    length =len(ele)\n",
    "                    if ele[0] in list_vowels:\n",
    "                        print(\"True\")\n",
    "                        break\n",
    "        else:\n",
    "            print(\"False\")\n",
    "    except Exception as ex:\n",
    "        print(\"False\")\n",
    "        \n",
    "vowel_links(\"a very large appliance\")\n",
    "\n",
    "vowel_links(\"go to edabit\")\n",
    "\n",
    "vowel_links(\"an open fire\") \n",
    "\n",
    "vowel_links(\"a sudden applause\")\n"
   ]
  },
  {
   "cell_type": "code",
   "execution_count": null,
   "metadata": {},
   "outputs": [],
   "source": []
  },
  {
   "cell_type": "markdown",
   "metadata": {},
   "source": [
    "2. You are given three inputs: a string, one letter, and a second letter.\n",
    "\n",
    "Write a function that returns True if every instance of the first letter occurs before every instance of the second letter."
   ]
  },
  {
   "cell_type": "code",
   "execution_count": 64,
   "metadata": {},
   "outputs": [
    {
     "name": "stdout",
     "output_type": "stream",
     "text": [
      "True\n",
      "True\n",
      "False\n",
      "False\n"
     ]
    }
   ],
   "source": [
    "def first_before_second(txt ,first,second):\n",
    "    \n",
    "    list_a =[]\n",
    "    \n",
    "    list_a=txt.split()\n",
    "    \n",
    "    s =\"\".join(list_a)\n",
    "    list_first =[]\n",
    "    list_second=[]\n",
    "    for i  in range(0,len(s)):\n",
    "        if s[i]==first:\n",
    "            list_first.append(i)\n",
    "            \n",
    "        elif s[i] ==second:\n",
    "            list_second.append(i)\n",
    "    \n",
    "    c=True\n",
    "    for i in list_first:\n",
    "        for j in list_second:\n",
    "            if i <j:\n",
    "                pass                \n",
    "            else:\n",
    "                print(\"False\")\n",
    "                c=False\n",
    "                break\n",
    "    \n",
    "    if c==True:\n",
    "        print(\"True\")\n",
    "            \n",
    "        \n",
    "first_before_second(\"a rabbit jumps joyfully\", \"a\", \"j\")\n",
    "first_before_second(\"knaves knew about waterfalls\", \"k\", \"w\") \n",
    "first_before_second(\"happy birthday\", \"a\", \"y\")\n",
    "first_before_second(\"precarious kangaroos\", \"k\", \"a\")"
   ]
  },
  {
   "cell_type": "code",
   "execution_count": null,
   "metadata": {},
   "outputs": [],
   "source": []
  },
  {
   "cell_type": "markdown",
   "metadata": {},
   "source": [
    "3. Create a function that returns the characters from a list or string r on odd or even positions, depending on the specifier s. The specifier will be \"odd\" for items on odd positions (1, 3, 5, ...) and \"even\" for items on even positions (2, 4, 6, ...)."
   ]
  },
  {
   "cell_type": "code",
   "execution_count": 17,
   "metadata": {},
   "outputs": [
    {
     "name": "stdout",
     "output_type": "stream",
     "text": [
      "[4, 8]\n",
      "['E', 'A', 'I']\n",
      "['A', 'B', 'T', 'A', 'I', 'Y']\n"
     ]
    }
   ],
   "source": [
    "def char_at_pos(list ,specifier):\n",
    "    list1=[]\n",
    "    if specifier ==\"even\":\n",
    "        \n",
    "        for i in range(0,len(list)):\n",
    "            if i%2!=0:\n",
    "                list1.append(list[i])\n",
    "        return list1 \n",
    "    elif specifier ==\"odd\":\n",
    "        \n",
    "        for i in range(0,len(list)):\n",
    "            if i%2==0:\n",
    "                list1.append(list[i])\n",
    "        \n",
    "        return list1\n",
    "            \n",
    "    else:\n",
    "        pass\n",
    "\n",
    "print(char_at_pos([2, 4, 6, 8, 10], \"even\"))\n",
    "print(char_at_pos(\"EDABIT\", \"odd\"))\n",
    "print(char_at_pos([\"A\", \"R\", \"B\", \"I\", \"T\", \"R\", \"A\", \"R\", \"I\", \"L\", \"Y\"], \"odd\"))"
   ]
  },
  {
   "cell_type": "markdown",
   "metadata": {},
   "source": [
    "Write a function that returns the greatest common divisor of all list elements. If the greatest common divisor is 1, return 1."
   ]
  },
  {
   "cell_type": "code",
   "execution_count": 28,
   "metadata": {},
   "outputs": [
    {
     "name": "stdout",
     "output_type": "stream",
     "text": [
      "The final gcd is 10\n",
      "The final gcd is 1\n",
      "The final gcd is 64\n"
     ]
    }
   ],
   "source": [
    "def gcd(list):\n",
    "    result=list[0]\n",
    "    \n",
    "    for i in list[1:]:\n",
    "        while i>0:\n",
    "            result,i =i,result%i\n",
    "    print(\"The final gcd is {}\".format(result))\n",
    "\n",
    "gcd([10,20,40])\n",
    "gcd([1, 2, 3, 100])\n",
    "gcd([1024, 192, 2048, 512]) "
   ]
  },
  {
   "cell_type": "code",
   "execution_count": null,
   "metadata": {},
   "outputs": [],
   "source": []
  },
  {
   "cell_type": "markdown",
   "metadata": {},
   "source": [
    ". A number/string is a palindrome if the digits/characters are the same when read both forward and backward. Examples include \"racecar\" and 12321. Given a positive number n, check if n or the binary representation of n is palindromic. Return the following:\n",
    "\n",
    "- \"Decimal only.\" if only n is a palindrome.\n",
    "- \"Binary only.\" if only the binary representation of n is a palindrome.\n",
    "- \"Decimal and binary.\" if both are palindromes.\n",
    "- \"Neither!\" if neither are palindromes."
   ]
  },
  {
   "cell_type": "code",
   "execution_count": 53,
   "metadata": {},
   "outputs": [
    {
     "name": "stdout",
     "output_type": "stream",
     "text": [
      "Decimal only\n",
      "Binary Only\n",
      "Decimal and Binary\n",
      "Neither\n"
     ]
    }
   ],
   "source": [
    "def palindrome_type(n):\n",
    "    binary = bin(n).replace(\"0b\", \"\")\n",
    "    temp=n\n",
    "    rev=0  \n",
    "    while(n>0):\n",
    "        dig=n%10\n",
    "        rev=rev*10+dig\n",
    "        n=n//10\n",
    "    \n",
    "    binary_reverse =int(bin(temp)[:1:-1], 2)\n",
    "\n",
    "    if temp ==rev and binary_reverse==temp:\n",
    "        print(\"Decimal and Binary\")\n",
    "        \n",
    "    elif temp==rev and binary_reverse!=temp:\n",
    "        print(\"Decimal only\")\n",
    "        \n",
    "    elif temp!=rev and binary_reverse==temp:\n",
    "        print(\"Binary Only\")\n",
    "        \n",
    "    else:\n",
    "        print(\"Neither\")\n",
    "\n",
    "palindrome_type(1306031)\n",
    "palindrome_type(427787)\n",
    "palindrome_type(313)\n",
    "palindrome_type(934)"
   ]
  },
  {
   "cell_type": "code",
   "execution_count": null,
   "metadata": {},
   "outputs": [],
   "source": []
  },
  {
   "cell_type": "code",
   "execution_count": 45,
   "metadata": {},
   "outputs": [
    {
     "name": "stdout",
     "output_type": "stream",
     "text": [
      "313\n"
     ]
    }
   ],
   "source": [
    "binary = bin(313).replace(\"0b\", \"\")\n",
    "    \n",
    "binary_reverse =int(bin()[:1:-1], 2)\n"
   ]
  },
  {
   "cell_type": "code",
   "execution_count": null,
   "metadata": {},
   "outputs": [],
   "source": []
  }
 ],
 "metadata": {
  "kernelspec": {
   "display_name": "Python 3",
   "language": "python",
   "name": "python3"
  },
  "language_info": {
   "codemirror_mode": {
    "name": "ipython",
    "version": 3
   },
   "file_extension": ".py",
   "mimetype": "text/x-python",
   "name": "python",
   "nbconvert_exporter": "python",
   "pygments_lexer": "ipython3",
   "version": "3.8.3"
  }
 },
 "nbformat": 4,
 "nbformat_minor": 4
}
