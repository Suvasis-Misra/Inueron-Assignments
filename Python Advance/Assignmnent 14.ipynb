{
 "cells": [
  {
   "cell_type": "markdown",
   "metadata": {},
   "source": [
    "1. Given a list of numbers, create a function that removes 25% from every number in the list except the smallest number, and adds the total amount removed to the smallest number."
   ]
  },
  {
   "cell_type": "code",
   "execution_count": 61,
   "metadata": {},
   "outputs": [
    {
     "name": "stdout",
     "output_type": "stream",
     "text": [
      "[12.0, 7.5, 14.5]\n",
      "[3.0, 3.0, 3.0]\n",
      "[27.0, 75.0]\n"
     ]
    }
   ],
   "source": [
    "def show_the_love(list1):\n",
    "    \n",
    "    list_copy =list1.copy()\n",
    "    min=list1[0]\n",
    "    if len(list1)>2:        \n",
    "        for i in range(1,len(list1)):\n",
    "            if list1[i]<min:\n",
    "                min =list1[i]\n",
    "                c=i\n",
    "            else:\n",
    "                pass\n",
    "        sum=0\n",
    "        for j in range(0,len(list1)):\n",
    "            if j !=c:\n",
    "                list1[j] =list1[j] -list1[j]/4 \n",
    "                sum=sum+(list_copy[j]/4)\n",
    "\n",
    "            else:\n",
    "                pass\n",
    "        list1[c] =list1[c]+sum\n",
    "    elif len(list1)<=2:\n",
    "        min =list1[0]\n",
    "        if list1[1]<min:\n",
    "            min =list1[1]\n",
    "            c=list1[0]/4\n",
    "            list1[0] =list1[0]-list1[0]/4\n",
    "            list1[1] =list1[1]+c\n",
    "            \n",
    "        else:\n",
    "            c=list1[1]/4\n",
    "            list1[1] =list1[1]-list1[1]/4\n",
    "            list1[0] =list1[0]+c\n",
    "        \n",
    "        list\n",
    "        \n",
    "    \n",
    "    print(list1)\n",
    "    \n",
    "    \n",
    "    \n",
    "show_the_love([16, 10, 8]) \n",
    "show_the_love([4, 1, 4])\n",
    "show_the_love([2, 100])"
   ]
  },
  {
   "cell_type": "code",
   "execution_count": 3,
   "metadata": {},
   "outputs": [
    {
     "data": {
      "text/plain": [
       "3"
      ]
     },
     "execution_count": 3,
     "metadata": {},
     "output_type": "execute_result"
    }
   ],
   "source": []
  },
  {
   "cell_type": "markdown",
   "metadata": {},
   "source": [
    "2. Create a function that takes in two words as input and returns a list of three elements, in the following order:\n",
    "\n",
    "   1.Shared letters between two words.\n",
    "   2.Letters unique to word 1.\n",
    "   3.Letters unique to word 2.\n",
    "\n",
    "Each element should have unique letters, and have each letter be alphabetically sorted."
   ]
  },
  {
   "cell_type": "code",
   "execution_count": 84,
   "metadata": {},
   "outputs": [
    {
     "name": "stdout",
     "output_type": "stream",
     "text": [
      "['aps', 'hr', 'o']\n",
      "['bdor', 'a', 'e']\n",
      "['enp', 'ahis', 'lov']\n",
      "['flu', 'ekr', 'y']\n",
      "['ahm', 'ct', '']\n"
     ]
    }
   ],
   "source": [
    "def letters(string1,string2):\n",
    "    \n",
    "    list1 =list(string1)\n",
    "    \n",
    "    list2=list(string2)\n",
    "    \n",
    "    list3=[]\n",
    "    list4=[]\n",
    "    for x in list1:\n",
    "        if x not in list3:\n",
    "            list3.append(x)\n",
    "            \n",
    "    for y in list2:\n",
    "        if y not in list4:\n",
    "            list4.append(y)\n",
    "    list5=[]\n",
    "    list_result =[]\n",
    "    for x in list3:\n",
    "        if x in list4:\n",
    "            list5.append(x)\n",
    "    list_result.append(\"\".join(sorted(list5)))\n",
    "    list5=[]\n",
    "    for x in list3:\n",
    "        if x not in list4:\n",
    "            list5.append(x)\n",
    "            \n",
    "    list_result.append(\"\".join(sorted(list5)))\n",
    "    list5=[]\n",
    "    for x in list4:\n",
    "        if x not in list3:\n",
    "            list5.append(x)\n",
    "    list_result.append(\"\".join(sorted(list5)))\n",
    "    print(list_result)\n",
    "\n",
    "letters(\"sharp\", \"soap\")\n",
    "letters(\"board\", \"bored\")\n",
    "letters(\"happiness\", \"envelope\")\n",
    "letters(\"kerfuffle\", \"fluffy\") \n",
    "letters(\"match\", \"ham\")"
   ]
  },
  {
   "cell_type": "code",
   "execution_count": null,
   "metadata": {},
   "outputs": [],
   "source": []
  },
  {
   "cell_type": "markdown",
   "metadata": {},
   "source": [
    "3. Write a function that pairs the first number in an array with the last, the second number with the second to last, etc.\n"
   ]
  },
  {
   "cell_type": "code",
   "execution_count": 44,
   "metadata": {},
   "outputs": [
    {
     "name": "stdout",
     "output_type": "stream",
     "text": [
      "[[1, 7], [2, 6], [3, 5], [4, 4]]\n",
      "[[1, 6], [2, 5], [3, 4]]\n",
      "[[5, 2], [9, 1], [8, 8]]\n",
      "[]\n"
     ]
    }
   ],
   "source": [
    "def pairs(list1):\n",
    "    \n",
    "    list2=[]\n",
    "    list3=[]\n",
    "    list_final=[]\n",
    "    c=int(len(list1))\n",
    "    if c%2 ==0:\n",
    "        for i in range(0,int(c/2)):\n",
    "            list2.append(list1[i])\n",
    "        \n",
    "        for i in range(int(c/2),len(list1)):\n",
    "            list3.append(list1[i])\n",
    "        \n",
    "        list3 =list3[::-1]\n",
    "        list_final =[list(a) for a in zip(list2,list3)]\n",
    "        print(list_final)\n",
    "        \n",
    "    else:\n",
    "        for i in range(0,int(c/2)):\n",
    "            list2.append(list1[i])\n",
    "            \n",
    "        for i in range(int(c/2) ,len(list1)):\n",
    "            list3.append(list1[i])\n",
    "            \n",
    "        list3 =list3[::-1]\n",
    "        c=len(list3)-1\n",
    "        list2.append(list3[c])\n",
    "        list_final =[list(a) for a in zip(list2,list3)]\n",
    "        print(list_final)\n",
    "pairs([1, 2, 3, 4, 5,6,7])\n",
    "pairs([1, 2, 3, 4, 5, 6])\n",
    "pairs([5, 9, 8, 1, 2]) \n",
    "pairs([])"
   ]
  },
  {
   "cell_type": "code",
   "execution_count": null,
   "metadata": {},
   "outputs": [],
   "source": []
  },
  {
   "cell_type": "markdown",
   "metadata": {},
   "source": [
    "4. Write a function that adds two numbers. The catch, however, is that the numbers will be strings"
   ]
  },
  {
   "cell_type": "code",
   "execution_count": 58,
   "metadata": {},
   "outputs": [
    {
     "name": "stdout",
     "output_type": "stream",
     "text": [
      "1874682736267235927391936562808774986\n",
      "1\n",
      "9\n"
     ]
    }
   ],
   "source": [
    "def add_str_nums(string1, string2):\n",
    "    \n",
    "    s =int(string1)\n",
    "    if string2 == \"\":\n",
    "        a=0\n",
    "    else:\n",
    "        a =int(string2)\n",
    "    sum=s+a\n",
    "    print(sum)\n",
    "    \n",
    "add_str_nums(\"1874682736267235927359283579235789257\", \"32652983572985729\")\n",
    "add_str_nums(\"1\", \"\") \n",
    "add_str_nums(\"4\", \"5\")"
   ]
  },
  {
   "cell_type": "markdown",
   "metadata": {},
   "source": []
  },
  {
   "cell_type": "markdown",
   "metadata": {},
   "source": [
    "5. lPaeesh le pemu mnxit ehess rtnisg! Oh, sorry, that was supposed to say: Please help me unmix these strings!\n",
    "\n",
    "Somehow my strings have all become mixed up; every pair of characters has been swapped. Help me undo this so I can understand my strings again."
   ]
  },
  {
   "cell_type": "code",
   "execution_count": 37,
   "metadata": {},
   "outputs": [
    {
     "name": "stdout",
     "output_type": "stream",
     "text": [
      "214365\n",
      "This is a mixed up string.\n",
      "abcde\n"
     ]
    }
   ],
   "source": [
    "def unmix(string1):\n",
    "    string2 =\"\"\n",
    "    for x in range(0,len(string1),2):\n",
    "        string2 =string2+string1[x:x+2][::-1]\n",
    "        \n",
    "    print(\"\".join(string2))\n",
    "    \n",
    "\n",
    "unmix(\"123456\")\n",
    "unmix(\"hTsii  s aimex dpus rtni.g\") \n",
    "unmix(\"badce\")\n",
    " \n"
   ]
  },
  {
   "cell_type": "code",
   "execution_count": null,
   "metadata": {},
   "outputs": [],
   "source": []
  },
  {
   "cell_type": "code",
   "execution_count": null,
   "metadata": {},
   "outputs": [],
   "source": []
  }
 ],
 "metadata": {
  "kernelspec": {
   "display_name": "Python 3",
   "language": "python",
   "name": "python3"
  },
  "language_info": {
   "codemirror_mode": {
    "name": "ipython",
    "version": 3
   },
   "file_extension": ".py",
   "mimetype": "text/x-python",
   "name": "python",
   "nbconvert_exporter": "python",
   "pygments_lexer": "ipython3",
   "version": "3.8.3"
  }
 },
 "nbformat": 4,
 "nbformat_minor": 4
}
