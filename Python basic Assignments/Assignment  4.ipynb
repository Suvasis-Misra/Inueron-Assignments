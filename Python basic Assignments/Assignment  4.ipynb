{
 "cells": [
  {
   "cell_type": "markdown",
   "metadata": {},
   "source": [
    "1.Write a Python Program to Find the Factorial of a Number?"
   ]
  },
  {
   "cell_type": "code",
   "execution_count": 1,
   "metadata": {},
   "outputs": [
    {
     "name": "stdout",
     "output_type": "stream",
     "text": [
      "Enter the number that you want the factorial for 5\n",
      "the factorial of the number is 120\n"
     ]
    }
   ],
   "source": [
    "try:\n",
    "    a =int(input(\"Enter the number that you want the factorial for \"))\n",
    "fact=1\n",
    "for x in range(1,a+1):\n",
    "    fact=fact*x\n",
    "\n",
    "print(\"the factorial of the number is {}\" .format(fact))\n",
    "    "
   ]
  },
  {
   "cell_type": "markdown",
   "metadata": {},
   "source": [
    "2.Write a Python Program to Display the multiplication Table?"
   ]
  },
  {
   "cell_type": "code",
   "execution_count": 2,
   "metadata": {},
   "outputs": [
    {
     "name": "stdout",
     "output_type": "stream",
     "text": [
      "Enter the number that you want to see the multiplication for4\n",
      "4 x 0 = 0\n",
      "4 x 1 = 4\n",
      "4 x 2 = 8\n",
      "4 x 3 = 12\n",
      "4 x 4 = 16\n",
      "4 x 5 = 20\n",
      "4 x 6 = 24\n",
      "4 x 7 = 28\n",
      "4 x 8 = 32\n",
      "4 x 9 = 36\n",
      "4 x 10 = 40\n"
     ]
    }
   ],
   "source": [
    "number  =int(input(\"Enter the number that you want to see the multiplication for\"))\n",
    "\n",
    "\n",
    "for i in range(0,11):\n",
    "    mul =number*i\n",
    "    print(number , 'x' ,i ,'=' ,mul)\n",
    "\n"
   ]
  },
  {
   "cell_type": "markdown",
   "metadata": {},
   "source": [
    "3.Write a Python Program to Print the Fibonacci sequence?"
   ]
  },
  {
   "cell_type": "code",
   "execution_count": 4,
   "metadata": {},
   "outputs": [
    {
     "name": "stdout",
     "output_type": "stream",
     "text": [
      "How many terms? 4\n",
      "Fibonacci sequence:\n",
      "0\n",
      "1\n",
      "1\n",
      "2\n"
     ]
    }
   ],
   "source": [
    "\n",
    "noofterms = int(input(\"How many terms? \"))\n",
    "\n",
    "\n",
    "n1, n2 = 0, 1\n",
    "count = 0\n",
    "\n",
    "\n",
    "if noofterms <= 0:\n",
    "   print(\"Please enter a positive integer\")\n",
    "elif noofterms == 1:\n",
    "   print(\"Fibonacci sequence upto\",noofterms,\":\")\n",
    "   print(n1)\n",
    "else:\n",
    "   print(\"Fibonacci sequence:\")\n",
    "   while count < noofterms:\n",
    "       print(n1)\n",
    "       nth = n1 + n2\n",
    "       n1 = n2\n",
    "       n2 = nth\n",
    "       count += 1"
   ]
  },
  {
   "cell_type": "markdown",
   "metadata": {},
   "source": [
    "4.Write a Python Program to Check Armstrong Number?"
   ]
  },
  {
   "cell_type": "code",
   "execution_count": 6,
   "metadata": {},
   "outputs": [
    {
     "name": "stdout",
     "output_type": "stream",
     "text": [
      "Enter a number to check whether it is armstring number or not123\n",
      "this is not a armstrong number\n"
     ]
    }
   ],
   "source": [
    "num =int(input(\"Enter a number to check whether it is armstring number or not\"))\n",
    "\n",
    "\n",
    "sum=0\n",
    "\n",
    "temp=num\n",
    "\n",
    "while temp > 0:\n",
    "   digit = temp % 10\n",
    "   sum += digit ** 3\n",
    "   temp //= 10\n",
    "\n",
    "if num ==sum:\n",
    "    print(\" this is a armstrong number\")\n",
    "    \n",
    "else:\n",
    "    print(\"this is not a armstrong number\")"
   ]
  },
  {
   "cell_type": "markdown",
   "metadata": {},
   "source": [
    "5.Write a Python Program to Find Armstrong Number in an Interval?"
   ]
  },
  {
   "cell_type": "code",
   "execution_count": 22,
   "metadata": {},
   "outputs": [
    {
     "name": "stdout",
     "output_type": "stream",
     "text": [
      "the armstrong numbers in the range 100 to 1000 is [125, 153, 216, 370, 371, 407, 729]\n"
     ]
    }
   ],
   "source": [
    "x=range(100,1000) \n",
    "list=[]\n",
    "for i in x:\n",
    "    sum=0\n",
    "    \n",
    "    temp=i\n",
    "\n",
    "    while temp > 0:\n",
    "        digit = temp % 10\n",
    "        sum += digit ** 3\n",
    "        temp //= 10\n",
    "\n",
    "        if i ==sum:\n",
    "            list.append(i)\n",
    "            \n",
    "        else:\n",
    "            pass\n",
    "print(\"the armstrong numbers in the range 100 to 1000 is {}\" .format(list))\n",
    "\n",
    "\n",
    "\n",
    "\n",
    "\n"
   ]
  },
  {
   "cell_type": "markdown",
   "metadata": {},
   "source": [
    "6.Write a Python Program to Find the Sum of Natural Numbers?"
   ]
  },
  {
   "cell_type": "code",
   "execution_count": 27,
   "metadata": {},
   "outputs": [
    {
     "name": "stdout",
     "output_type": "stream",
     "text": [
      "The sum of the natural numbers between 100 and 1000 is  494550\n"
     ]
    }
   ],
   "source": [
    "\n",
    "z =range(100,1000)\n",
    "sum=0`\n",
    "for i in z:\n",
    "    sum=sum+i\n",
    "\n",
    "print(\"The sum of the natural numbers between 100 and 1000 is  {}\".format(sum))"
   ]
  },
  {
   "cell_type": "code",
   "execution_count": null,
   "metadata": {},
   "outputs": [],
   "source": []
  }
 ],
 "metadata": {
  "kernelspec": {
   "display_name": "Python 3",
   "language": "python",
   "name": "python3"
  },
  "language_info": {
   "codemirror_mode": {
    "name": "ipython",
    "version": 3
   },
   "file_extension": ".py",
   "mimetype": "text/x-python",
   "name": "python",
   "nbconvert_exporter": "python",
   "pygments_lexer": "ipython3",
   "version": "3.8.3"
  }
 },
 "nbformat": 4,
 "nbformat_minor": 4
}
