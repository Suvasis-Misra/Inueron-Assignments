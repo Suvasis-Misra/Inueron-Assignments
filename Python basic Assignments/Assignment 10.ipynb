{
 "cells": [
  {
   "cell_type": "markdown",
   "metadata": {},
   "source": [
    "1.Write a Python program to find sum of elements in list?"
   ]
  },
  {
   "cell_type": "code",
   "execution_count": 1,
   "metadata": {},
   "outputs": [
    {
     "name": "stdout",
     "output_type": "stream",
     "text": [
      "Enter the length of the list3\n",
      "enter the elements that have to be kept in list1\n",
      "enter the elements that have to be kept in list2\n",
      "enter the elements that have to be kept in list3\n",
      " the list formed is [1, 2, 3]\n",
      " the sum of the elements in the list is 6 \n"
     ]
    }
   ],
   "source": [
    "def sum_list(list):\n",
    "    sum=0\n",
    "    for i in list:\n",
    "        sum=sum+i\n",
    "    \n",
    "    return sum\n",
    "\n",
    "list =[]\n",
    "\n",
    "length =int(input(\"Enter the length of the list\"))\n",
    "\n",
    "\n",
    "for i in range(length):\n",
    "    element =int(input(\"enter the elements that have to be kept in list\"))\n",
    "    list.append(element)\n",
    "    \n",
    "sum_list =sum_list(list)\n",
    "\n",
    "print(\" the list formed is {}\".format(list))\n",
    "print(\" the sum of the elements in the list is {} \".format(sum_list))\n"
   ]
  },
  {
   "cell_type": "markdown",
   "metadata": {},
   "source": [
    "2.Write a Python program to  Multiply all numbers in the list?"
   ]
  },
  {
   "cell_type": "code",
   "execution_count": 2,
   "metadata": {},
   "outputs": [
    {
     "name": "stdout",
     "output_type": "stream",
     "text": [
      "Enter the length of the list4\n",
      "enter the elements that have to be kept in list1\n",
      "enter the elements that have to be kept in list2\n",
      "enter the elements that have to be kept in list3\n",
      "enter the elements that have to be kept in list4\n",
      " the list formed is [1, 2, 3, 4]\n",
      " the product of the elements in the list is 24 \n"
     ]
    }
   ],
   "source": [
    "def multiply_list(list):\n",
    "    mul =1\n",
    "    for i in list:\n",
    "        mul =mul*i\n",
    "        \n",
    "    return mul\n",
    "\n",
    "list =[]\n",
    "\n",
    "length =int(input(\"Enter the length of the list\"))\n",
    "\n",
    "\n",
    "for i in range(length):\n",
    "    element =int(input(\"enter the elements that have to be kept in list\"))\n",
    "    list.append(element)\n",
    "    \n",
    "multiply_list =multiply_list(list)\n",
    "\n",
    "print(\" the list formed is {}\".format(list))\n",
    "print(\" the product of the elements in the list is {} \".format(multiply_list))"
   ]
  },
  {
   "cell_type": "markdown",
   "metadata": {},
   "source": [
    " 3.Write a Python program to find smallest number in a list?"
   ]
  },
  {
   "cell_type": "code",
   "execution_count": 3,
   "metadata": {},
   "outputs": [
    {
     "name": "stdout",
     "output_type": "stream",
     "text": [
      "Enter the length of the list3\n",
      "enter the elements that have to be kept in list4\n",
      "enter the elements that have to be kept in list5\n",
      "enter the elements that have to be kept in list6\n",
      " the list that we have formed is [4, 5, 6]\n",
      " the smallest number in the list is 4\n"
     ]
    }
   ],
   "source": [
    "def small_number(list):\n",
    "    num =list[0]\n",
    "    for i in list:\n",
    "        if i< num:\n",
    "            num=i\n",
    "    \n",
    "    return num\n",
    "\n",
    "\n",
    "list =[]\n",
    "\n",
    "length =int(input(\"Enter the length of the list\"))\n",
    "\n",
    "\n",
    "for i in range(length):\n",
    "    element =int(input(\"enter the elements that have to be kept in list\"))\n",
    "    list.append(element)\n",
    "    \n",
    "\n",
    "\n",
    "small_number =small_number(list)\n",
    "\n",
    "print( \" the list that we have formed is {}\" .format(list))\n",
    "\n",
    "print(\" the smallest number in the list is {}\".format(small_number))\n",
    "            \n",
    "            \n",
    "            "
   ]
  },
  {
   "cell_type": "code",
   "execution_count": 4,
   "metadata": {},
   "outputs": [],
   "source": [
    "4.Write a Python program to find largest number in a list?"
   ]
  },
  {
   "cell_type": "code",
   "execution_count": null,
   "metadata": {},
   "outputs": [],
   "source": [
    "4.Write a Python program to find largest number in a list"
   ]
  },
  {
   "cell_type": "code",
   "execution_count": 5,
   "metadata": {},
   "outputs": [
    {
     "name": "stdout",
     "output_type": "stream",
     "text": [
      "Enter the length of the list4\n",
      "enter the elements that have to be kept in list5\n",
      "enter the elements that have to be kept in list6\n",
      "enter the elements that have to be kept in list7\n",
      "enter the elements that have to be kept in list8\n",
      " the list that we have formed is [5, 6, 7, 8]\n",
      " the largest number in the list is 8\n"
     ]
    }
   ],
   "source": [
    "def large_number(list):\n",
    "    num =list[0]\n",
    "    for i in list:\n",
    "        if i > num:\n",
    "            num=i\n",
    "    \n",
    "    return num\n",
    "\n",
    "\n",
    "list =[]\n",
    "\n",
    "length =int(input(\"Enter the length of the list\"))\n",
    "\n",
    "\n",
    "for i in range(length):\n",
    "    element =int(input(\"enter the elements that have to be kept in list\"))\n",
    "    list.append(element)\n",
    "    \n",
    "\n",
    "\n",
    "large_number =large_number(list)\n",
    "\n",
    "print( \" the list that we have formed is {}\" .format(list))\n",
    "\n",
    "print(\" the largest number in the list is {}\".format(large_number))"
   ]
  },
  {
   "cell_type": "markdown",
   "metadata": {},
   "source": [
    "5.Write a Python program to find second largest number in a list?"
   ]
  },
  {
   "cell_type": "code",
   "execution_count": 14,
   "metadata": {},
   "outputs": [
    {
     "name": "stdout",
     "output_type": "stream",
     "text": [
      "Enter the length of the list4\n",
      "Enter the elements that you want to see in the list56\n",
      "Enter the elements that you want to see in the list23\n",
      "Enter the elements that you want to see in the list56\n",
      "Enter the elements that you want to see in the list65\n",
      " the list that we have entered is [56, 23, 56, 65]\n",
      "the second largest number is 56\n"
     ]
    }
   ],
   "source": [
    "def second_largest_number(list):\n",
    "    \n",
    "    num =list[0]\n",
    "    \n",
    "    for i in list:\n",
    "        if i > num:\n",
    "            num =i\n",
    "    \n",
    "    print(\" the list that we have entered is {}\".format(list))        \n",
    "    list.remove(num)\n",
    "    \n",
    "    num2=list[0]\n",
    "    for j in list:\n",
    "        if j >num2:\n",
    "            num2 =j\n",
    "    \n",
    "    return num2\n",
    "list =[]\n",
    "\n",
    "length =int(input(\"Enter the length of the list\"))\n",
    "\n",
    "for i in range(length):\n",
    "    element =int(input(\"Enter the elements that you want to see in the list\"))\n",
    "    list.append(element)\n",
    "    \n",
    "\n",
    "second_largest_number =second_largest_number(list)\n",
    "\n",
    "\n",
    "print(\"the second largest number is {}\".format(second_largest_number))\n",
    "\n",
    "\n",
    "\n"
   ]
  },
  {
   "cell_type": "markdown",
   "metadata": {},
   "source": [
    "7.Write a Python program to print even numbers in a list?"
   ]
  },
  {
   "cell_type": "code",
   "execution_count": 16,
   "metadata": {},
   "outputs": [
    {
     "name": "stdout",
     "output_type": "stream",
     "text": [
      " 4 is an even number\n",
      " 6 is an even number\n",
      " 56 is an even number\n",
      " 12 is an even number\n"
     ]
    }
   ],
   "source": [
    "list =[1,4,5,6,43,56,76.23,12]\n",
    "\n",
    "for i in list:\n",
    "    if i %2 ==0:\n",
    "        print(\" {} is an even number\".format(i))"
   ]
  },
  {
   "cell_type": "markdown",
   "metadata": {},
   "source": []
  },
  {
   "cell_type": "markdown",
   "metadata": {},
   "source": [
    "8.Write a Python program to print odd numbers in a List"
   ]
  },
  {
   "cell_type": "code",
   "execution_count": 21,
   "metadata": {},
   "outputs": [
    {
     "name": "stdout",
     "output_type": "stream",
     "text": [
      "1 is an odd number\n",
      "3 is an odd number\n",
      "5 is an odd number\n",
      "7 is an odd number\n"
     ]
    }
   ],
   "source": [
    "list  =[1,2,3,4,5,6,7,8]\n",
    "\n",
    "\n",
    "for i in list:\n",
    "    if i %2 != 0:\n",
    "        print(\"{} is an odd number\".format(i) )"
   ]
  },
  {
   "cell_type": "code",
   "execution_count": 22,
   "metadata": {},
   "outputs": [
    {
     "name": "stdout",
     "output_type": "stream",
     "text": [
      "Object `List` not found.\n"
     ]
    }
   ],
   "source": [
    "9.Write a Python program to Remove empty List from List?"
   ]
  },
  {
   "cell_type": "code",
   "execution_count": null,
   "metadata": {},
   "outputs": [],
   "source": [
    "9.Write a Python program to Remove empty List from List"
   ]
  },
  {
   "cell_type": "code",
   "execution_count": 26,
   "metadata": {},
   "outputs": [
    {
     "name": "stdout",
     "output_type": "stream",
     "text": [
      " the new list is [12, 34, 12, 67, [], 12, 12, 56]\n",
      "[12, 34, 12, 67, [], 12, 12, 56]\n"
     ]
    }
   ],
   "source": [
    "list =[12,34,12,67 ,[] ,12, 12,56]\n",
    "\n",
    "\n",
    "print(\" the new list is {}\".format(list))\n",
    "\n",
    "\n",
    "new_list =[ele for ele in list if ele != '[]']\n",
    "\n",
    "print(new_list)"
   ]
  },
  {
   "cell_type": "markdown",
   "metadata": {},
   "source": [
    "10.Write a Python program to Cloning or Copying a list?"
   ]
  },
  {
   "cell_type": "code",
   "execution_count": 29,
   "metadata": {},
   "outputs": [
    {
     "name": "stdout",
     "output_type": "stream",
     "text": [
      "[1, 3, 4, 4, 5, 5, 33, 443, 23, 434, 223]\n"
     ]
    }
   ],
   "source": [
    "\n",
    "list =[1,3,4,4,5,5,33,443,23,434,223]\n",
    "\n",
    "list2 =list.copy()\n",
    "\n",
    "print(list2)"
   ]
  },
  {
   "cell_type": "markdown",
   "metadata": {},
   "source": [
    "11.Write a Python program to Count occurrences of an element in a list?"
   ]
  },
  {
   "cell_type": "code",
   "execution_count": null,
   "metadata": {},
   "outputs": [],
   "source": []
  },
  {
   "cell_type": "code",
   "execution_count": 36,
   "metadata": {},
   "outputs": [
    {
     "name": "stdout",
     "output_type": "stream",
     "text": [
      " Enter the length of the  list that you want to enter4\n",
      "enter the numbers that  you want to see in the list1\n",
      "enter the numbers that  you want to see in the list2\n",
      "enter the numbers that  you want to see in the list1\n",
      "enter the numbers that  you want to see in the list2\n",
      "<class 'collections.Counter'>\n",
      "1 : 2\n",
      "2 : 2\n"
     ]
    }
   ],
   "source": [
    "import collections\n",
    "\n",
    "list =[]\n",
    "\n",
    "length =int(input(\" Enter the length of the  list that you want to enter\"))\n",
    "\n",
    "for i in range(length):\n",
    "    ele =int(input(\"enter the numbers that  you want to see in the list\"))\n",
    "    list.append(ele)\n",
    "    \n",
    "\n",
    "elements_counter =collections.Counter(list)\n",
    "\n",
    "print(type(elements_counter))\n",
    "    \n",
    "\n",
    "for key,value in elements_counter.items():\n",
    "    print(\"{} : {}\" .format(key,value))\n",
    "\n"
   ]
  },
  {
   "cell_type": "code",
   "execution_count": null,
   "metadata": {},
   "outputs": [],
   "source": []
  }
 ],
 "metadata": {
  "kernelspec": {
   "display_name": "Python 3",
   "language": "python",
   "name": "python3"
  },
  "language_info": {
   "codemirror_mode": {
    "name": "ipython",
    "version": 3
   },
   "file_extension": ".py",
   "mimetype": "text/x-python",
   "name": "python",
   "nbconvert_exporter": "python",
   "pygments_lexer": "ipython3",
   "version": "3.8.3"
  }
 },
 "nbformat": 4,
 "nbformat_minor": 4
}
