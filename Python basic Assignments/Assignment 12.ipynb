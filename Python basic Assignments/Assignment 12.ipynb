{
 "cells": [
  {
   "cell_type": "markdown",
   "metadata": {},
   "source": [
    "1.Write a Python program to Extract Unique values dictionary values?"
   ]
  },
  {
   "cell_type": "code",
   "execution_count": 35,
   "metadata": {},
   "outputs": [
    {
     "name": "stdout",
     "output_type": "stream",
     "text": [
      " the unique values in the list are {56, 1, 6}\n"
     ]
    }
   ],
   "source": [
    "test_dict ={'ggs':1 ,'dfs':6 ,'mps': 56 ,'ghf':1 ,'abc' :6 }\n",
    "list_values =[]\n",
    "\n",
    "for i in test_dict.values():\n",
    "    list_values.append(i)\n",
    "\n",
    "\n",
    "thisset =set(list_values)\n",
    "print(\" the unique values in the list are {}\" .format(thisset))\n",
    "       \n"
   ]
  },
  {
   "cell_type": "markdown",
   "metadata": {},
   "source": [
    "2.Write a Python program to find the sum of all items in a dictionary?"
   ]
  },
  {
   "cell_type": "code",
   "execution_count": 36,
   "metadata": {},
   "outputs": [
    {
     "name": "stdout",
     "output_type": "stream",
     "text": [
      " the sum of all values in the dictionary is 70\n"
     ]
    }
   ],
   "source": [
    "test_dict ={'ggs':1 ,'dfs':6 ,'mps': 56 ,'ghf':1 ,'abc' :6 }\n",
    "sum=0\n",
    "\n",
    "for i in test_dict.values():\n",
    "    sum =sum+i\n",
    "    \n",
    "print(\" the sum of all values in the dictionary is {}\" .format(sum))"
   ]
  },
  {
   "cell_type": "markdown",
   "metadata": {},
   "source": [
    "3.Write a Python program to Merging two Dictionaries?"
   ]
  },
  {
   "cell_type": "code",
   "execution_count": 40,
   "metadata": {},
   "outputs": [
    {
     "name": "stdout",
     "output_type": "stream",
     "text": [
      "The merged dictionary is {1: ['Mercedes', 'BMW', 'Maruti', 'Hyundai'], 2: ['Maruti', 'Hyundai', 'Mercedes', 'BMW']}\n"
     ]
    }
   ],
   "source": [
    "dict1= {1:['Maruti' ,'Hyundai'] ,2: ['Mercedes' ,'BMW']}\n",
    "\n",
    "dict2 ={1:['Mercedes' ,'BMW'] ,2:['Maruti' ,'Hyundai']}\n",
    "\n",
    "\n",
    "for k ,v in dict1.items():\n",
    "    if k in dict2:\n",
    "        dict2[k].extend(v)        \n",
    "    else:\n",
    "        dict2[k] =v\n",
    "\n",
    "\n",
    "print(\"The merged dictionary is {}\" .format(dict2))"
   ]
  },
  {
   "cell_type": "markdown",
   "metadata": {},
   "source": [
    "4.Write a Python program to convert key-values list to flat dictionary?"
   ]
  },
  {
   "cell_type": "code",
   "execution_count": 41,
   "metadata": {},
   "outputs": [
    {
     "name": "stdout",
     "output_type": "stream",
     "text": [
      "This is a Dict:\n",
      "\n",
      "a 1\n",
      "b 2\n",
      "c 3\n",
      "d 4\n"
     ]
    }
   ],
   "source": [
    "print(\"This is a Dict:\\n\")\n",
    "d = {}\n",
    "d['a'] = 1\n",
    "d['b'] = 2\n",
    "d['c'] = 3\n",
    "d['d'] = 4\n",
    "  \n",
    "for key, value in d.items():\n",
    "    print(key, value)"
   ]
  },
  {
   "cell_type": "markdown",
   "metadata": {},
   "source": [
    "Write a Python program to insertion at the beginning in OrderedDict?"
   ]
  },
  {
   "cell_type": "code",
   "execution_count": 5,
   "metadata": {},
   "outputs": [
    {
     "name": "stdout",
     "output_type": "stream",
     "text": [
      " The combined ordered dictionary is OrderedDict([('c', 3), ('d', 5), ('a', 1), ('b', 2)])\n"
     ]
    }
   ],
   "source": [
    "from collections import OrderedDict\n",
    "\n",
    "od1 =OrderedDict()\n",
    "\n",
    "od1['a'] =1\n",
    "od1['b'] =2\n",
    "\n",
    "\n",
    "od2 =OrderedDict()\n",
    "\n",
    "od2['c'] = 3\n",
    "od2['d'] =5\n",
    "\n",
    "\n",
    "combined_od =OrderedDict(list(od2.items()) + list(od1.items()))\n",
    "\n",
    "print(\" The combined ordered dictionary is {}\" .format(combined_od))"
   ]
  },
  {
   "cell_type": "markdown",
   "metadata": {},
   "source": [
    "6.Write a Python program to check order of character in string using OrderedDict()?"
   ]
  },
  {
   "cell_type": "code",
   "execution_count": 11,
   "metadata": {},
   "outputs": [
    {
     "name": "stdout",
     "output_type": "stream",
     "text": [
      "False\n"
     ]
    }
   ],
   "source": [
    "def checkPattern(string, pattern):\n",
    "  \n",
    "   \n",
    "    l = len(pattern)\n",
    "  \n",
    "   \n",
    "    if len(string) < l:\n",
    "        return False\n",
    "  \n",
    "    for i in range(l - 1):\n",
    "  \n",
    "        \n",
    "        x = pattern[i]\n",
    "        y = pattern[i + 1]\n",
    "   \n",
    "       \n",
    "        last = string.rindex(x)\n",
    "  \n",
    "     \n",
    "        \n",
    "        first = string.index(y)\n",
    "  \n",
    "             \n",
    "        \n",
    "        \n",
    "        if last == -1 or first == -1 or last > first:\n",
    "            return False\n",
    "  \n",
    "     \n",
    "    \n",
    "    return True\n",
    "  \n",
    "\n",
    "if __name__ == \"__main__\":\n",
    "    string = \"engineers rock\"\n",
    "    pattern = \"gsr\"\n",
    "    print(checkPattern(string, pattern))\n",
    "  \n"
   ]
  },
  {
   "cell_type": "markdown",
   "metadata": {},
   "source": [
    "7.Write a Python program to sort Python Dictionaries by Key or Value?"
   ]
  },
  {
   "cell_type": "code",
   "execution_count": 18,
   "metadata": {},
   "outputs": [
    {
     "name": "stdout",
     "output_type": "stream",
     "text": [
      " the sorted dictionary is {}  {'abc': 23, 'mnh': 32, 'cde': 35, 'dfe': 123, 'klm': 345}\n"
     ]
    }
   ],
   "source": [
    "dict1 ={'abc' : 23 , 'cde' : 35 ,'dfe': 123 ,'klm' :345 , 'mnh':32}\n",
    "\n",
    "sorted_values =sorted(dict1.values())\n",
    "\n",
    "sorted_dict ={}\n",
    "\n",
    "\n",
    "for i in sorted_values:\n",
    "    for k in dict1.keys():\n",
    "        if dict1[k] ==i:\n",
    "            sorted_dict[k] =dict1[k]\n",
    "            break\n",
    "\n",
    "print(\" the sorted dictionary is {} \" ,format(sorted_dict))\n",
    "\n"
   ]
  },
  {
   "cell_type": "code",
   "execution_count": null,
   "metadata": {},
   "outputs": [],
   "source": []
  }
 ],
 "metadata": {
  "kernelspec": {
   "display_name": "Python 3",
   "language": "python",
   "name": "python3"
  },
  "language_info": {
   "codemirror_mode": {
    "name": "ipython",
    "version": 3
   },
   "file_extension": ".py",
   "mimetype": "text/x-python",
   "name": "python",
   "nbconvert_exporter": "python",
   "pygments_lexer": "ipython3",
   "version": "3.8.3"
  }
 },
 "nbformat": 4,
 "nbformat_minor": 4
}
