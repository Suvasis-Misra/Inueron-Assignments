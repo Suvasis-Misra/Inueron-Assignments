{
 "cells": [
  {
   "cell_type": "markdown",
   "metadata": {},
   "source": [
    "Write a program that calculates and prints the value according to the given formula:\n",
    "\n",
    "Q = Square root of [(2 * C * D)/H]\n",
    "\n",
    "Following are the fixed values of C and H:\n",
    "\n",
    "C is 50. H is 30.\n",
    "\n",
    "D is the variable whose values should be input to your program in a comma-separated sequence.\n",
    "\n",
    "Example\n",
    "\n",
    "Let us assume the following comma separated input sequence is given to the program:\n",
    "\n",
    "100,150,180\n",
    "\n",
    "The output of the program should be:\n",
    "\n",
    "18,22,24"
   ]
  },
  {
   "cell_type": "code",
   "execution_count": 21,
   "metadata": {},
   "outputs": [
    {
     "name": "stdout",
     "output_type": "stream",
     "text": [
      "enter three integers separated by comma12,15,17\n",
      " the square root of three numbers are [6.324555320336759, 7.0710678118654755, 7.52772652709081] \n"
     ]
    }
   ],
   "source": [
    "import math\n",
    "\n",
    "\n",
    "D=[]\n",
    "e = input(\"enter three integers separated by comma\").split(',')\n",
    "\n",
    "for i in e:\n",
    "    c =int(i)\n",
    "    D.append(c)\n",
    "\n",
    "C=50\n",
    "H=30\n",
    "\n",
    "Q =[]\n",
    "for i in D:\n",
    "    f= math.sqrt((2 * C * i)/H)\n",
    "    Q.append(f)\n",
    "    \n",
    "print(\" the square root of three numbers are {} \" .format(Q))\n"
   ]
  },
  {
   "cell_type": "markdown",
   "metadata": {},
   "source": []
  },
  {
   "cell_type": "markdown",
   "metadata": {},
   "source": [
    "Question 2:\n",
    "Write a program which takes 2 digits, X,Y as input and generates a 2-dimensional array. The element value in the i-th row and j-th column of the array should be i*j.\n",
    "\n",
    "Note: i=0,1.., X-1; j=0,1,¡\u001fY-1.\n",
    "\n",
    "Example\n",
    "\n",
    "Suppose the following inputs are given to the program:\n",
    "\n",
    "3,5\n",
    "\n",
    "Then, the output of the program should be:\n",
    "\n",
    "[[0, 0, 0, 0, 0], [0, 1, 2, 3, 4], [0, 2, 4, 6, 8]] \n"
   ]
  },
  {
   "cell_type": "markdown",
   "metadata": {},
   "source": [
    "Write a program that accepts a comma separated sequence of words as input and prints the words in a comma-separated sequence after sorting them alphabetically.\n",
    "\n",
    "Suppose the following input is supplied to the program:\n",
    "\n",
    "without,hello,bag,world\n",
    "\n",
    "Then, the output should be:\n",
    "\n",
    "bag,hello,without,world"
   ]
  },
  {
   "cell_type": "code",
   "execution_count": 31,
   "metadata": {},
   "outputs": [
    {
     "name": "stdout",
     "output_type": "stream",
     "text": [
      "Enter the words which you want to enter separated by commasuvasis,is,great\n",
      "great\n",
      "is\n",
      "suvasis\n"
     ]
    }
   ],
   "source": [
    "s =input(\"Enter the words which you want to enter separated by comma\").split(',')\n",
    "\n",
    "list =[]\n",
    "\n",
    "for word in s:\n",
    "    list.append(word)\n",
    "\n",
    "list.sort()\n",
    "\n",
    "for words in list:\n",
    "    print(words)"
   ]
  },
  {
   "cell_type": "code",
   "execution_count": 41,
   "metadata": {},
   "outputs": [
    {
     "name": "stdout",
     "output_type": "stream",
     "text": [
      "Enter the words that you want to enter separated by whitespaces dog is an animal and cat is an animal\n",
      "['an', 'and', 'animal', 'cat', 'dog', 'is']\n"
     ]
    }
   ],
   "source": [
    "def unique_words(s):\n",
    "    unique_words=[]\n",
    "    thisset =set(s)\n",
    "    \n",
    "    for i in thisset:\n",
    "        unique_words.append(i)\n",
    "        \n",
    "    return unique_words\n",
    "\n",
    "\n",
    "s =input(\"Enter the words that you want to enter separated by whitespaces\").split()\n",
    "\n",
    "\n",
    "unique_words=unique_words(s)\n",
    "\n",
    "\n",
    "\n",
    "unique_words.sort()\n",
    "\n",
    "print(unique_words)"
   ]
  },
  {
   "cell_type": "markdown",
   "metadata": {},
   "source": [
    "Write a program that accepts a sentence and calculate the number of letters and digits.\n",
    "\n",
    "Suppose the following input is supplied to the program:\n",
    "\n",
    "hello world! 123\n",
    "\n",
    "Then, the output should be:\n",
    "\n",
    "LETTERS 10\n",
    "\n",
    "DIGITS 3"
   ]
  },
  {
   "cell_type": "code",
   "execution_count": 59,
   "metadata": {},
   "outputs": [
    {
     "name": "stdout",
     "output_type": "stream",
     "text": [
      "enter a sentence of your wish separated by whitespaces and characterssuvasis is born on 30 may 1994\n",
      "the digits in the word is 6 \n",
      " the letters in the word are 18\n"
     ]
    }
   ],
   "source": [
    "def count_digit(s):\n",
    "    counts =0\n",
    "    for i in s:\n",
    "        for char in i:\n",
    "            if char.isdigit() == True:\n",
    "                counts+=1\n",
    "        \n",
    "    return counts\n",
    "\n",
    "def count_letters(s):\n",
    "    count_letters =0\n",
    "    for i in s:\n",
    "        for char in i:\n",
    "            if char.isdigit() != True and char !=' ':\n",
    "                count_letters+=1\n",
    "                \n",
    "    return count_letters\n",
    "s =input(\"enter a sentence of your wish separated by whitespaces and characters\").split()\n",
    "\n",
    "count_digit =count_digit(s)\n",
    "\n",
    "count_letters =count_letters(s)\n",
    "\n",
    "print(\"the digits in the word is {} \".format(count_digit))\n",
    "print(\" the letters in the word are {}\".format(count_letters))\n",
    "\n",
    "\n"
   ]
  },
  {
   "cell_type": "code",
   "execution_count": null,
   "metadata": {},
   "outputs": [],
   "source": []
  },
  {
   "cell_type": "markdown",
   "metadata": {},
   "source": [
    "A website requires the users to input username and password to register. Write a program to check the validity of password input by users.\n",
    "\n",
    "Following are the criteria for checking the password:\n",
    "\n",
    "1. At least 1 letter between [a-z]\n",
    "\n",
    "2. At least 1 number between [0-9]\n",
    "\n",
    "1. At least 1 letter between [A-Z]\n",
    "\n",
    "3. At least 1 character from [$#@]\n",
    "\n",
    "4. Minimum length of transaction password: 6\n",
    "\n",
    "5. Maximum length of transaction password: 12\n",
    "\n",
    "Your program should accept a sequence of comma separated passwords and will check them according to the above criteria. Passwords that match the criteria are to be printed, each separated by a comma.\n",
    "\n",
    "Example\n",
    "\n",
    "If the following passwords are given as input to the program:\n",
    "\n",
    "ABd1234@1,a F1#,2w3E*,2We3345\n",
    "\n",
    "Then, the output of the program should be:\n",
    "\n",
    "ABd1234@1"
   ]
  },
  {
   "cell_type": "code",
   "execution_count": 63,
   "metadata": {},
   "outputs": [
    {
     "name": "stdout",
     "output_type": "stream",
     "text": [
      "Enter the passwords that you wish to enter ABd1234@1,a F1#,2w3E*,2We3345\n",
      "True\n",
      "length should be at least 6\n",
      "None\n",
      "length should be at least 6\n",
      "Password should have at least one of the symbols $@#\n",
      "None\n",
      "Password should have at least one of the symbols $@#\n",
      "None\n"
     ]
    }
   ],
   "source": [
    "def password_check(passwd):\n",
    "      \n",
    "    SpecialSym =['$', '@', '#']\n",
    "    val = True\n",
    "      \n",
    "    if len(passwd) < 6:\n",
    "        print('length should be at least 6')\n",
    "        val = False\n",
    "          \n",
    "    if len(passwd) > 12:\n",
    "        print('length should be not be greater than 8')\n",
    "        val = False\n",
    "          \n",
    "    if not any(char.isdigit() for char in passwd):\n",
    "        print('Password should have at least one numeral')\n",
    "        val = False\n",
    "          \n",
    "    if not any(char.isupper() for char in passwd):\n",
    "        print('Password should have at least one uppercase letter')\n",
    "        val = False\n",
    "          \n",
    "    if not any(char.islower() for char in passwd):\n",
    "        print('Password should have at least one lowercase letter')\n",
    "        val = False\n",
    "          \n",
    "    if not any(char in SpecialSym for char in passwd):\n",
    "        print('Password should have at least one of the symbols $@#')\n",
    "        val = False\n",
    "    if val:\n",
    "        return val\n",
    "  \n",
    "\n",
    "s =input(\"Enter the passwords that you wish to enter \").split(',')\n",
    "\n",
    "for i in s:\n",
    "    val =password_check(i)\n",
    "    print(val)\n",
    "\n"
   ]
  },
  {
   "cell_type": "code",
   "execution_count": null,
   "metadata": {},
   "outputs": [],
   "source": []
  }
 ],
 "metadata": {
  "kernelspec": {
   "display_name": "Python 3",
   "language": "python",
   "name": "python3"
  },
  "language_info": {
   "codemirror_mode": {
    "name": "ipython",
    "version": 3
   },
   "file_extension": ".py",
   "mimetype": "text/x-python",
   "name": "python",
   "nbconvert_exporter": "python",
   "pygments_lexer": "ipython3",
   "version": "3.8.3"
  }
 },
 "nbformat": 4,
 "nbformat_minor": 4
}
