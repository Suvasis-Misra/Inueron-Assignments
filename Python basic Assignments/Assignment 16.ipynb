{
 "cells": [
  {
   "cell_type": "code",
   "execution_count": 7,
   "metadata": {},
   "outputs": [
    {
     "name": "stdout",
     "output_type": "stream",
     "text": [
      "Enter any word of your choice and all the letters are in lowercase and shoudl be minimum of 2 lettersMarvellous\n",
      "Ma........Ma........Marvellous?\n"
     ]
    }
   ],
   "source": [
    "def stutters(word):\n",
    "    return((2*(word[:2]+ '........'))+ word + \"?\")\n",
    "word =input('Enter any word of your choice and all the letters are in lowercase and shoudl be minimum of 2 letters')\n",
    "\n",
    "\n",
    "stutters =stutters(word)\n",
    "\n",
    "print(stutters)\n",
    "\n"
   ]
  },
  {
   "cell_type": "code",
   "execution_count": null,
   "metadata": {},
   "outputs": [],
   "source": []
  },
  {
   "cell_type": "markdown",
   "metadata": {},
   "source": [
    "Question 2.Create a function that takes an angle in radians and returns the corresponding angle in degrees rounded to one decimal place."
   ]
  },
  {
   "cell_type": "code",
   "execution_count": 18,
   "metadata": {},
   "outputs": [
    {
     "name": "stdout",
     "output_type": "stream",
     "text": [
      "Enter the angle in radians that  you wish to convert to degrees 50.0\n",
      " the conversion of the radians to degress is :  2864.79\n"
     ]
    }
   ],
   "source": [
    "import math\n",
    "def radian(c):\n",
    "    return(round(math.degrees(c),2))\n",
    "\n",
    "\n",
    "c =float(input(\"Enter the angle in radians that  you wish to convert to degrees\"))\n",
    "\n",
    "degress =radian(c)\n",
    "\n",
    "\n",
    "\n",
    "print(\" the conversion of the radians to degress is : \",degress)"
   ]
  },
  {
   "cell_type": "code",
   "execution_count": null,
   "metadata": {},
   "outputs": [],
   "source": []
  },
  {
   "cell_type": "markdown",
   "metadata": {},
   "source": [
    "Question 3. In this challenge, establish if a given integer num is a Curzon number. If 1 plus 2 elevated to num is exactly divisible by 1 plus 2 multiplied by num, then num is a Curzon number.\n",
    "Given a non-negative integer num, implement a function that returns True if num is a Curzon number, or False otherwise."
   ]
  },
  {
   "cell_type": "code",
   "execution_count": 4,
   "metadata": {},
   "outputs": [
    {
     "name": "stdout",
     "output_type": "stream",
     "text": [
      "enter a number of your choice14\n",
      " the number14 entered is a Curzon Number\n"
     ]
    }
   ],
   "source": [
    "n =int(input(\"enter a number of your choice\"))\n",
    "\n",
    "def curzon(n):\n",
    "    c =(2**n)+1\n",
    "    d =(2*n) +1\n",
    "    \n",
    "    if c %d ==0:\n",
    "        return True\n",
    "    else:\n",
    "        return False\n",
    "\n",
    "curzon_number = curzon(n)\n",
    "\n",
    "if curzon_number == True:\n",
    "    print(\" the number{} entered is a Curzon Number\".format(n))\n",
    "    \n",
    "else:\n",
    "    print(\" the number {} entered is not a Curzon number\".format(n))\n"
   ]
  },
  {
   "cell_type": "markdown",
   "metadata": {},
   "source": [
    "Question 4.Given the side length x find the area of a hexagon."
   ]
  },
  {
   "cell_type": "code",
   "execution_count": 6,
   "metadata": {},
   "outputs": [
    {
     "name": "stdout",
     "output_type": "stream",
     "text": [
      "64.9519052838329\n"
     ]
    }
   ],
   "source": [
    "import math\n",
    "class Area:\n",
    "    \n",
    "    def __init__(self,length):\n",
    "        self.length =length\n",
    "        \n",
    "    def area(self):\n",
    "        self.area=((self.length**2)*3*math.sqrt(3))/2\n",
    "        \n",
    "        return self.area\n",
    "    \n",
    "area=Area(5)\n",
    "\n",
    "print(area.area())\n",
    "        "
   ]
  },
  {
   "cell_type": "code",
   "execution_count": null,
   "metadata": {},
   "outputs": [],
   "source": []
  },
  {
   "cell_type": "markdown",
   "metadata": {},
   "source": [
    " 5. Create a function that returns a base-2 (binary) representation of a base-10 (decimal) string number. To convert is simple: ((2) means base-2 and (10) means base-10) 010101001(2) = 1 + 8 + 32 + 128."
   ]
  },
  {
   "cell_type": "code",
   "execution_count": 7,
   "metadata": {},
   "outputs": [
    {
     "name": "stdout",
     "output_type": "stream",
     "text": [
      "Decimal equivalent of 11A in base 16 is 282\n"
     ]
    }
   ],
   "source": [
    "def val(c):\n",
    "    if c >= '0' and c <= '9':\n",
    "        return ord(c) - ord('0')\n",
    "    else:\n",
    "        return ord(c) - ord('A') + 10;\n",
    " \n",
    "def toDeci(str,base):\n",
    "    llen = len(str)\n",
    "    power = 1 \n",
    "    num = 0    \n",
    "    for i in range(llen - 1, -1, -1):\n",
    "        if val(str[i]) >= base:\n",
    "            print('Invalid Number')\n",
    "            return -1\n",
    "        num += val(str[i]) * power\n",
    "        power = power * base\n",
    "    return num     \n",
    "\n",
    "strr = \"11A\"\n",
    "base = 16\n",
    "print('Decimal equivalent of', strr,\n",
    "              'in base', base, 'is',\n",
    "                 toDeci(strr, base))\n",
    " "
   ]
  },
  {
   "cell_type": "code",
   "execution_count": null,
   "metadata": {},
   "outputs": [],
   "source": []
  }
 ],
 "metadata": {
  "kernelspec": {
   "display_name": "Python 3",
   "language": "python",
   "name": "python3"
  },
  "language_info": {
   "codemirror_mode": {
    "name": "ipython",
    "version": 3
   },
   "file_extension": ".py",
   "mimetype": "text/x-python",
   "name": "python",
   "nbconvert_exporter": "python",
   "pygments_lexer": "ipython3",
   "version": "3.8.3"
  }
 },
 "nbformat": 4,
 "nbformat_minor": 4
}
