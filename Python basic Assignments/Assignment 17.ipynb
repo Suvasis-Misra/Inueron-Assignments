{
 "cells": [
  {
   "cell_type": "markdown",
   "metadata": {},
   "source": [
    "1.Create a function that takes three arguments a, b, c and returns the sum of the numbers that are evenly divided by c from the range a, b inclusive."
   ]
  },
  {
   "cell_type": "code",
   "execution_count": 5,
   "metadata": {},
   "outputs": [
    {
     "name": "stdout",
     "output_type": "stream",
     "text": [
      "enter the first number of your choice1\n",
      "enter the first number of your choice10\n",
      "enter the first number of your choice2\n",
      " the sum of the number between 1 and 10 and divisble by 2 is 30\n"
     ]
    }
   ],
   "source": [
    "\n",
    "def sum(a,b,c):\n",
    "    \n",
    "    sum=0\n",
    "    for i in range(a ,b+1):\n",
    "        \n",
    "        if i %c ==0:\n",
    "            sum=sum+i\n",
    "\n",
    "    return sum\n",
    "\n",
    "a=int(input(\"enter the first number of your choice\"))\n",
    "\n",
    "b=int(input(\"enter the first number of your choice\"))\n",
    "\n",
    "c=int(input(\"enter the first number of your choice\"))\n",
    "\n",
    "sum=sum(1,10,2)\n",
    "\n",
    "print(\" the sum of the number between {} and {} and divisble by {} is {}\".format(a,b,c,sum))"
   ]
  },
  {
   "cell_type": "markdown",
   "metadata": {},
   "source": []
  },
  {
   "cell_type": "markdown",
   "metadata": {},
   "source": [
    "Question2. Create a function that returns True if a given inequality expression is correct and False otherwise."
   ]
  },
  {
   "cell_type": "code",
   "execution_count": 6,
   "metadata": {},
   "outputs": [
    {
     "data": {
      "text/plain": [
       "True"
      ]
     },
     "execution_count": 6,
     "metadata": {},
     "output_type": "execute_result"
    }
   ],
   "source": [
    "eval(\"12 < 13 < 15\")"
   ]
  },
  {
   "cell_type": "markdown",
   "metadata": {},
   "source": [
    "Question3. Create a function that replaces all the vowels in a string with a specified character."
   ]
  },
  {
   "cell_type": "code",
   "execution_count": 6,
   "metadata": {},
   "outputs": [
    {
     "name": "stdout",
     "output_type": "stream",
     "text": [
      "Enter the word of your choice that you wish to entersuvasis\n",
      "s ,# ,v ,# ,s ,# ,s\n"
     ]
    }
   ],
   "source": [
    "def vowel_replace(word):\n",
    "    \n",
    "    list =['a' ,'e' ,'i' ,'o' ,'u']\n",
    "    \n",
    "    for i in range(0,len(word)):\n",
    "        if word[i] in list:\n",
    "            word[i] ='#'\n",
    "            \n",
    "        else:\n",
    "            pass\n",
    "\n",
    "    return word\n",
    "\n",
    "word =input(\"Enter the word of your choice that you wish to enter\")\n",
    "\n",
    "word_in_list =list(word)\n",
    "\n",
    "\n",
    "c=vowel_replace(word_in_list)\n",
    "\n",
    "print(\" ,\".join(c))\n",
    "            "
   ]
  },
  {
   "cell_type": "code",
   "execution_count": null,
   "metadata": {},
   "outputs": [],
   "source": []
  },
  {
   "cell_type": "markdown",
   "metadata": {},
   "source": [
    "Question4. Write a function that calculates the factorial of a number recursively."
   ]
  },
  {
   "cell_type": "code",
   "execution_count": 13,
   "metadata": {},
   "outputs": [
    {
     "name": "stdout",
     "output_type": "stream",
     "text": [
      "Enter the number that you wish to find the factorial5\n",
      " the factorial of a number is 120\n"
     ]
    }
   ],
   "source": [
    "def recur_factorial(n):\n",
    "    if n == 1:\n",
    "        return n\n",
    "    else:\n",
    "        return n*recur_factorial(n-1)\n",
    "    \n",
    "\n",
    "n =int(input(\"Enter the number that you wish to find the factorial\"))\n",
    "\n",
    "if n <0 :\n",
    "    print(\" The factorial of negative  number is not defined\")\n",
    "\n",
    "elif n ==0:\n",
    "    print(\" the factorial of  0 is 1\")\n",
    "    \n",
    "else:\n",
    "    print(\" the factorial of a number is {}\".format(recur_factorial(n)))\n",
    "    \n"
   ]
  },
  {
   "cell_type": "code",
   "execution_count": null,
   "metadata": {},
   "outputs": [],
   "source": []
  },
  {
   "cell_type": "markdown",
   "metadata": {},
   "source": [
    "5.Hamming distance is the number of characters that differ between two strings.\n",
    "To illustrate:\n",
    "String1: \"abcbba\"\n",
    "String2: \"abcbda\"\n",
    "\n",
    "Hamming Distance: 1 - \"b\" vs. \"d\" is the only difference.\n",
    "Create a function that computes the hamming distance between two strings"
   ]
  },
  {
   "cell_type": "code",
   "execution_count": 19,
   "metadata": {},
   "outputs": [
    {
     "name": "stdout",
     "output_type": "stream",
     "text": [
      "Enter the first word that you wish to enterjoy\n",
      "Enter the second word that you wish to entermoy\n",
      "the difference  of the strings are 1\n"
     ]
    }
   ],
   "source": [
    "def hamming_distance(word1 ,word2):\n",
    "    \n",
    "    count=0\n",
    "    i=0\n",
    "    if len(word1) != len(word2):\n",
    "        print(\" This is invalid \")\n",
    "    \n",
    "    else:\n",
    "        if word1[i] != word2[i]:\n",
    "            count+=1\n",
    "            \n",
    "        i+=1\n",
    "    \n",
    "    return count\n",
    "        \n",
    "             \n",
    "            \n",
    "            \n",
    "\n",
    "word1  =input(\"Enter the first word that you wish to enter\")\n",
    "\n",
    "word2 =input(\"Enter the second word that you wish to enter\")\n",
    "\n",
    "\n",
    "c=hamming_distance(word1,word2)\n",
    "\n",
    "print(\"the difference  of the strings are {}\".format(c))"
   ]
  },
  {
   "cell_type": "code",
   "execution_count": null,
   "metadata": {},
   "outputs": [],
   "source": []
  }
 ],
 "metadata": {
  "kernelspec": {
   "display_name": "Python 3",
   "language": "python",
   "name": "python3"
  },
  "language_info": {
   "codemirror_mode": {
    "name": "ipython",
    "version": 3
   },
   "file_extension": ".py",
   "mimetype": "text/x-python",
   "name": "python",
   "nbconvert_exporter": "python",
   "pygments_lexer": "ipython3",
   "version": "3.8.3"
  }
 },
 "nbformat": 4,
 "nbformat_minor": 4
}
