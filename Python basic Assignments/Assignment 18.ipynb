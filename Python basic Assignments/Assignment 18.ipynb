{
 "cells": [
  {
   "cell_type": "markdown",
   "metadata": {},
   "source": [
    "Question 1\n",
    "Create a function that takes a list of non-negative integers and strings and return a new list without the strings.\n",
    "Examples\n",
    "filter_list([1, 2, \"a\", \"b\"]) ➞ [1, 2]\n",
    "\n",
    "filter_list([1, \"a\", \"b\", 0, 15]) ➞ [1, 0, 15]\n",
    "\n",
    "filter_list([1, 2, \"aasf\", \"1\", \"123\", 123]) ➞ [1, 2, 123]"
   ]
  },
  {
   "cell_type": "code",
   "execution_count": 4,
   "metadata": {},
   "outputs": [
    {
     "name": "stdout",
     "output_type": "stream",
     "text": [
      " the list with only numbers in the list are [1, 2, 3, 4] \n"
     ]
    }
   ],
   "source": [
    "def filter_function(list):\n",
    "    \n",
    "    list_number=[]\n",
    "    \n",
    "    for i in list:\n",
    "        if type(i) ==int:\n",
    "            list_number.append(i)\n",
    "            \n",
    "        \n",
    "    \n",
    "    return list_number\n",
    "\n",
    "\n",
    "list_number =[1,2,3,4,'suvasis' ,'misra']\n",
    "\n",
    "print(\" the list with only numbers in the list are {} \" .format(filter_function(list_number)))"
   ]
  },
  {
   "cell_type": "code",
   "execution_count": null,
   "metadata": {},
   "outputs": [],
   "source": []
  },
  {
   "cell_type": "markdown",
   "metadata": {},
   "source": [
    "Question 2\n",
    "The \"Reverser\" takes a string as input and returns that string in reverse order, with the opposite case."
   ]
  },
  {
   "cell_type": "code",
   "execution_count": 19,
   "metadata": {},
   "outputs": [
    {
     "name": "stdout",
     "output_type": "stream",
     "text": [
      "Enter the word of  your choice that you wish to entersuvasis\n",
      " the word that you have entered is suvasis\n",
      " the word that is reverse\n",
      "s i s a v u s\n"
     ]
    }
   ],
   "source": [
    "def reverse_string(word):\n",
    "    list =[]\n",
    "    for i in range(len(word)-1 ,-1 ,-1):\n",
    "        \n",
    "        list.append(word[i])\n",
    "        \n",
    "    return list\n",
    "        \n",
    "word =input(\"Enter the word of  your choice that you wish to enter\")\n",
    "\n",
    "word_reverse =reverse_string(word)\n",
    "print(\" the word that you have entered is {}\" .format(word))\n",
    "\n",
    "print(\" the word that is reverse\")\n",
    "print(\" \" .join(word_reverse))"
   ]
  },
  {
   "cell_type": "code",
   "execution_count": 8,
   "metadata": {},
   "outputs": [],
   "source": []
  },
  {
   "cell_type": "markdown",
   "metadata": {},
   "source": [
    "Question 3\n",
    "You can assign variables from lists like this:\n",
    "lst = [1, 2, 3, 4, 5, 6]\n",
    "first = lst[0]\n",
    "middle = lst[1:-1]\n",
    "last = lst[-1]\n",
    "\n",
    "print(first) ➞ outputs 1\n",
    "print(middle) ➞ outputs [2, 3, 4, 5]\n",
    "print(last) ➞ outputs 6\n",
    "With Python 3, you can assign variables from lists in a much more succinct way. Create variables first, middle and last from the given list using destructuring assignment (check the Resources tab for some examples), where:\n",
    "first  ➞ 1\n",
    "\n",
    "middle ➞ [2, 3, 4, 5]\n",
    "\n",
    "last ➞ 6\n",
    "Your task is to unpack the list writeyourcodehere into three variables, being first, middle, and last, with middle being everything in between the first and last element. Then print all three variables."
   ]
  },
  {
   "cell_type": "code",
   "execution_count": 22,
   "metadata": {},
   "outputs": [
    {
     "name": "stdout",
     "output_type": "stream",
     "text": [
      " the first element of the list are 1\n",
      "the middle elements of the list are [2, 3, 4, 5, 66, 7, 8, 19, 19, 20, 34, 22]\n",
      "the last element of the list are 12\n"
     ]
    }
   ],
   "source": [
    "\n",
    "list =[1,2,3,4,5,66,7,8,19,19,20,34,22,12]\n",
    "\n",
    "first =list[0]\n",
    "\n",
    "middle =list[1: -1]\n",
    "\n",
    "last =list[-1]\n",
    "\n",
    "\n",
    "print(\" the first element of the list are {}\" .format(first))\n",
    "print(\"the middle elements of the list are {}\".format(middle))\n",
    "print(\"the last element of the list are {}\".format(last))"
   ]
  },
  {
   "cell_type": "code",
   "execution_count": null,
   "metadata": {},
   "outputs": [],
   "source": []
  },
  {
   "cell_type": "markdown",
   "metadata": {},
   "source": [
    "Question 4\n",
    "Write a function that calculates the factorial of a number recursively.\n",
    "Examples\n",
    "factorial(5) ➞ 120\n",
    "\n",
    "factorial(3) ➞ 6\n",
    "\n",
    "factorial(1) ➞ 1\n",
    "\n",
    "factorial(0) ➞ 1"
   ]
  },
  {
   "cell_type": "code",
   "execution_count": 33,
   "metadata": {},
   "outputs": [
    {
     "name": "stdout",
     "output_type": "stream",
     "text": [
      "enter the number that you wish to find factorial of7\n",
      "The factorial of 7 is 5040\n"
     ]
    }
   ],
   "source": [
    "def recur_factorial(n):\n",
    "   if n == 1:\n",
    "       return n\n",
    "   else:\n",
    "       return n*recur_factorial(n-1)\n",
    "\n",
    "num = int(input(\"enter the number that you wish to find factorial of\"))\n",
    "\n",
    "if num < 0:\n",
    "   print(\"Sorry, factorial does not exist for negative numbers\")\n",
    "elif num == 0:\n",
    "   print(\"The factorial of 0 is 1\")\n",
    "else:\n",
    "   print(\"The factorial of\", num, \"is\", recur_factorial(num))"
   ]
  },
  {
   "cell_type": "code",
   "execution_count": null,
   "metadata": {},
   "outputs": [],
   "source": []
  },
  {
   "cell_type": "markdown",
   "metadata": {},
   "source": [
    "Question 5\n",
    "Write a function that moves all elements of one type to the end of the list."
   ]
  },
  {
   "cell_type": "code",
   "execution_count": 38,
   "metadata": {},
   "outputs": [
    {
     "name": "stdout",
     "output_type": "stream",
     "text": [
      "[1, 2, 3, 5, 6, 7, 4, 4]\n"
     ]
    }
   ],
   "source": [
    "list =[1,2,3,4,4,5,6,7]\n",
    "\n",
    "list2=[]\n",
    "\n",
    "list3 =[]\n",
    "for i in list:\n",
    "    if i not in list2:\n",
    "        list2.append(i)\n",
    "        \n",
    "    elif i in list2:\n",
    "        list3.append(i)\n",
    "        \n",
    "\n",
    "for i in list2:\n",
    "    if i in list3:\n",
    "        list3.append(i)\n",
    "        list2.remove(i)\n",
    "\n",
    "list4=list2+list3\n",
    "print(list4)    "
   ]
  },
  {
   "cell_type": "code",
   "execution_count": null,
   "metadata": {},
   "outputs": [],
   "source": []
  }
 ],
 "metadata": {
  "kernelspec": {
   "display_name": "Python 3",
   "language": "python",
   "name": "python3"
  },
  "language_info": {
   "codemirror_mode": {
    "name": "ipython",
    "version": 3
   },
   "file_extension": ".py",
   "mimetype": "text/x-python",
   "name": "python",
   "nbconvert_exporter": "python",
   "pygments_lexer": "ipython3",
   "version": "3.8.3"
  }
 },
 "nbformat": 4,
 "nbformat_minor": 4
}
