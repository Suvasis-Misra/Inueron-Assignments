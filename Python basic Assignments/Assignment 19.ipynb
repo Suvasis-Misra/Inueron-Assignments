{
 "cells": [
  {
   "cell_type": "markdown",
   "metadata": {},
   "source": [
    "Question1\n",
    "Create a function that takes a string and returns a string in which each character is repeated once.\n",
    "Examples\n",
    "double_char(\"String\") ➞ \"SSttrriinngg\"\n",
    "\n",
    "double_char(\"Hello World!\") ➞ \"HHeelllloo  WWoorrlldd!!\"\n",
    "\n",
    "double_char(\"1234!_ \") ➞ \"11223344!!__  "
   ]
  },
  {
   "cell_type": "code",
   "execution_count": 10,
   "metadata": {},
   "outputs": [
    {
     "name": "stdout",
     "output_type": "stream",
     "text": [
      "enter the word of your choicesuvasis\n",
      "the result of the word is  ssuuvvaassiiss\n"
     ]
    }
   ],
   "source": [
    "def char(str):\n",
    "    outstr=\" \"\n",
    "    for char in str:\n",
    "        outstr =outstr + char+char\n",
    "    \n",
    "    return outstr\n",
    "\n",
    "\n",
    "word =input(\"enter the word of your choice\")\n",
    "\n",
    "res =char(word)\n",
    "\n",
    "print(\"the result of the word is {}\" .format(res))"
   ]
  },
  {
   "cell_type": "code",
   "execution_count": null,
   "metadata": {},
   "outputs": [],
   "source": []
  },
  {
   "cell_type": "markdown",
   "metadata": {},
   "source": [
    "2.Create a function that reverses a boolean value and returns the string \"boolean expected\" if another variable type is given."
   ]
  },
  {
   "cell_type": "code",
   "execution_count": 17,
   "metadata": {},
   "outputs": [
    {
     "name": "stdout",
     "output_type": "stream",
     "text": [
      "the result of the expression is True \n"
     ]
    }
   ],
   "source": [
    "def reverse(value):\n",
    "    \n",
    "    if value == True:\n",
    "        return False\n",
    "    elif value != True:\n",
    "        return True\n",
    "    elif value ==0:\n",
    "        return \"Boolean expected\"\n",
    "    \n",
    "    else:\n",
    "        return \"Boolean expected\"\n",
    "    \n",
    "\n",
    "a =2\n",
    "b=3\n",
    "value =a>b\n",
    "\n",
    "res =reverse(value)\n",
    "\n",
    "print(\"the result of the expression is {} \".format(res))"
   ]
  },
  {
   "cell_type": "code",
   "execution_count": null,
   "metadata": {},
   "outputs": [],
   "source": []
  },
  {
   "cell_type": "markdown",
   "metadata": {},
   "source": [
    "Question3\n",
    "Create a function that returns the thickness (in meters) of a piece of paper after folding it n number of times. The paper starts off with a thickness of 0.5mm."
   ]
  },
  {
   "cell_type": "code",
   "execution_count": 19,
   "metadata": {},
   "outputs": [
    {
     "name": "stdout",
     "output_type": "stream",
     "text": [
      "enter the number of folds that you want to enter4\n",
      "the thicknes of the paper is 0.008\n"
     ]
    }
   ],
   "source": [
    "def fn(a):\n",
    "    res = 0.5\n",
    "    for _ in range(a):\n",
    "        res *= 2\n",
    "    \n",
    "    return res / 1000 \n",
    "\n",
    "folds =int(input(\"enter the number of folds that you want to enter\"))\n",
    "res =fn(4)\n",
    "\n",
    "print(\"the thicknes of the paper is {}\" .format(res))"
   ]
  },
  {
   "cell_type": "code",
   "execution_count": null,
   "metadata": {},
   "outputs": [],
   "source": []
  },
  {
   "cell_type": "markdown",
   "metadata": {},
   "source": [
    "Question4\n",
    "Create a function that takes a single string as argument and returns an ordered list containing the indices of all capital letters in the string."
   ]
  },
  {
   "cell_type": "code",
   "execution_count": 25,
   "metadata": {},
   "outputs": [
    {
     "name": "stdout",
     "output_type": "stream",
     "text": [
      "enter the word of your choice.It can be a mix of upper letters and lower letterSUVAsis\n",
      "['S', 'U', 'V', 'A', 's', 'i', 's']\n",
      "[0, 1, 2, 3]\n"
     ]
    }
   ],
   "source": [
    "\n",
    "def ordered(word):\n",
    "    list1=[]\n",
    "    list2=[]\n",
    "    for i in word:\n",
    "        list1.append(i)\n",
    "    print(list1)\n",
    "    for j in range(0,len(list1)):\n",
    "        if list1[j].isupper():\n",
    "                   list2.append(j)\n",
    "              \n",
    "    return list2\n",
    "    \n",
    "word =input(\"enter the word of your choice.It can be a mix of upper letters and lower letter\")\n",
    "res =ordered(word)\n",
    "print(res)"
   ]
  },
  {
   "cell_type": "code",
   "execution_count": null,
   "metadata": {},
   "outputs": [],
   "source": []
  },
  {
   "cell_type": "markdown",
   "metadata": {},
   "source": [
    "5.Using list comprehensions, create a function that finds all even numbers from 1 to the given number."
   ]
  },
  {
   "cell_type": "code",
   "execution_count": null,
   "metadata": {},
   "outputs": [],
   "source": [
    "list_even =[i for i in range(0,n) if i %2 ==0]\n",
    "\n",
    "print()"
   ]
  }
 ],
 "metadata": {
  "kernelspec": {
   "display_name": "Python 3",
   "language": "python",
   "name": "python3"
  },
  "language_info": {
   "codemirror_mode": {
    "name": "ipython",
    "version": 3
   },
   "file_extension": ".py",
   "mimetype": "text/x-python",
   "name": "python",
   "nbconvert_exporter": "python",
   "pygments_lexer": "ipython3",
   "version": "3.8.3"
  }
 },
 "nbformat": 4,
 "nbformat_minor": 4
}
