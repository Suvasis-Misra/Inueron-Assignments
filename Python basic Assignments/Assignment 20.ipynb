{
 "cells": [
  {
   "cell_type": "markdown",
   "metadata": {},
   "source": [
    "Question1\n",
    "Create a function that takes a list of strings and integers, and filters out the list so that it returns a list of integers only.\n",
    "Examples\n",
    "filter_list([1, 2, 3, \"a\", \"b\", 4]) ➞ [1, 2, 3, 4]\n",
    "\n",
    "filter_list([\"A\", 0, \"Edabit\", 1729, \"Python\", \"1729\"]) ➞ [0, 1729]\n",
    "\n",
    "filter_list([\"Nothing\", \"here\"]) ➞ []"
   ]
  },
  {
   "cell_type": "code",
   "execution_count": 27,
   "metadata": {},
   "outputs": [
    {
     "name": "stdout",
     "output_type": "stream",
     "text": [
      "The list generated of all the numbers in the list [1, 2, 3, 'ab', 'bc', 'cd'] is [1, 2, 3]\n"
     ]
    }
   ],
   "source": [
    "def function_list(list1):\n",
    "    \n",
    "    for i in list1:\n",
    "        if type(i) == int:\n",
    "            yield i\n",
    "        else:\n",
    "            pass\n",
    "\n",
    "        \n",
    "list =[1,2,3 ,'ab' ,'bc' ,'cd']\n",
    "\n",
    "res =function_list(list)\n",
    "list2=[]\n",
    "for i in res:\n",
    "    list2.append(i)\n",
    "    \n",
    "print(\"The list generated of all the numbers in the list {} is {}\" .format(list,list2))"
   ]
  },
  {
   "cell_type": "code",
   "execution_count": null,
   "metadata": {},
   "outputs": [],
   "source": []
  },
  {
   "cell_type": "markdown",
   "metadata": {},
   "source": [
    "Question2\n",
    "Given a list of numbers, create a function which returns the list but with each element's index in the list added to itself. This means you add 0 to the number at index 0, add 1 to the number at index 1, etc...\n",
    "Examples\n",
    "add_indexes([0, 0, 0, 0, 0]) ➞ [0, 1, 2, 3, 4]\n",
    "\n",
    "add_indexes([1, 2, 3, 4, 5]) ➞ [1, 3, 5, 7, 9]\n",
    "\n",
    "add_indexes([5, 4, 3, 2, 1]) ➞ [5, 5, 5, 5, 5]"
   ]
  },
  {
   "cell_type": "code",
   "execution_count": 28,
   "metadata": {},
   "outputs": [
    {
     "name": "stdout",
     "output_type": "stream",
     "text": [
      "[1, 3, 6, 8, 10]\n"
     ]
    }
   ],
   "source": [
    "def add_index(list):\n",
    "    list2 =[]\n",
    "    for i in range(0,len(list)):\n",
    "        list2.append(list[i]+i)\n",
    "        \n",
    "    return list2\n",
    "\n",
    "list =[1,2,4,5,6]\n",
    "res=add_index(list)\n",
    "\n",
    "print(res)"
   ]
  },
  {
   "cell_type": "code",
   "execution_count": null,
   "metadata": {},
   "outputs": [],
   "source": []
  },
  {
   "cell_type": "markdown",
   "metadata": {},
   "source": [
    "Question3\n",
    "\n",
    "Create a function that takes the height and radius of a cone as arguments and returns the volume of the cone rounded to the nearest hundredth. See the resources tab for the formula."
   ]
  },
  {
   "cell_type": "code",
   "execution_count": 35,
   "metadata": {},
   "outputs": [
    {
     "name": "stdout",
     "output_type": "stream",
     "text": [
      "Enter the height of the cone that you wish to enter12\n",
      "Enter the radius of the cone that you wish to enter12\n",
      " the volume of the circle with the height12.0 and radius12.0 is 1809.5573684677206\n"
     ]
    }
   ],
   "source": [
    "import math\n",
    "class volume:\n",
    "    def __init__(self,height,radius):    \n",
    "        self.height =height\n",
    "        self.radius =radius\n",
    "    \n",
    "    def volume1(self):\n",
    "        self.volume  =math.pi * (self.radius ** 2) *self.height *(1/3)\n",
    "        \n",
    "        return self.volume\n",
    " \n",
    "\n",
    "height =float(input(\"Enter the height of the cone that you wish to enter\"))\n",
    "radius =float(input(\"Enter the radius of the cone that you wish to enter\"))\n",
    "vol =volume(height,radius)\n",
    "c=vol.volume1()\n",
    "print(\" the volume of the circle with the height{} and radius{} is {}\".format(height,radius,c))        "
   ]
  },
  {
   "cell_type": "code",
   "execution_count": null,
   "metadata": {},
   "outputs": [],
   "source": []
  },
  {
   "cell_type": "markdown",
   "metadata": {},
   "source": [
    "Question4\n",
    "This Triangular Number Sequence is generated from a pattern of dots that form a triangle. The first 5 numbers of the sequence, or dots, are: \n",
    "1, 3, 6, 10, 15\n",
    "This means that the first triangle has just one dot, the second one has three dots, the third one has 6 dots and so on.\n",
    "Write a function that gives the number of dots with its corresponding triangle number of the sequence.\n",
    "Examples\n",
    "triangle(1) ➞ 1\n",
    "\n",
    "triangle(6) ➞ 21\n",
    "\n",
    "triangle(215) ➞ 23220"
   ]
  },
  {
   "cell_type": "code",
   "execution_count": null,
   "metadata": {},
   "outputs": [],
   "source": []
  },
  {
   "cell_type": "code",
   "execution_count": null,
   "metadata": {},
   "outputs": [],
   "source": []
  },
  {
   "cell_type": "markdown",
   "metadata": {},
   "source": [
    "Question5\n",
    "Create a function that takes a list of numbers between 1 and 10 (excluding one number) and returns the missing number.\n",
    "Examples\n",
    "missing_num([1, 2, 3, 4, 6, 7, 8, 9, 10]) ➞ 5\n",
    "\n",
    "missing_num([7, 2, 3, 6, 5, 9, 1, 4, 8]) ➞ 10\n",
    "\n",
    "missing_num([10, 5, 1, 2, 4, 6, 8, 3, 9]) ➞ 7"
   ]
  },
  {
   "cell_type": "code",
   "execution_count": 53,
   "metadata": {},
   "outputs": [
    {
     "name": "stdout",
     "output_type": "stream",
     "text": [
      " The list entered is [1, 2, 3, 4, 6, 7, 8, 9, 10]\n",
      " the missing number in the list is 5\n"
     ]
    }
   ],
   "source": [
    "def missing_num(list ,n):\n",
    "    list1=[]\n",
    "    for i in range(1,n+1):\n",
    "        list1.append(i)\n",
    "    \n",
    "    for i in list1:\n",
    "        if i not in list:\n",
    "            return i\n",
    "                \n",
    "list =[1,2,3,4,6,7,8,9,10]\n",
    "print(\" The list entered is {}\".format(list))\n",
    "\n",
    "res =missing_num(list ,10)\n",
    "\n",
    "\n",
    "print(\" the missing number in the list is {}\" .format(res))"
   ]
  },
  {
   "cell_type": "code",
   "execution_count": null,
   "metadata": {},
   "outputs": [],
   "source": []
  }
 ],
 "metadata": {
  "kernelspec": {
   "display_name": "Python 3",
   "language": "python",
   "name": "python3"
  },
  "language_info": {
   "codemirror_mode": {
    "name": "ipython",
    "version": 3
   },
   "file_extension": ".py",
   "mimetype": "text/x-python",
   "name": "python",
   "nbconvert_exporter": "python",
   "pygments_lexer": "ipython3",
   "version": "3.8.3"
  }
 },
 "nbformat": 4,
 "nbformat_minor": 4
}
