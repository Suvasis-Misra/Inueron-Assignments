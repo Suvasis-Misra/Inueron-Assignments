{
 "cells": [
  {
   "cell_type": "markdown",
   "metadata": {},
   "source": [
    "Question1\n",
    "Write a function that takes a list and a number as arguments. Add the number to the end of the list, then remove the first element of the list. The function should then return the updated list."
   ]
  },
  {
   "cell_type": "code",
   "execution_count": 9,
   "metadata": {},
   "outputs": [
    {
     "name": "stdout",
     "output_type": "stream",
     "text": [
      " the list entered is [1, 2, 3, 4, 5]\n",
      " The new list after addition of a new number and removing the first element is [2, 3, 4, 5, 7]\n"
     ]
    }
   ],
   "source": [
    "\n",
    "def next_in_line(list ,number):\n",
    "    \n",
    "    list.append(number)\n",
    "    list.pop(0)\n",
    "    return list\n",
    "\n",
    "\n",
    "list =[1,2,3,4,5]\n",
    "print(\" the list entered is {}\".format(list))\n",
    "res = next_in_line(list,7)\n",
    "print(\" The new list after addition of a new number and removing the first element is {}\" .format(res))\n",
    "    \n",
    "    "
   ]
  },
  {
   "cell_type": "code",
   "execution_count": null,
   "metadata": {},
   "outputs": [],
   "source": []
  },
  {
   "cell_type": "markdown",
   "metadata": {},
   "source": [
    "Question2\n",
    "Create the function that takes a list of dictionaries and returns the sum of people's budgets."
   ]
  },
  {
   "cell_type": "code",
   "execution_count": 23,
   "metadata": {},
   "outputs": [
    {
     "name": "stdout",
     "output_type": "stream",
     "text": [
      " the sum of the values of the budgets in the dictionary is 65700 \n"
     ]
    }
   ],
   "source": [
    "def function(budgets):\n",
    "    sum=0\n",
    "    for ele in budgets:\n",
    "        sum=sum+ele[\"budget\"]\n",
    "    \n",
    "    \n",
    "    return sum\n",
    "    \n",
    "\n",
    "\n",
    "dictionary = [ { \"name\": \"John\", \"age\": 21, \"budget\": 23000 },\n",
    "  { \"name\": \"Steve\",  \"age\": 32, \"budget\": 40000 },\n",
    "  { \"name\": \"Martin\",  \"age\": 16, \"budget\": 2700 }]\n",
    "\n",
    "\n",
    "c=function(dictionary)\n",
    "\n",
    "print(\" the sum of the values of the budgets in the dictionary is {} \".format(c))"
   ]
  },
  {
   "cell_type": "code",
   "execution_count": null,
   "metadata": {},
   "outputs": [],
   "source": []
  },
  {
   "cell_type": "markdown",
   "metadata": {},
   "source": [
    "Question3\n",
    "Create a function that takes a string and returns a string with its letters in alphabetical order"
   ]
  },
  {
   "cell_type": "code",
   "execution_count": 27,
   "metadata": {},
   "outputs": [
    {
     "name": "stdout",
     "output_type": "stream",
     "text": [
      " the sorted string is a i s s s u v\n"
     ]
    }
   ],
   "source": [
    "\n",
    "def sort_string(s):\n",
    "    \n",
    "    return sorted(s)\n",
    "\n",
    "\n",
    "s ='suvasis'\n",
    "c =sort_string(s)\n",
    "\n",
    "print(\" the sorted string is {}\".format(\" \".join(c)))"
   ]
  },
  {
   "cell_type": "code",
   "execution_count": null,
   "metadata": {},
   "outputs": [],
   "source": []
  },
  {
   "cell_type": "markdown",
   "metadata": {},
   "source": [
    "Question4\n",
    "Suppose that you invest $10,000 for 10 years at an interest rate of 6% compounded monthly. What will be the value of your investment at the end of the 10 year period?\n",
    "Create a function that accepts the principal p, the term in years t, the interest rate r, and the number of compounding periods per year n. The function returns the value at the end of term rounded to the nearest cent.\n",
    "For the example above:\n",
    "compound_interest(10000, 10, 0.06, 12) ➞ 18193.97\n",
    "Note that the interest rate is given as a decimal and n=12 because with monthly compounding there are 12 periods per year. Compounding can also be done annually, quarterly, weekly, or daily."
   ]
  },
  {
   "cell_type": "code",
   "execution_count": 30,
   "metadata": {},
   "outputs": [
    {
     "name": "stdout",
     "output_type": "stream",
     "text": [
      "Enter the principal amount that  you want to enter10000\n",
      "Enter the rate of interest5\n",
      "Enter the nuber of period for which the interest has to be calculated 1\n",
      "Enter the number of years for which the interest would be calculated5\n",
      " the amout  that you have to pay for the interest is 77760000.0\n"
     ]
    }
   ],
   "source": [
    "\n",
    "def compund_interest(principal ,term ,rate ,no_of_period):\n",
    "    \n",
    "    amount =principal *((1 +(rate/no_of_period)) ** (no_of_period *term))\n",
    "    \n",
    "    return amount\n",
    "\n",
    "\n",
    "principal=float(input(\"Enter the principal amount that  you want to enter\"))\n",
    "rate=float(input(\"Enter the rate of interest\"))\n",
    "no_of_period =int(input(\"Enter the nuber of period for which the interest has to be calculated \"))\n",
    "term =int(input(\"Enter the number of years for which the interest would be calculated\"))\n",
    "\n",
    "res =compund_interest(principal ,term ,rate ,no_of_period)\n",
    "\n",
    "print(\" the amout  that you have to pay for the interest is {}\".format(res))"
   ]
  },
  {
   "cell_type": "code",
   "execution_count": null,
   "metadata": {},
   "outputs": [],
   "source": []
  },
  {
   "cell_type": "markdown",
   "metadata": {},
   "source": [
    "Question5\n",
    "Write a function that takes a list of elements and returns only the integers."
   ]
  },
  {
   "cell_type": "code",
   "execution_count": 32,
   "metadata": {},
   "outputs": [
    {
     "name": "stdout",
     "output_type": "stream",
     "text": [
      " The list with numbers are [12, 13, 14]\n"
     ]
    }
   ],
   "source": [
    "\n",
    "def return_only_iteger(list):\n",
    "    list2 =[]\n",
    "    for i in list:\n",
    "        if type(i) ==int:\n",
    "            list2.append(i)\n",
    "            \n",
    "    return list2\n",
    "\n",
    "\n",
    "list =['suvasis' ,'ele' ,'king' ,12,13,14]\n",
    "my_list =return_only_iteger(list)\n",
    "\n",
    "print(\" The list with numbers are {}\".format(my_list))"
   ]
  },
  {
   "cell_type": "code",
   "execution_count": null,
   "metadata": {},
   "outputs": [],
   "source": []
  }
 ],
 "metadata": {
  "kernelspec": {
   "display_name": "Python 3",
   "language": "python",
   "name": "python3"
  },
  "language_info": {
   "codemirror_mode": {
    "name": "ipython",
    "version": 3
   },
   "file_extension": ".py",
   "mimetype": "text/x-python",
   "name": "python",
   "nbconvert_exporter": "python",
   "pygments_lexer": "ipython3",
   "version": "3.8.3"
  }
 },
 "nbformat": 4,
 "nbformat_minor": 4
}
