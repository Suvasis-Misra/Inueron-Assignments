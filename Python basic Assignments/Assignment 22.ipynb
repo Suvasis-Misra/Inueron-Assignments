{
 "cells": [
  {
   "cell_type": "markdown",
   "metadata": {},
   "source": [
    "Question1\n",
    "Create a function that takes three parameters where:\n",
    "x is the start of the range (inclusive).\n",
    "y is the end of the range (inclusive).\n",
    "n is the divisor to be checked against.\n",
    "Return an ordered list with numbers in the range that are divisible by the third parameter n. Return an empty list if there are no numbers that are divisible by n.\n",
    "Examples\n",
    "list_operation(1, 10, 3) ➞ [3, 6, 9]\n",
    "\n",
    "list_operation(7, 9, 2) ➞ [8]\n",
    "\n",
    "list_operation(15, 20, 7) ➞ []"
   ]
  },
  {
   "cell_type": "code",
   "execution_count": 14,
   "metadata": {},
   "outputs": [
    {
     "name": "stdout",
     "output_type": "stream",
     "text": [
      "Enter the first number of the range1\n",
      "Enter the second number of the range20\n",
      "Enter the third number of the range3\n",
      "The sorted list is [3, 6, 9, 12, 15, 18]\n"
     ]
    }
   ],
   "source": [
    "def list_operation(x,y ,n):\n",
    "    \n",
    "    list1=[]    \n",
    "    for i in range(x,y):        \n",
    "        if i%n ==0:\n",
    "            list1.append(i)    \n",
    "            \n",
    "        else:\n",
    "            pass\n",
    "    else:\n",
    "        return list1\n",
    "    \n",
    "res=[]\n",
    "\n",
    "a=int(input(\"Enter the first number of the range\"))\n",
    "\n",
    "b=int(input(\"Enter the second number of the range\"))\n",
    "c=int(input(\"Enter the third number of the range\"))\n",
    "\n",
    "\n",
    "res=list_operation(a,b,c)\n",
    "\n",
    "res.sort()\n",
    "\n",
    "print(\"The sorted list is {}\".format(res))"
   ]
  },
  {
   "cell_type": "code",
   "execution_count": null,
   "metadata": {},
   "outputs": [],
   "source": []
  },
  {
   "cell_type": "markdown",
   "metadata": {},
   "source": [
    "Question2\n",
    "Create a function that takes in two lists and returns True if the second list follows the first list by one element, and False otherwise. In other words, determine if the second list is the first list shifted to the right by 1"
   ]
  },
  {
   "cell_type": "code",
   "execution_count": null,
   "metadata": {},
   "outputs": [],
   "source": []
  },
  {
   "cell_type": "markdown",
   "metadata": {},
   "source": [
    "Question3\n",
    "A group of friends have decided to start a secret society. The name will be the first letter of each of their names, sorted in alphabetical order.\n",
    "Create a function that takes in a list of names and returns the name of the secret society."
   ]
  },
  {
   "cell_type": "code",
   "execution_count": 26,
   "metadata": {},
   "outputs": [
    {
     "name": "stdout",
     "output_type": "stream",
     "text": [
      " the society name is AJS\n"
     ]
    }
   ],
   "source": [
    "def secret_society(list):\n",
    "    list1=[]    \n",
    "    for item in list:\n",
    "        list1.append(item[0])\n",
    "    \n",
    "    return list1\n",
    "\n",
    "\n",
    "names_list =['Suvasis' ,'Jake' ,'Aamir']\n",
    "\n",
    "c =secret_society(names_list)\n",
    "\n",
    "c.sort()\n",
    "\n",
    "print(\" the society name is {}\" .format(\"\".join(c)))"
   ]
  },
  {
   "cell_type": "code",
   "execution_count": null,
   "metadata": {},
   "outputs": [],
   "source": []
  },
  {
   "cell_type": "markdown",
   "metadata": {},
   "source": [
    "Question4\n",
    "An isogram is a word that has no duplicate letters. Create a function that takes a string and returns either True or False depending on whether or not it's an \"isogram\"."
   ]
  },
  {
   "cell_type": "code",
   "execution_count": 28,
   "metadata": {},
   "outputs": [
    {
     "name": "stdout",
     "output_type": "stream",
     "text": [
      "Enter a word of your choice to check whether it is a isogram or notcat\n",
      " The word that you have entered is an isogram number True\n"
     ]
    }
   ],
   "source": [
    "def isogram(word):\n",
    "    \n",
    "    s=[]\n",
    "    for i in word:\n",
    "        if i not in s:\n",
    "            s.append(i)\n",
    "            \n",
    "        else:\n",
    "            return False\n",
    "            break\n",
    "    return True\n",
    "\n",
    "word =input(\"Enter a word of your choice to check whether it is a isogram or not\")\n",
    "\n",
    "res=isogram(word)\n",
    "\n",
    "print(\" The word that you have entered is an isogram number {}\" .format(res))\n",
    "\n"
   ]
  },
  {
   "cell_type": "code",
   "execution_count": null,
   "metadata": {},
   "outputs": [],
   "source": []
  },
  {
   "cell_type": "markdown",
   "metadata": {},
   "source": [
    "Question5\n",
    "Create a function that takes a string and returns True or False, depending on whether the characters are in order or not."
   ]
  },
  {
   "cell_type": "code",
   "execution_count": 31,
   "metadata": {},
   "outputs": [
    {
     "name": "stdout",
     "output_type": "stream",
     "text": [
      "True\n"
     ]
    }
   ],
   "source": [
    "def isInAlphabeticalOrder(word):\n",
    "    for i in range(len(word) - 1):\n",
    "        if word[i] > word[i + 1]:\n",
    "            return False\n",
    "    return True\n",
    "\n",
    "word=\"Ravi\"\n",
    "\n",
    "res= "
   ]
  },
  {
   "cell_type": "code",
   "execution_count": null,
   "metadata": {},
   "outputs": [],
   "source": []
  }
 ],
 "metadata": {
  "kernelspec": {
   "display_name": "Python 3",
   "language": "python",
   "name": "python3"
  },
  "language_info": {
   "codemirror_mode": {
    "name": "ipython",
    "version": 3
   },
   "file_extension": ".py",
   "mimetype": "text/x-python",
   "name": "python",
   "nbconvert_exporter": "python",
   "pygments_lexer": "ipython3",
   "version": "3.8.3"
  }
 },
 "nbformat": 4,
 "nbformat_minor": 4
}
