{
 "cells": [
  {
   "cell_type": "markdown",
   "metadata": {},
   "source": [
    "Question1\n",
    "Create a function that takes an integer and returns a list from 1 to the given number, where:\n",
    "1.If the number can be divided evenly by 4, amplify it by 10 (i.e. return 10 times the number).\n",
    "2.If the number cannot be divided evenly by 4, simply return the number.\n",
    "Examples\n",
    "amplify(4) ➞ [1, 2, 3, 40]\n",
    "\n",
    "amplify(3) ➞ [1, 2, 3]\n",
    "\n",
    "amplify(25) ➞ [1, 2, 3, 40, 5, 6, 7, 80, 9, 10, 11, 120, 13, 14, 15, 160, 17, 18, 19, 200, 21, 22, 23, 240, 25]"
   ]
  },
  {
   "cell_type": "code",
   "execution_count": 5,
   "metadata": {},
   "outputs": [
    {
     "name": "stdout",
     "output_type": "stream",
     "text": [
      "[0, 1, 2, 3]\n",
      "[0, 1, 2, 3, 40, 5, 6, 7, 80, 9, 10, 11, 120, 13, 14, 15, 160, 17, 18, 19, 200, 21, 22, 23, 240, 25]\n",
      "[0, 1, 2, 3, 40]\n"
     ]
    }
   ],
   "source": [
    "def amplify(i):\n",
    "    list1=[]\n",
    "    for z in range(0,i+1):\n",
    "        if z%4 !=0:\n",
    "            list1.append(z)\n",
    "            \n",
    "        else:\n",
    "            list1.append(z*10)\n",
    "            \n",
    "    return list1\n",
    "\n",
    "res1=amplify(3)\n",
    "\n",
    "res2=amplify(25)\n",
    "\n",
    "res3=amplify(4)\n",
    "\n",
    "\n",
    "print(res1)\n",
    "print(res2)\n",
    "print(res3)"
   ]
  },
  {
   "cell_type": "code",
   "execution_count": null,
   "metadata": {},
   "outputs": [],
   "source": []
  },
  {
   "cell_type": "markdown",
   "metadata": {},
   "source": [
    "Question2\n",
    "Create a function that takes a list of numbers and return the number that's unique"
   ]
  },
  {
   "cell_type": "code",
   "execution_count": 4,
   "metadata": {},
   "outputs": [
    {
     "name": "stdout",
     "output_type": "stream",
     "text": [
      " the list with unique numbers is [1, 2, 3, 4, 7, 8]\n"
     ]
    }
   ],
   "source": [
    "def unique(list):\n",
    "    list2 =[]\n",
    "    frequency ={}\n",
    "    for item in list:\n",
    "        if item  in frequency:\n",
    "            frequency[item]+=1\n",
    "        \n",
    "        else:\n",
    "            frequency[item]=1\n",
    "    \n",
    "    for item in frequency.keys():\n",
    "        if frequency[item] >1:\n",
    "            pass\n",
    "        \n",
    "        else:\n",
    "            list2.append(item)\n",
    "    \n",
    "    return list2\n",
    "list =[1,2,3,4,5,5,6,6,7,8]\n",
    "\n",
    "res =unique(list)\n",
    "print(\" the list with unique numbers is {}\".format(res))"
   ]
  },
  {
   "cell_type": "code",
   "execution_count": null,
   "metadata": {},
   "outputs": [],
   "source": []
  },
  {
   "cell_type": "markdown",
   "metadata": {},
   "source": [
    "Question3\n",
    "Your task is to create a Circle constructor that creates a circle with a radius provided by an argument. The circles constructed must have two getters getArea() (PIr^2) and getPerimeter() (2PI*r) which give both respective areas and perimeter (circumference).\n",
    "For help with this class, I have provided you with a Rectangle constructor which you can use as a base example.\n",
    "Examples\n",
    "circy = Circle(11)\n",
    "circy.getArea()\n",
    "\n",
    "# Should return 380.132711084365\n",
    "\n",
    "circy = Circle(4.44)\n",
    "circy.getPerimeter()\n",
    "\n",
    "# Should return 27.897342763877365\n",
    "Notes\n",
    "Round results up to the nearest integer."
   ]
  },
  {
   "cell_type": "code",
   "execution_count": 6,
   "metadata": {},
   "outputs": [
    {
     "name": "stdout",
     "output_type": "stream",
     "text": [
      "380.13\n",
      "69.12\n"
     ]
    }
   ],
   "source": [
    "import math\n",
    "class Circle:\n",
    "    \n",
    "    def __init__(self,radius):\n",
    "        \n",
    "        self.radius =radius \n",
    "        \n",
    "    def getPerimeter(self):\n",
    "        \n",
    "        self.perimeter =round(math.pi*2*self.radius,2) \n",
    "        return self.perimeter\n",
    "    \n",
    "    def getArea(self):\n",
    "        self.Area =round(math.pi *(self.radius**2) ,2)\n",
    "        return self.Area\n",
    "    \n",
    "\n",
    "obj_Circle =Circle(11)\n",
    "print(obj_Circle.getArea())\n",
    "\n",
    "obj_Circle2=Circle(4.44)\n",
    "\n",
    "print(obj_Circle.getPerimeter())"
   ]
  },
  {
   "cell_type": "code",
   "execution_count": null,
   "metadata": {},
   "outputs": [],
   "source": []
  },
  {
   "cell_type": "markdown",
   "metadata": {},
   "source": [
    "Question4\n",
    "Create a function that takes a list of strings and return a list, sorted from shortest to longest.\n",
    "Examples\n",
    "sort_by_length([\"Google\", \"Apple\", \"Microsoft\"])\n",
    "➞ [\"Apple\", \"Google\", \"Microsoft\"]\n",
    "\n",
    "sort_by_length([\"Leonardo\", \"Michelangelo\", \"Raphael\", \"Donatello\"])\n",
    "➞ [\"Raphael\", \"Leonardo\", \"Donatello\", \"Michelangelo\"]\n",
    "\n",
    "sort_by_length([\"Turing\", \"Einstein\", \"Jung\"])\n",
    "➞ [\"Jung\", \"Turing\", \"Einstein\"]"
   ]
  },
  {
   "cell_type": "code",
   "execution_count": 13,
   "metadata": {},
   "outputs": [
    {
     "name": "stdout",
     "output_type": "stream",
     "text": [
      " the sorted list according to the length is ['Apple', 'Google', 'Microsoft'] \n",
      " the sorted list according to the length is ['Raphael', 'Leonardo', 'Donatello', 'Michelangelo'] \n",
      " the sorted list according to the length is ['Jung', 'Turing', 'Einstein'] \n"
     ]
    }
   ],
   "source": [
    "\n",
    "def sort_by_length(list):\n",
    "    list2= sorted(list ,key=len)       \n",
    "    \n",
    "    return list2\n",
    "list1 =[\"Google\", \"Apple\", \"Microsoft\"]\n",
    "list2 =[\"Leonardo\", \"Michelangelo\", \"Raphael\", \"Donatello\"]\n",
    "list3= [\"Turing\", \"Einstein\", \"Jung\"]\n",
    "print(\" the sorted list according to the length is {} \".format(sort_by_length(list1)))\n",
    "print(\" the sorted list according to the length is {} \".format(sort_by_length(list2)))\n",
    "print(\" the sorted list according to the length is {} \".format(sort_by_length(list3)))\n",
    "\n",
    "        "
   ]
  },
  {
   "cell_type": "code",
   "execution_count": null,
   "metadata": {},
   "outputs": [],
   "source": []
  },
  {
   "cell_type": "markdown",
   "metadata": {},
   "source": [
    "Question5\n",
    "Create a function that validates whether three given integers form a Pythagorean triplet. The sum of the squares of the two smallest integers must equal the square of the largest number to be validated."
   ]
  },
  {
   "cell_type": "code",
   "execution_count": 16,
   "metadata": {},
   "outputs": [
    {
     "name": "stdout",
     "output_type": "stream",
     "text": [
      "This is pythogorean triplet\n",
      "This is not a Pythogorean triplet\n",
      "This is pythogorean triplet\n"
     ]
    }
   ],
   "source": [
    "def is_triplet(a,b,c):\n",
    "    list=[a,b,c]\n",
    "    \n",
    "    list_sorted =sorted(list)\n",
    "    \n",
    "    if (list_sorted[0]**2 + list_sorted[1]**2) == list_sorted[2]**2:\n",
    "        print(\"This is pythogorean triplet\")\n",
    "        \n",
    "    else:\n",
    "        print(\"This is not a Pythogorean triplet\")\n",
    "        \n",
    "is_triplet(3,4,5)\n",
    "\n",
    "is_triplet(1,2,3)\n",
    "\n",
    "is_triplet(13,5,12)\n"
   ]
  },
  {
   "cell_type": "code",
   "execution_count": null,
   "metadata": {},
   "outputs": [],
   "source": []
  }
 ],
 "metadata": {
  "kernelspec": {
   "display_name": "Python 3",
   "language": "python",
   "name": "python3"
  },
  "language_info": {
   "codemirror_mode": {
    "name": "ipython",
    "version": 3
   },
   "file_extension": ".py",
   "mimetype": "text/x-python",
   "name": "python",
   "nbconvert_exporter": "python",
   "pygments_lexer": "ipython3",
   "version": "3.8.3"
  }
 },
 "nbformat": 4,
 "nbformat_minor": 4
}
