{
 "cells": [
  {
   "cell_type": "markdown",
   "metadata": {},
   "source": [
    "Question1\n",
    "Create a function that takes three integer arguments (a, b, c) and returns the amount of integers which are of equal value.\n",
    "Examples\n",
    "equal(3, 4, 3) ➞ 2\n",
    "\n",
    "equal(1, 1, 1) ➞ 3\n",
    "\n",
    "equal(3, 4, 1) ➞ 0 \n",
    "Notes\n",
    "Your function must return 0, 2 or 3."
   ]
  },
  {
   "cell_type": "code",
   "execution_count": 45,
   "metadata": {},
   "outputs": [
    {
     "name": "stdout",
     "output_type": "stream",
     "text": [
      "2\n",
      "3\n",
      "0\n"
     ]
    }
   ],
   "source": [
    "def equal(a,b,c):\n",
    "    d=1\n",
    "    \n",
    "    if a==b and b==c and c==a:\n",
    "        d=d+2\n",
    "        \n",
    "    \n",
    "    elif a == b:\n",
    "        d=d+1\n",
    "        \n",
    "    elif a ==c:\n",
    "        d=d+1\n",
    "        \n",
    "            \n",
    "    elif b==c:\n",
    "        d=d+1\n",
    "        \n",
    "    \n",
    "    elif a!=b and b!=c and c!=a:\n",
    "        d=0\n",
    "\n",
    "    return d\n",
    "res1 =equal(3,4,3)\n",
    "\n",
    "res2 =equal(1,1,1)\n",
    "\n",
    "res3=equal(3,4,1)\n",
    "\n",
    "print(res1)\n",
    "\n",
    "print(res2)\n",
    "\n",
    "print(res3)"
   ]
  },
  {
   "cell_type": "code",
   "execution_count": null,
   "metadata": {},
   "outputs": [],
   "source": []
  },
  {
   "cell_type": "markdown",
   "metadata": {},
   "source": [
    "Write a function that converts a dictionary into a list of keys-values tuples.\n",
    "Examples\n",
    "dict_to_list({\n",
    "  \"D\": 1,\n",
    "  \"B\": 2,\n",
    "  \"C\": 3\n",
    "}) ➞ [(\"B\", 2), (\"C\", 3), (\"D\", 1)]\n",
    "\n",
    "dict_to_list({\n",
    "  \"likes\": 2,\n",
    "  \"dislikes\": 3,\n",
    "  \"followers\": 10\n",
    "}) ➞ [(\"dislikes\", 3), (\"followers\", 10), (\"likes\", 2)]\n",
    "Notes\n",
    "Return the elements in the list in alphabetical order."
   ]
  },
  {
   "cell_type": "code",
   "execution_count": 53,
   "metadata": {},
   "outputs": [
    {
     "name": "stdout",
     "output_type": "stream",
     "text": [
      " The dictionary that we have entered is {'B': 2, 'C': 3, 'A': 4}\n",
      " the sorted list that is formed from the list is [('A', 4), ('B', 2), ('C', 3)]\n"
     ]
    }
   ],
   "source": [
    "def dict_to_list(dict):\n",
    "    \n",
    "    list =[]\n",
    "    for item in dict.items():\n",
    "        list.append(item)\n",
    "        \n",
    "    list_sorted =sorted(list)\n",
    "    \n",
    "    return list_sorted\n",
    "\n",
    "dict1 ={'B':2 ,'C':3 ,'A' :4}\n",
    "\n",
    "print(\" The dictionary that we have entered is {}\".format(dict1))\n",
    "\n",
    "print(' the sorted list that is formed from the list is {}'.format(dict_to_list(dict1)))\n",
    "\n"
   ]
  },
  {
   "cell_type": "code",
   "execution_count": null,
   "metadata": {},
   "outputs": [],
   "source": []
  },
  {
   "cell_type": "markdown",
   "metadata": {},
   "source": [
    "Question3\n",
    "Write a function that creates a dictionary with each (key, value) pair being the (lower case, upper case) versions of a letter, respectively.\n",
    "Examples\n",
    "mapping([\"p\", \"s\"]) ➞ { \"p\": \"P\", \"s\": \"S\" }"
   ]
  },
  {
   "cell_type": "code",
   "execution_count": 56,
   "metadata": {},
   "outputs": [
    {
     "name": "stdout",
     "output_type": "stream",
     "text": [
      "{'p': 'P', 's': 'S'}\n",
      "{'a': 'A', 'b': 'B', 'c': 'C'}\n",
      "{'a': 'A', 'v': 'V', 'y': 'Y', 'z': 'Z'}\n"
     ]
    }
   ],
   "source": [
    "def mapping(list):\n",
    "    \n",
    "    dict={}\n",
    "    for item in list:\n",
    "        dict[item]=item.upper()\n",
    "        \n",
    "    \n",
    "    return dict\n",
    "\n",
    "list =['p','s']\n",
    "\n",
    "res =mapping(list)\n",
    "\n",
    "print(res)\n",
    "\n",
    "res2 =mapping([\"a\", \"b\", \"c\"]) \n",
    "\n",
    "res3 =mapping([\"a\", \"v\", \"y\", \"z\"])\n",
    "\n",
    "print(res2)\n",
    "print(res3)"
   ]
  },
  {
   "cell_type": "code",
   "execution_count": null,
   "metadata": {},
   "outputs": [],
   "source": []
  },
  {
   "cell_type": "markdown",
   "metadata": {},
   "source": [
    "Question4\n",
    "Write a function, that replaces all vowels in a string with a specified vowel."
   ]
  },
  {
   "cell_type": "code",
   "execution_count": 73,
   "metadata": {},
   "outputs": [
    {
     "ename": "ImportError",
     "evalue": "cannot import name 'list' from 'typing' (c:\\users\\suvas\\appdata\\local\\programs\\python\\python38\\lib\\typing.py)",
     "output_type": "error",
     "traceback": [
      "\u001b[1;31m---------------------------------------------------------------------------\u001b[0m",
      "\u001b[1;31mImportError\u001b[0m                               Traceback (most recent call last)",
      "\u001b[1;32m<ipython-input-73-af50898bc035>\u001b[0m in \u001b[0;36m<module>\u001b[1;34m\u001b[0m\n\u001b[1;32m----> 1\u001b[1;33m \u001b[1;32mfrom\u001b[0m \u001b[0mtyping\u001b[0m \u001b[1;32mimport\u001b[0m \u001b[0mlist\u001b[0m\u001b[1;33m\u001b[0m\u001b[1;33m\u001b[0m\u001b[0m\n\u001b[0m\u001b[0;32m      2\u001b[0m \u001b[1;32mdef\u001b[0m \u001b[0mreplaceVowelsWithK\u001b[0m\u001b[1;33m(\u001b[0m\u001b[0mtest_str\u001b[0m\u001b[1;33m,\u001b[0m \u001b[0mK\u001b[0m\u001b[1;33m)\u001b[0m\u001b[1;33m:\u001b[0m\u001b[1;33m\u001b[0m\u001b[1;33m\u001b[0m\u001b[0m\n\u001b[0;32m      3\u001b[0m \u001b[1;33m\u001b[0m\u001b[0m\n\u001b[0;32m      4\u001b[0m \u001b[1;33m\u001b[0m\u001b[0m\n\u001b[0;32m      5\u001b[0m     \u001b[0mvowels_list\u001b[0m \u001b[1;33m=\u001b[0m \u001b[1;33m[\u001b[0m\u001b[1;34m'A'\u001b[0m\u001b[1;33m,\u001b[0m \u001b[1;34m'E'\u001b[0m\u001b[1;33m,\u001b[0m \u001b[1;34m'I'\u001b[0m\u001b[1;33m,\u001b[0m \u001b[1;34m'O'\u001b[0m\u001b[1;33m,\u001b[0m \u001b[1;34m'U'\u001b[0m\u001b[1;33m,\u001b[0m \u001b[1;34m'a'\u001b[0m\u001b[1;33m,\u001b[0m \u001b[1;34m'e'\u001b[0m\u001b[1;33m,\u001b[0m \u001b[1;34m'i'\u001b[0m\u001b[1;33m,\u001b[0m \u001b[1;34m'o'\u001b[0m\u001b[1;33m,\u001b[0m \u001b[1;34m'u'\u001b[0m\u001b[1;33m]\u001b[0m\u001b[1;33m\u001b[0m\u001b[1;33m\u001b[0m\u001b[0m\n",
      "\u001b[1;31mImportError\u001b[0m: cannot import name 'list' from 'typing' (c:\\users\\suvas\\appdata\\local\\programs\\python\\python38\\lib\\typing.py)"
     ]
    }
   ],
   "source": [
    "from typing import list\n",
    "def replaceVowelsWithK(test_str, K):\n",
    "  \n",
    "    \n",
    "    vowels_list = ['A', 'E', 'I', 'O', 'U', 'a', 'e', 'i', 'o', 'u']\n",
    "  \n",
    "    new_string = []\n",
    "  \n",
    "\n",
    "    string_list = list(test_str)\n",
    "    for char in string_list:\n",
    "        for char2 in vowels_list:\n",
    "            if char == char2:\n",
    "                new_string.append(K)\n",
    "                break\n",
    "        else:\n",
    "            new_string.append(char)\n",
    "\n",
    "    return(''.join(new_string))\n",
    "  \n",
    "    \n",
    "  \n",
    "\n",
    "input_str = \"apples and bananas\"\n",
    "  \n",
    "# specified character\n",
    "K = \"u\"\n",
    "\n",
    "print(\"Given Sting:\", input_str)\n",
    "print(\"Given Specified Character:\", K)\n",
    "\n",
    "print(\"Afer replacing vowels with the specified character:\",\n",
    "      replaceVowelsWithK(input_str, K))"
   ]
  },
  {
   "cell_type": "code",
   "execution_count": null,
   "metadata": {},
   "outputs": [],
   "source": []
  }
 ],
 "metadata": {
  "kernelspec": {
   "display_name": "Python 3",
   "language": "python",
   "name": "python3"
  },
  "language_info": {
   "codemirror_mode": {
    "name": "ipython",
    "version": 3
   },
   "file_extension": ".py",
   "mimetype": "text/x-python",
   "name": "python",
   "nbconvert_exporter": "python",
   "pygments_lexer": "ipython3",
   "version": "3.8.3"
  }
 },
 "nbformat": 4,
 "nbformat_minor": 4
}
