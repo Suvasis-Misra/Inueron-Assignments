{
 "cells": [
  {
   "cell_type": "markdown",
   "metadata": {},
   "source": [
    "1.Write a Python Program to find sum of array?"
   ]
  },
  {
   "cell_type": "code",
   "execution_count": 1,
   "metadata": {},
   "outputs": [
    {
     "name": "stdout",
     "output_type": "stream",
     "text": [
      "16\n"
     ]
    }
   ],
   "source": [
    "arr =[1,2,4,4,5]\n",
    "sum=0\n",
    "for i in arr:\n",
    "    sum =sum+i\n",
    "    \n",
    "print(sum)"
   ]
  },
  {
   "cell_type": "markdown",
   "metadata": {},
   "source": [
    "2.Write a Python Program to find largest element in an array?"
   ]
  },
  {
   "cell_type": "code",
   "execution_count": 2,
   "metadata": {},
   "outputs": [],
   "source": [
    "def largest_ele_array(array):\n",
    "    \n",
    "    max=arr[0]\n",
    "    \n",
    "    for i in range(1,len(array)):\n",
    "        if arr[i] > max:\n",
    "            max=arr[i]\n",
    "        \n",
    "        else:\n",
    "            pass\n",
    "    return max\n",
    "\n"
   ]
  },
  {
   "cell_type": "code",
   "execution_count": 3,
   "metadata": {},
   "outputs": [
    {
     "name": "stdout",
     "output_type": "stream",
     "text": [
      " the largest element of the array is 434\n"
     ]
    }
   ],
   "source": [
    "arr=[1,3,124,34,2,3,3,3,434,1,434,5]\n",
    "\n",
    "largest_element =largest_ele_array(arr)\n",
    "\n",
    "print(\" the largest element of the array is {}\" .format(largest_element))"
   ]
  },
  {
   "cell_type": "markdown",
   "metadata": {},
   "source": [
    "3.Write a Python Program for array rotation?"
   ]
  },
  {
   "cell_type": "code",
   "execution_count": 4,
   "metadata": {},
   "outputs": [
    {
     "name": "stdout",
     "output_type": "stream",
     "text": [
      " the old  array before  rotation is  [1, 2, 3, 4, 5, 6, 7, 8]\n",
      "the new array after rotation is  [8, 7, 6, 5, 4, 3, 2, 1]\n"
     ]
    }
   ],
   "source": [
    "arr =[1,2,3,4,5,6,7,8]\n",
    "temp=[]\n",
    "\n",
    "print(\" the old  array before  rotation is \" ,arr)\n",
    "for i in range(0,len(arr)):\n",
    "    temp.append(arr[i])\n",
    "\n",
    "rotated_arr= []\n",
    "for j in range(0,len(arr)):\n",
    "    arr[j] =temp[(len(temp)-1)-j]\n",
    "    \n",
    "    rotated_arr.append(arr[j])\n",
    "print(\"the new array after rotation is \",rotated_arr)"
   ]
  },
  {
   "cell_type": "markdown",
   "metadata": {},
   "source": [
    "Write a Python Program to Split the array and add the first part to the end?"
   ]
  },
  {
   "cell_type": "code",
   "execution_count": 5,
   "metadata": {},
   "outputs": [
    {
     "name": "stdout",
     "output_type": "stream",
     "text": [
      "the old array is  [1, 2, 4, 5, 6, 7]\n",
      "[1, 2, 4, 5, 6, 7]\n",
      " the new array is  [5, 6, 7, 1, 2, 4]\n"
     ]
    }
   ],
   "source": [
    "a =[1,2,4,5 ,6,7]\n",
    "\n",
    "b =[]\n",
    "\n",
    "print(\"the old array is \" ,a)\n",
    "temp=[]\n",
    "for i in range(0,len(a)):\n",
    "    temp.append(a[i])\n",
    "\n",
    "print(temp)\n",
    "\n",
    "for j in range(int(len(temp)/2) ,len(temp)):\n",
    "    b.append(temp[j])\n",
    "\n",
    "for m in range(0, int(len(temp)/2)):\n",
    "    b.append(temp[m])\n",
    "print(\" the new array is \" ,b)"
   ]
  },
  {
   "cell_type": "markdown",
   "metadata": {},
   "source": [
    "Write a Python Program to check if given array is Monotonic?"
   ]
  },
  {
   "cell_type": "code",
   "execution_count": 12,
   "metadata": {},
   "outputs": [
    {
     "name": "stdout",
     "output_type": "stream",
     "text": [
      "True\n"
     ]
    }
   ],
   "source": [
    "def monotonic(a):\n",
    "    n = len(a)\n",
    "    return (all(a[i]<=a[i+1] for i in range(n-1)) or\n",
    "            all(a[i]>=a[i+1] for i in range(n-1)))\n",
    "a = [6, 5, 4, 3, 2]\n",
    "print(monotonic(a))"
   ]
  },
  {
   "cell_type": "code",
   "execution_count": null,
   "metadata": {},
   "outputs": [],
   "source": [
    " "
   ]
  },
  {
   "cell_type": "code",
   "execution_count": null,
   "metadata": {},
   "outputs": [],
   "source": []
  }
 ],
 "metadata": {
  "kernelspec": {
   "display_name": "Python 3",
   "language": "python",
   "name": "python3"
  },
  "language_info": {
   "codemirror_mode": {
    "name": "ipython",
    "version": 3
   },
   "file_extension": ".py",
   "mimetype": "text/x-python",
   "name": "python",
   "nbconvert_exporter": "python",
   "pygments_lexer": "ipython3",
   "version": "3.8.3"
  }
 },
 "nbformat": 4,
 "nbformat_minor": 4
}
