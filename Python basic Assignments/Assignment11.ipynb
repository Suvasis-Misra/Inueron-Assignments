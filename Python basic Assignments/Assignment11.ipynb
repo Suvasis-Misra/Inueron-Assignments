{
 "cells": [
  {
   "cell_type": "markdown",
   "metadata": {},
   "source": [
    "1.Write a Python program to find words which are greater than given length k?"
   ]
  },
  {
   "cell_type": "code",
   "execution_count": 1,
   "metadata": {},
   "outputs": [
    {
     "name": "stdout",
     "output_type": "stream",
     "text": [
      "Enter a sentence as per your choiceThis is great\n",
      "Enter the ninimum length of the word2\n",
      "This\n",
      "great\n"
     ]
    }
   ],
   "source": [
    "sentence =input(\"Enter a sentence as per your choice\")\n",
    "\n",
    "length =int(input(\"Enter the ninimum length of the word\"))\n",
    "\n",
    "\n",
    "split_sentence =sentence.split()\n",
    "\n",
    "for i in split_sentence:\n",
    "    if len(i) >length :\n",
    "        print(i)"
   ]
  },
  {
   "cell_type": "markdown",
   "metadata": {},
   "source": [
    "2.Write a Python program for removing i-th character from a string?"
   ]
  },
  {
   "cell_type": "code",
   "execution_count": 2,
   "metadata": {},
   "outputs": [
    {
     "name": "stdout",
     "output_type": "stream",
     "text": [
      "Enter a string of your choiceSuvasis\n",
      " the string which is entered is Suvasis\n",
      "Please enter the index of the character that   you want to remvove from the string2\n",
      " the result string after removal of character is  Suasis\n"
     ]
    }
   ],
   "source": [
    "input_string =input(\"Enter a string of your choice\")\n",
    "\n",
    "result_string =\" \"\n",
    "\n",
    "print(\" the string which is entered is {}\" .format(input_string))\n",
    "char =int(input(\"Please enter the index of the character that   you want to remvove from the string\"))\n",
    "\n",
    "for i in range(0,len(input_string)):\n",
    "    if i !=char:\n",
    "        \n",
    "        result_string =result_string + input_string[i]\n",
    "        \n",
    "print(\" the result string after removal of character is {}\".format(result_string))\n",
    "\n"
   ]
  },
  {
   "cell_type": "markdown",
   "metadata": {},
   "source": [
    "3.Write a Python program to split and join a string?"
   ]
  },
  {
   "cell_type": "code",
   "execution_count": 3,
   "metadata": {},
   "outputs": [
    {
     "name": "stdout",
     "output_type": "stream",
     "text": [
      "Enter a string  of your choicethis is great\n",
      " the string that is formed is this is great\n",
      " the string after splitting is ['this', 'is', 'great'] \n",
      "the original string after joining is this is great \n"
     ]
    }
   ],
   "source": [
    "sentence =input(\"Enter a string  of your choice\")\n",
    "\n",
    "print(\" the string that is formed is {}\" .format(sentence))\n",
    "\n",
    "sentence_split =sentence.split()\n",
    "\n",
    "print(\" the string after splitting is {} \".format(sentence_split))\n",
    "\n",
    "sentence_join =\" \".join(sentence_split)\n",
    "\n",
    "print(\"the original string after joining is {} \".format(sentence_join))\n",
    "\n",
    "\n"
   ]
  },
  {
   "cell_type": "markdown",
   "metadata": {},
   "source": [
    "4.Write a Python to check if a given string is binary string or not?"
   ]
  },
  {
   "cell_type": "code",
   "execution_count": 9,
   "metadata": {},
   "outputs": [
    {
     "name": "stdout",
     "output_type": "stream",
     "text": [
      "Enter a string of your choice10101010110\n",
      "this is a binary string\n"
     ]
    }
   ],
   "source": [
    "string  =input(\"Enter a string of your choice\")\n",
    "count =0\n",
    "for i in string:\n",
    "    if i=='0' or i=='1':\n",
    "        count+=1\n",
    "        \n",
    "    else:\n",
    "        print('this is  not a binary string')\n",
    "        break\n",
    "else:\n",
    "    print(\"this is a binary string\")"
   ]
  },
  {
   "cell_type": "markdown",
   "metadata": {},
   "source": [
    "5.Write a Python program to find uncommon words from two Strings?"
   ]
  },
  {
   "cell_type": "code",
   "execution_count": 14,
   "metadata": {},
   "outputs": [
    {
     "name": "stdout",
     "output_type": "stream",
     "text": [
      "Enter the first string of your choiceDog is an animal\n",
      "Enter the second string of your choiceCat is an animal\n",
      " the uncommon words in Dog is an animal and Cat is an animal are   Dog Cat\n"
     ]
    }
   ],
   "source": [
    "input_string_1 =input(\"Enter the first string of your choice\")\n",
    "\n",
    "input_string_2 =input(\"Enter the second string of your choice\")\n",
    "\n",
    "def uncommon(a,b):\n",
    "\n",
    "    uc =\" \"\n",
    "    lista =a.split()\n",
    "    listb =b.split()\n",
    "\n",
    "    for i in lista :\n",
    "        if i not in listb:\n",
    "            uc =uc+ \" \" +i\n",
    "        \n",
    "    for j in listb:\n",
    "        if j not in lista:\n",
    "            uc =uc+ \" \" + j\n",
    "        \n",
    "        return uc\n",
    "\n",
    "\n",
    "uncommon_word = uncommon(input_string_1 ,input_string_2)\n",
    "\n",
    "print(\" the uncommon words in {} and {} are {}\" .format(input_string_1,input_string_2 ,uncommon_word) )\n",
    "\n"
   ]
  },
  {
   "cell_type": "markdown",
   "metadata": {},
   "source": [
    "6.Write a Python to find all duplicate characters in string?"
   ]
  },
  {
   "cell_type": "code",
   "execution_count": 2,
   "metadata": {},
   "outputs": [
    {
     "name": "stdout",
     "output_type": "stream",
     "text": [
      "Enter a string of your choicesuvasis\n",
      " the duplcates in the string is ['s', 's', 's']\n"
     ]
    }
   ],
   "source": [
    "s =input(\"Enter a string of your choice\")\n",
    "\n",
    "duplicates =[]\n",
    "\n",
    "for char in s:\n",
    "    if s.count(char) >1:\n",
    "        duplicates.append(char)\n",
    "\n",
    "print(\" the duplcates in the string is {}\" .format(duplicates))"
   ]
  },
  {
   "cell_type": "markdown",
   "metadata": {},
   "source": [
    "7.Write a Python Program to check if a string contains any special character?"
   ]
  },
  {
   "cell_type": "code",
   "execution_count": 9,
   "metadata": {},
   "outputs": [
    {
     "name": "stdout",
     "output_type": "stream",
     "text": [
      "Enter a string of your choicesuvasis\n",
      " there is no special character\n"
     ]
    }
   ],
   "source": [
    "list_special =['[','@','_' ,'!', '#' ,'$' ,'%' ,'^' ,'&', '*','(' ,')' ,'<' ,'>' ,'?' ,'/' ,'|' ,'}' ,'{' ,'~' ,':'']']\n",
    "\n",
    "\n",
    "s= input(\"Enter a string of your choice\")\n",
    "count =0\n",
    "for char in s:\n",
    "    if char  in list_special:\n",
    "        print(\" there is special character\")\n",
    "        break\n",
    "    \n",
    "\n",
    "else:\n",
    "    print(\" there is no special character\")"
   ]
  },
  {
   "cell_type": "code",
   "execution_count": null,
   "metadata": {},
   "outputs": [],
   "source": []
  }
 ],
 "metadata": {
  "kernelspec": {
   "display_name": "Python 3",
   "language": "python",
   "name": "python3"
  },
  "language_info": {
   "codemirror_mode": {
    "name": "ipython",
    "version": 3
   },
   "file_extension": ".py",
   "mimetype": "text/x-python",
   "name": "python",
   "nbconvert_exporter": "python",
   "pygments_lexer": "ipython3",
   "version": "3.8.3"
  }
 },
 "nbformat": 4,
 "nbformat_minor": 4
}
