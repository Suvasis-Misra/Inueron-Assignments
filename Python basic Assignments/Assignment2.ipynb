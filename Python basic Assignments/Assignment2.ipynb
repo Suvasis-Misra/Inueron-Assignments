{
 "cells": [
  {
   "cell_type": "markdown",
   "metadata": {},
   "source": [
    "1.Write a Python program to convert kilometers to miles?"
   ]
  },
  {
   "cell_type": "code",
   "execution_count": 7,
   "metadata": {},
   "outputs": [
    {
     "name": "stdout",
     "output_type": "stream",
     "text": [
      "enter the kilometers that you have to travel12\n",
      " the input kilometers in kms is 12.0kms and  miles is 7.456454279999999miles \n"
     ]
    }
   ],
   "source": [
    "input_km=float(input(\"enter the kilometers that you have to travel\"))\n",
    "\n",
    "input_km_in_miles =0.62137119 * input_km\n",
    "\n",
    "print(\" the input kilometers in kms is {}kms and  miles is {}miles \".format(input_km,input_km_in_miles))"
   ]
  },
  {
   "cell_type": "markdown",
   "metadata": {},
   "source": [
    "2.Write a Python program to convert Celsius to Fahrenheit?"
   ]
  },
  {
   "cell_type": "code",
   "execution_count": 11,
   "metadata": {},
   "outputs": [
    {
     "name": "stdout",
     "output_type": "stream",
     "text": [
      "enter the temperature in celsius37\n",
      " the temperature in celsius is 37.0 and the temperature in fahrenheit is 98.6\n"
     ]
    }
   ],
   "source": [
    "temperature_in_celsius = float(input('enter the temperature in celsius'))\n",
    "\n",
    "temperature_in_fahrenhiet = ((temperature_in_celsius *9) /5 ) + 32\n",
    "\n",
    "print(\" the temperature in celsius is {} and the temperature in fahrenheit is {}\" .format(temperature_in_celsius ,temperature_in_fahrenhiet))"
   ]
  },
  {
   "cell_type": "markdown",
   "metadata": {},
   "source": []
  },
  {
   "cell_type": "markdown",
   "metadata": {},
   "source": []
  },
  {
   "cell_type": "markdown",
   "metadata": {},
   "source": [
    "3.Write a Python program to display calendar"
   ]
  },
  {
   "cell_type": "code",
   "execution_count": 20,
   "metadata": {},
   "outputs": [
    {
     "name": "stdout",
     "output_type": "stream",
     "text": [
      "enter the year that you want to display in calendar1994\n",
      "enter the month that you want to display in the calendar11\n",
      "   November 1994\n",
      "Mo Tu We Th Fr Sa Su\n",
      "    1  2  3  4  5  6\n",
      " 7  8  9 10 11 12 13\n",
      "14 15 16 17 18 19 20\n",
      "21 22 23 24 25 26 27\n",
      "28 29 30\n",
      "\n"
     ]
    }
   ],
   "source": [
    "import calendar\n",
    "\n",
    "yy =int(input(\"enter the year that you want to display in calendar\"))\n",
    "\n",
    "mm= int(input('enter the month that you want to display in the calendar'))\n",
    "\n",
    "print(calendar.month(yy,mm))"
   ]
  },
  {
   "cell_type": "markdown",
   "metadata": {},
   "source": []
  },
  {
   "cell_type": "markdown",
   "metadata": {},
   "source": []
  },
  {
   "cell_type": "markdown",
   "metadata": {},
   "source": [
    "4.Write a Python program to solve quadratic equation"
   ]
  },
  {
   "cell_type": "code",
   "execution_count": 24,
   "metadata": {},
   "outputs": [
    {
     "name": "stdout",
     "output_type": "stream",
     "text": [
      "enter the value of the variable a1\n",
      "enter the value of the variable b5\n",
      "enter the value of the variable c6\n",
      " the standard form of the quadratic function is ax2+bx+c\n",
      "the root of the equation1 is -2.0\n",
      "the root of the equation is -15.0\n"
     ]
    }
   ],
   "source": [
    "import math\n",
    "a=float(input(\"enter the value of the variable a\"))\n",
    "\n",
    "b=float(input(\"enter the value of the variable b\"))\n",
    "\n",
    "c=float(input(\"enter the value of the variable c\"))\n",
    "\n",
    "print(\" the standard form of the quadratic function is ax2+bx+c\")\n",
    "\n",
    "d =b*b -4*a*c\n",
    "\n",
    "sol1 =(-b +math.sqrt(d))/2*a\n",
    "\n",
    "sol2 =(-b-math.sqrt(d))/2*b\n",
    "\n",
    "\n",
    "print(\"the root of the equation1 is {}\" .format(sol1))\n",
    "\n",
    "print(\"the root of the equation is {}\" .format(sol2))\n",
    "\n"
   ]
  },
  {
   "cell_type": "code",
   "execution_count": null,
   "metadata": {},
   "outputs": [],
   "source": []
  },
  {
   "cell_type": "markdown",
   "metadata": {},
   "source": [
    "5.Write a Python program to swap two variables without temp variable?"
   ]
  },
  {
   "cell_type": "code",
   "execution_count": 26,
   "metadata": {},
   "outputs": [
    {
     "name": "stdout",
     "output_type": "stream",
     "text": [
      "enter the value of the variable 1  2\n",
      "enter the value of the variable 2 3\n",
      " the variable a is 2 and the variable b is 3\n",
      "the variable a now is 3 and the variable b now is 2\n"
     ]
    }
   ],
   "source": [
    "a=int(input(\"enter the value of the variable 1 \"))\n",
    "\n",
    "b=int(input('enter the value of the variable 2' ))\n",
    "\n",
    "\n",
    "print(\" the variable a is {} and the variable b is {}\".format(a ,b) )\n",
    "\n",
    "a,b =b,a\n",
    "\n",
    "print('the variable a now is {} and the variable b now is {}'.format(a,b))\n"
   ]
  },
  {
   "cell_type": "code",
   "execution_count": null,
   "metadata": {},
   "outputs": [],
   "source": []
  }
 ],
 "metadata": {
  "kernelspec": {
   "display_name": "Python 3",
   "language": "python",
   "name": "python3"
  },
  "language_info": {
   "codemirror_mode": {
    "name": "ipython",
    "version": 3
   },
   "file_extension": ".py",
   "mimetype": "text/x-python",
   "name": "python",
   "nbconvert_exporter": "python",
   "pygments_lexer": "ipython3",
   "version": "3.8.3"
  }
 },
 "nbformat": 4,
 "nbformat_minor": 4
}
