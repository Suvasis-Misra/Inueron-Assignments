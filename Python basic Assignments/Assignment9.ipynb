{
 "cells": [
  {
   "cell_type": "markdown",
   "metadata": {},
   "source": [
    "Write a Python program to check if the given number is a Disarium Number?"
   ]
  },
  {
   "cell_type": "code",
   "execution_count": 1,
   "metadata": {},
   "outputs": [
    {
     "name": "stdout",
     "output_type": "stream",
     "text": [
      "Enter a number of your choice89\n",
      " it is a dissarium number \n"
     ]
    }
   ],
   "source": [
    "\n",
    "def calculated_length(num):\n",
    "    length =0\n",
    "    while num >0:\n",
    "        num =num//10\n",
    "        length =length +1\n",
    "    return length\n",
    "\n",
    "num =int(input(\"Enter a number of your choice\"))\n",
    "length =calculated_length(num)\n",
    "\n",
    "n=num\n",
    "sum =0\n",
    "while num >0:\n",
    "    rem =num %10 \n",
    "    sum =sum+int(rem**length)\n",
    "    length =length-1\n",
    "    num=num//10\n",
    "\n",
    "if sum ==n:\n",
    "    print(\" it is a dissarium number \")\n",
    "    \n",
    "else:\n",
    "    print(\" it is not a dissarum number\")\n",
    "\n",
    "\n",
    "      "
   ]
  },
  {
   "cell_type": "markdown",
   "metadata": {},
   "source": [
    "2.Write a Python program to print all disarium numbers between 1 to 100?"
   ]
  },
  {
   "cell_type": "code",
   "execution_count": 2,
   "metadata": {},
   "outputs": [
    {
     "name": "stdout",
     "output_type": "stream",
     "text": [
      " the dissarium number is 0\n",
      " the dissarium number is 1\n",
      " the dissarium number is 2\n",
      " the dissarium number is 3\n",
      " the dissarium number is 4\n",
      " the dissarium number is 5\n",
      " the dissarium number is 6\n",
      " the dissarium number is 7\n",
      " the dissarium number is 8\n",
      " the dissarium number is 9\n",
      " the dissarium number is 89\n"
     ]
    }
   ],
   "source": [
    "\n",
    "def calculated_length(num):\n",
    "    length =0\n",
    "    while num >0:\n",
    "        num =num//10\n",
    "        length =length +1\n",
    "    return length\n",
    "\n",
    "for num in range(0,100):\n",
    "    length =calculated_length(num)\n",
    "\n",
    "    n=num\n",
    "    sum =0\n",
    "    while num >0:\n",
    "        rem =num %10 \n",
    "        sum =sum+int(rem**length)\n",
    "        length =length-1\n",
    "        num=num//10\n",
    "\n",
    "    if sum ==n:\n",
    "        print(\" the dissarium number is {}\".format(n))\n",
    "\n",
    "    else:\n",
    "        pass\n"
   ]
  },
  {
   "cell_type": "markdown",
   "metadata": {},
   "source": [
    "3.Write a Python program to check if the given number is Happy Number?"
   ]
  },
  {
   "cell_type": "code",
   "execution_count": 7,
   "metadata": {},
   "outputs": [
    {
     "name": "stdout",
     "output_type": "stream",
     "text": [
      "82 is a happy number\n"
     ]
    }
   ],
   "source": [
    "   \n",
    "def isHappyNumber(num):    \n",
    "    rem = sum = 0;        \n",
    "    while(num > 0):    \n",
    "        rem = num%10;    \n",
    "        sum = sum + (rem*rem);    \n",
    "        num = num//10;    \n",
    "    return sum;    \n",
    "        \n",
    "num = 82;    \n",
    "result = num;    \n",
    "     \n",
    "while(result != 1 and result != 4):    \n",
    "    result = isHappyNumber(result);    \n",
    "     \n",
    "   \n",
    "if(result == 1):    \n",
    "    print(str(num) + \" is a happy number\");    \n",
    "    \n",
    "elif(result == 4):    \n",
    "    print(str(num) + \" is not a happy number\");  "
   ]
  },
  {
   "cell_type": "markdown",
   "metadata": {},
   "source": [
    "4.Write a Python program to print all happy numbers between 1 and 100?"
   ]
  },
  {
   "cell_type": "code",
   "execution_count": 11,
   "metadata": {},
   "outputs": [
    {
     "name": "stdout",
     "output_type": "stream",
     "text": [
      "1 is a happy number\n",
      "7 is a happy number\n",
      "10 is a happy number\n",
      "13 is a happy number\n",
      "19 is a happy number\n",
      "23 is a happy number\n",
      "28 is a happy number\n",
      "31 is a happy number\n",
      "32 is a happy number\n",
      "44 is a happy number\n",
      "49 is a happy number\n",
      "68 is a happy number\n",
      "70 is a happy number\n",
      "79 is a happy number\n",
      "82 is a happy number\n",
      "86 is a happy number\n",
      "91 is a happy number\n",
      "94 is a happy number\n",
      "97 is a happy number\n"
     ]
    }
   ],
   "source": [
    "   \n",
    "def isHappyNumber(num):    \n",
    "    rem = sum = 0;        \n",
    "    while(num > 0):    \n",
    "        rem = num%10;    \n",
    "        sum = sum + (rem*rem);    \n",
    "        num = num//10;    \n",
    "    return sum;    \n",
    "        \n",
    "for num in range(1,100):    \n",
    "    result = num   \n",
    "\n",
    "    while(result != 1 and result != 4):    \n",
    "        result = isHappyNumber(result)    \n",
    "\n",
    "\n",
    "    if(result == 1):    \n",
    "        print(str(num) + \" is a happy number\")    \n",
    "\n",
    "    elif(result == 4):    \n",
    "        pass"
   ]
  },
  {
   "cell_type": "markdown",
   "metadata": {},
   "source": [
    "5.Write a Python program to determine whether the given number is a Harshad Number?"
   ]
  },
  {
   "cell_type": "code",
   "execution_count": 15,
   "metadata": {},
   "outputs": [
    {
     "name": "stdout",
     "output_type": "stream",
     "text": [
      "Enter a number that you want to check whether it is a harshad number or not 156\n",
      "12\n",
      "this is a harshad number\n"
     ]
    }
   ],
   "source": [
    "def check_harshad_number(num):\n",
    "    sum =0\n",
    "    while num >0:\n",
    "        rem =num%10 \n",
    "        sum =sum + rem\n",
    "        num =num //10\n",
    "    \n",
    "    return sum\n",
    "\n",
    "num =int(input(\"Enter a number that you want to check whether it is a harshad number or not\"))\n",
    "\n",
    "result =num\n",
    "\n",
    "sum_no =check_harshad_number(num)\n",
    "\n",
    "\n",
    "if result %sum_no ==0:\n",
    "    print(\"this is a harshad number\")\n",
    "    \n",
    "else:\n",
    "    print(\"this is not a harshad number\")\n",
    "    \n",
    "    "
   ]
  },
  {
   "cell_type": "markdown",
   "metadata": {},
   "source": [
    "6.Write a Python program to print all pronic numbers between 1 and 100?"
   ]
  },
  {
   "cell_type": "code",
   "execution_count": 18,
   "metadata": {},
   "outputs": [
    {
     "name": "stdout",
     "output_type": "stream",
     "text": [
      " 1 is a harshad number \n",
      " 2 is a harshad number \n",
      " 3 is a harshad number \n",
      " 4 is a harshad number \n",
      " 5 is a harshad number \n",
      " 6 is a harshad number \n",
      " 7 is a harshad number \n",
      " 8 is a harshad number \n",
      " 9 is a harshad number \n",
      " 10 is a harshad number \n",
      " 12 is a harshad number \n",
      " 18 is a harshad number \n",
      " 20 is a harshad number \n",
      " 21 is a harshad number \n",
      " 24 is a harshad number \n",
      " 27 is a harshad number \n",
      " 30 is a harshad number \n",
      " 36 is a harshad number \n",
      " 40 is a harshad number \n",
      " 42 is a harshad number \n",
      " 45 is a harshad number \n",
      " 48 is a harshad number \n",
      " 50 is a harshad number \n",
      " 54 is a harshad number \n",
      " 60 is a harshad number \n",
      " 63 is a harshad number \n",
      " 70 is a harshad number \n",
      " 72 is a harshad number \n",
      " 80 is a harshad number \n",
      " 81 is a harshad number \n",
      " 84 is a harshad number \n",
      " 90 is a harshad number \n"
     ]
    }
   ],
   "source": [
    "def check_harshad_number(num):\n",
    "    sum =0\n",
    "    while num >0:\n",
    "        rem =num%10 \n",
    "        sum =sum + rem\n",
    "        num =num //10\n",
    "    \n",
    "    return sum\n",
    "\n",
    "for num in range(1,100):\n",
    "    \n",
    "    result =num\n",
    "    \n",
    "    sum_no =check_harshad_number(num)\n",
    "    \n",
    "    if result %sum_no ==0:\n",
    "        print(\" {} is a harshad number \".format(result))\n",
    "        \n",
    "    else:\n",
    "        pass"
   ]
  },
  {
   "cell_type": "code",
   "execution_count": null,
   "metadata": {},
   "outputs": [],
   "source": []
  }
 ],
 "metadata": {
  "kernelspec": {
   "display_name": "Python 3",
   "language": "python",
   "name": "python3"
  },
  "language_info": {
   "codemirror_mode": {
    "name": "ipython",
    "version": 3
   },
   "file_extension": ".py",
   "mimetype": "text/x-python",
   "name": "python",
   "nbconvert_exporter": "python",
   "pygments_lexer": "ipython3",
   "version": "3.8.3"
  }
 },
 "nbformat": 4,
 "nbformat_minor": 4
}
