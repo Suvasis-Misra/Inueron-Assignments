{
 "cells": [
  {
   "cell_type": "markdown",
   "metadata": {},
   "source": [
    "1-Please write a program using generator to print the numbers which can be divisible by 5 and 7 between 0 and n in comma separated form while n is input by console.\n",
    "Example:\n",
    "If the following n is given as input to the program:\n",
    "100\n",
    "Then, the output of the program should be:\n",
    "0,35,70"
   ]
  },
  {
   "cell_type": "code",
   "execution_count": 31,
   "metadata": {},
   "outputs": [
    {
     "name": "stdout",
     "output_type": "stream",
     "text": [
      "enter the numbers between 0 and n 100\n",
      "the numbers which are divisble by 5 and 7 in the range 0 -100 are 0,42,56,98\n"
     ]
    }
   ],
   "source": [
    "def number_divisible_by7():\n",
    "    n=int(input(\"enter the numbers between 0 and n\"))\n",
    "    for i in range(0,n):\n",
    "        if i & 5 ==0 and i % 7 ==0:\n",
    "            yield i\n",
    "    \n",
    "c=number_divisible_by7()\n",
    "\n",
    "list=[]\n",
    "\n",
    "for i in c:\n",
    "    list.append(str(i))\n",
    "\n",
    "print(\"the numbers which are divisble by 5 and 7 in the range 0 -100 are {}\".format(\",\" .join(list)))\n",
    "\n",
    "\n",
    "\n",
    "\n"
   ]
  },
  {
   "cell_type": "code",
   "execution_count": null,
   "metadata": {},
   "outputs": [],
   "source": []
  },
  {
   "cell_type": "markdown",
   "metadata": {},
   "source": [
    "Question 2:\n",
    "Please write a program using generator to print the even numbers between 0 and n in comma separated form while n is input by console.\n",
    "Example:\n",
    "If the following n is given as input to the program:\n",
    "10\n",
    "Then, the output of the program should be:\n",
    "0,2,4,6,8,10"
   ]
  },
  {
   "cell_type": "code",
   "execution_count": 34,
   "metadata": {},
   "outputs": [
    {
     "name": "stdout",
     "output_type": "stream",
     "text": [
      "Enter the numbers between 0 amd 100 100\n",
      " the even numbers between 0 and 100  are 0,2,4,6,8,10,12,14,16,18,20,22,24,26,28,30,32,34,36,38,40,42,44,46,48,50,52,54,56,58,60,62,64,66,68,70,72,74,76,78,80,82,84,86,88,90,92,94,96,98\n"
     ]
    }
   ],
   "source": [
    "def generator_even():\n",
    "    \n",
    "    n =int(input(\"Enter the numbers between 0 amd 100\"))\n",
    "    \n",
    "    for i in range(0,n):\n",
    "        if i % 2 ==0:\n",
    "            yield i\n",
    "            \n",
    "\n",
    "res =generator_even()\n",
    "\n",
    "list =[]\n",
    "for i in res:\n",
    "    list.append(str(i))\n",
    "    \n",
    "\n",
    "print(\" the even numbers between 0 and 100  are {}\".format(\",\".join(list)))\n",
    "    "
   ]
  },
  {
   "cell_type": "code",
   "execution_count": null,
   "metadata": {},
   "outputs": [],
   "source": []
  },
  {
   "cell_type": "markdown",
   "metadata": {},
   "source": [
    "Question 4:\n",
    "Assuming that we have some email addresses in the \"username@companyname.com\" format, please write program to print the user name of a given email address. Both user names and company names are composed of letters only.\n",
    "Example:\n",
    "If the following email address is given as input to the program:\n",
    "john@google.com\n",
    "Then, the output of the program should be:\n",
    "john"
   ]
  },
  {
   "cell_type": "code",
   "execution_count": 38,
   "metadata": {},
   "outputs": [
    {
     "name": "stdout",
     "output_type": "stream",
     "text": [
      "Enter the email address that  you want to entersuvasis@gmail.com\n",
      " the user name is suvasis\n"
     ]
    }
   ],
   "source": [
    "s =input(\"Enter the email address that  you want to enter\").split(\"@\")\n",
    "\n",
    "print(\" the user name is {}\".format(s[0]))"
   ]
  },
  {
   "cell_type": "code",
   "execution_count": null,
   "metadata": {},
   "outputs": [],
   "source": []
  },
  {
   "cell_type": "markdown",
   "metadata": {},
   "source": [
    "Define a class named Shape and its subclass Square. The Square class has an init function which takes a length as argument. Both classes have a area function which can print the area of the shape where Shape's area is 0 by default"
   ]
  },
  {
   "cell_type": "code",
   "execution_count": 47,
   "metadata": {},
   "outputs": [
    {
     "name": "stdout",
     "output_type": "stream",
     "text": [
      " the area is  25\n"
     ]
    }
   ],
   "source": [
    "class Shape:\n",
    "    \n",
    "    def __init__(self):\n",
    "        pass\n",
    "    \n",
    "    def area(self):\n",
    "        return 0\n",
    "\n",
    "class Square(Shape):\n",
    "    def __init__(self,l):\n",
    "        Shape.__init__(self)\n",
    "        self.l =l\n",
    "    \n",
    "    def area(self):\n",
    "        return self.l*self.l\n",
    "    \n",
    "\n",
    "square =Square(5)\n",
    "    \n",
    "c=square.area()\n",
    "\n",
    "print(\" the area is  {}\".format(c))"
   ]
  },
  {
   "cell_type": "code",
   "execution_count": null,
   "metadata": {},
   "outputs": [],
   "source": []
  }
 ],
 "metadata": {
  "kernelspec": {
   "display_name": "Python 3",
   "language": "python",
   "name": "python3"
  },
  "language_info": {
   "codemirror_mode": {
    "name": "ipython",
    "version": 3
   },
   "file_extension": ".py",
   "mimetype": "text/x-python",
   "name": "python",
   "nbconvert_exporter": "python",
   "pygments_lexer": "ipython3",
   "version": "3.8.3"
  }
 },
 "nbformat": 4,
 "nbformat_minor": 4
}
